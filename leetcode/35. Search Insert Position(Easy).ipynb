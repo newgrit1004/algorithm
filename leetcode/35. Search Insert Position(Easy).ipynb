{
 "cells": [
  {
   "cell_type": "markdown",
   "metadata": {},
   "source": [
    "# Solution #1"
   ]
  },
  {
   "cell_type": "code",
   "execution_count": 1,
   "metadata": {},
   "outputs": [],
   "source": [
    "\"\"\"\n",
    "LeetCode \n",
    "Problem Number : 35\n",
    "Problem Title : Search Insert Position\n",
    "Link : https://leetcode.com/problems/search-insert-position/\n",
    "Difficulty : Easy\n",
    "\"\"\"\n",
    "from typing import List\n",
    "class Solution:\n",
    "    def searchInsert(self, nums: List[int], target: int) -> int:\n",
    "        l , r = 0, len(nums)-1\n",
    "        while l <= r:\n",
    "            mid=(l+r)//2\n",
    "            if nums[mid] < target:\n",
    "                l = mid+1\n",
    "            else:\n",
    "                if nums[mid]== target and nums[mid-1]!=target:\n",
    "                    return mid\n",
    "                else:\n",
    "                    r = mid-1\n",
    "        return l"
   ]
  },
  {
   "cell_type": "code",
   "execution_count": 2,
   "metadata": {},
   "outputs": [
    {
     "name": "stdout",
     "output_type": "stream",
     "text": [
      "2\n",
      "1\n",
      "4\n"
     ]
    }
   ],
   "source": [
    "S = Solution()\n",
    "print(S.searchInsert([1,3,5,6], 5))\n",
    "print(S.searchInsert([1,3,5,6], 2))\n",
    "print(S.searchInsert([1,3,5,6], 7))"
   ]
  },
  {
   "cell_type": "code",
   "execution_count": null,
   "metadata": {},
   "outputs": [],
   "source": []
  }
 ],
 "metadata": {
  "kernelspec": {
   "display_name": "Python 3",
   "language": "python",
   "name": "python3"
  },
  "language_info": {
   "codemirror_mode": {
    "name": "ipython",
    "version": 3
   },
   "file_extension": ".py",
   "mimetype": "text/x-python",
   "name": "python",
   "nbconvert_exporter": "python",
   "pygments_lexer": "ipython3",
   "version": "3.8.3"
  }
 },
 "nbformat": 4,
 "nbformat_minor": 4
}
