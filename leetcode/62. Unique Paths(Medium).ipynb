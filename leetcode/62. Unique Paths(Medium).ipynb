{
 "cells": [
  {
   "cell_type": "code",
   "execution_count": 2,
   "id": "830cef89",
   "metadata": {},
   "outputs": [],
   "source": [
    "\"\"\"\n",
    "LeetCode \n",
    "Problem Number : 62\n",
    "Problem Title : Unique Paths\n",
    "Link : https://leetcode.com/problems/unique-paths/\n",
    "Difficulty : Medium\n",
    "\"\"\"\n",
    "\n",
    "class Solution:\n",
    "    def uniquePaths(self, m: int, n: int) -> int:\n",
    "        grid = [[0]*n for _ in range(m)]\n",
    "        grid[0] = [1]*n\n",
    "        for i in range(m):\n",
    "            grid[i][0] = 1\n",
    "        \n",
    "        for x in range(1, n):\n",
    "            for y in range(1, m):\n",
    "                grid[y][x] = grid[y][x-1] + grid[y-1][x]\n",
    "                \n",
    "        return grid[m-1][n-1]"
   ]
  },
  {
   "cell_type": "code",
   "execution_count": 3,
   "id": "8efc99eb",
   "metadata": {},
   "outputs": [],
   "source": [
    "S = Solution()"
   ]
  },
  {
   "cell_type": "code",
   "execution_count": 6,
   "id": "26ede937",
   "metadata": {},
   "outputs": [
    {
     "data": {
      "text/plain": [
       "28"
      ]
     },
     "execution_count": 6,
     "metadata": {},
     "output_type": "execute_result"
    }
   ],
   "source": [
    "S.uniquePaths(3,7)"
   ]
  },
  {
   "cell_type": "code",
   "execution_count": 7,
   "id": "2ee27221",
   "metadata": {},
   "outputs": [
    {
     "data": {
      "text/plain": [
       "3"
      ]
     },
     "execution_count": 7,
     "metadata": {},
     "output_type": "execute_result"
    }
   ],
   "source": [
    "S.uniquePaths(3,2)"
   ]
  },
  {
   "cell_type": "code",
   "execution_count": null,
   "id": "7b0cf845",
   "metadata": {},
   "outputs": [],
   "source": []
  }
 ],
 "metadata": {
  "kernelspec": {
   "display_name": "Python 3 (ipykernel)",
   "language": "python",
   "name": "python3"
  },
  "language_info": {
   "codemirror_mode": {
    "name": "ipython",
    "version": 3
   },
   "file_extension": ".py",
   "mimetype": "text/x-python",
   "name": "python",
   "nbconvert_exporter": "python",
   "pygments_lexer": "ipython3",
   "version": "3.9.7"
  }
 },
 "nbformat": 4,
 "nbformat_minor": 5
}
