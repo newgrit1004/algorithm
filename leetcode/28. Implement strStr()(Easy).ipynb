{
 "cells": [
  {
   "cell_type": "markdown",
   "id": "b29ec5c2",
   "metadata": {},
   "source": [
    "# Solution #1"
   ]
  },
  {
   "cell_type": "code",
   "execution_count": 1,
   "id": "f5130697",
   "metadata": {},
   "outputs": [],
   "source": [
    "\"\"\"\n",
    "LeetCode \n",
    "Problem Number : 28\n",
    "Problem Title : Implement strStr()\n",
    "Link : https://leetcode.com/problems/implement-strstr/\n",
    "Difficulty : Easy\n",
    "\"\"\"\n",
    "class Solution:\n",
    "    def strStr(self, haystack: str, needle: str) -> int:\n",
    "        if needle not in haystack:\n",
    "            return -1\n",
    "        return haystack.find(needle)"
   ]
  },
  {
   "cell_type": "code",
   "execution_count": 2,
   "id": "792248d7",
   "metadata": {},
   "outputs": [],
   "source": [
    "S = Solution()"
   ]
  },
  {
   "cell_type": "code",
   "execution_count": 3,
   "id": "affb5ffb",
   "metadata": {},
   "outputs": [
    {
     "data": {
      "text/plain": [
       "2"
      ]
     },
     "execution_count": 3,
     "metadata": {},
     "output_type": "execute_result"
    }
   ],
   "source": [
    "S.strStr('hello', 'll')"
   ]
  },
  {
   "cell_type": "code",
   "execution_count": 4,
   "id": "ea41c80a",
   "metadata": {},
   "outputs": [
    {
     "data": {
      "text/plain": [
       "-1"
      ]
     },
     "execution_count": 4,
     "metadata": {},
     "output_type": "execute_result"
    }
   ],
   "source": [
    "S.strStr('aaaaa', \"bba\")"
   ]
  },
  {
   "cell_type": "code",
   "execution_count": null,
   "id": "f443028e",
   "metadata": {},
   "outputs": [],
   "source": []
  }
 ],
 "metadata": {
  "kernelspec": {
   "display_name": "Python 3 (ipykernel)",
   "language": "python",
   "name": "python3"
  },
  "language_info": {
   "codemirror_mode": {
    "name": "ipython",
    "version": 3
   },
   "file_extension": ".py",
   "mimetype": "text/x-python",
   "name": "python",
   "nbconvert_exporter": "python",
   "pygments_lexer": "ipython3",
   "version": "3.9.7"
  }
 },
 "nbformat": 4,
 "nbformat_minor": 5
}
