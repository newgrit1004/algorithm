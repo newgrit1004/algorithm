{
 "cells": [
  {
   "cell_type": "code",
   "execution_count": 7,
   "metadata": {},
   "outputs": [],
   "source": [
    "\"\"\"\n",
    "LeetCode \n",
    "Problem Number : 101\n",
    "Problem Title : Symmetric Tree\n",
    "Link : https://leetcode.com/problems/symmetric-tree/\n",
    "Difficulty : Easy\n",
    "\"\"\"\n",
    "from collections import deque\n",
    "from typing import Optional\n",
    "# Definition for a binary tree node.\n",
    "class TreeNode:\n",
    "    def __init__(self, val=0, left=None, right=None):\n",
    "        self.val = val\n",
    "        self.left = left\n",
    "        self.right = right\n",
    "class Solution:\n",
    "    def isSymmetric(self, root: Optional[TreeNode]) -> bool:\n",
    "        if not root:\n",
    "            return True\n",
    "        \n",
    "        q = deque([root.left, root.right])\n",
    "        \n",
    "        while q:\n",
    "            t1, t2 = q.popleft(), q.popleft()\n",
    "\n",
    "            if not t1 and not t2:\n",
    "                continue\n",
    "            elif (not t1 or not t2) or (t1.val != t2.val):\n",
    "                return False\n",
    "            \n",
    "            q += [t1.left, t2.right, t1.right, t2.left]\n",
    "            \n",
    "        return True"
   ]
  }
 ],
 "metadata": {
  "kernelspec": {
   "display_name": "Python 3",
   "language": "python",
   "name": "python3"
  },
  "language_info": {
   "codemirror_mode": {
    "name": "ipython",
    "version": 3
   },
   "file_extension": ".py",
   "mimetype": "text/x-python",
   "name": "python",
   "nbconvert_exporter": "python",
   "pygments_lexer": "ipython3",
   "version": "3.8.3"
  }
 },
 "nbformat": 4,
 "nbformat_minor": 4
}
