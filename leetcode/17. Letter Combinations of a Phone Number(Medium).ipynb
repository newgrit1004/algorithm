{
 "cells": [
  {
   "cell_type": "code",
   "execution_count": 1,
   "metadata": {},
   "outputs": [],
   "source": [
    "\"\"\"\n",
    "LeetCode \n",
    "Problem Number : 17\n",
    "Problem Title : Letter Combinations of a Phone Number\n",
    "Link : https://leetcode.com/problems/letter-combinations-of-a-phone-number/\n",
    "Difficulty : Medium\n",
    "\"\"\"\n",
    "from typing import List\n",
    "import itertools\n",
    "class Solution:\n",
    "    def letterCombinations(self, digits: str) -> List[str]:\n",
    "        if not digits:\n",
    "            return []\n",
    "        \n",
    "        \n",
    "        nums = {2:['a','b','c'], 3:['d', 'e','f'], 4:['g', 'h', 'i'], 5:['j', 'k', 'l'],\n",
    "                6:['m','n','o'], 7:['p', 'q', 'r', 's'], 8:['t', 'u', 'v'], 9:['w','x','y','z']}\n",
    "        \n",
    "        \n",
    "        tmp = list()\n",
    "        digits = list(map(int, digits))\n",
    "        for i in digits:\n",
    "            if i in nums.keys(): # except 1\n",
    "                tmp.append(nums[i])\n",
    "        \n",
    "        ans = [''.join(i) for i in list(itertools.product(*tmp))]\n",
    "        return ans"
   ]
  },
  {
   "cell_type": "code",
   "execution_count": 2,
   "metadata": {},
   "outputs": [
    {
     "name": "stdout",
     "output_type": "stream",
     "text": [
      "['ad', 'ae', 'af', 'bd', 'be', 'bf', 'cd', 'ce', 'cf']\n",
      "[]\n",
      "['a', 'b', 'c']\n",
      "['wtpm', 'wtpn', 'wtpo', 'wtqm', 'wtqn', 'wtqo', 'wtrm', 'wtrn', 'wtro', 'wtsm', 'wtsn', 'wtso', 'wupm', 'wupn', 'wupo', 'wuqm', 'wuqn', 'wuqo', 'wurm', 'wurn', 'wuro', 'wusm', 'wusn', 'wuso', 'wvpm', 'wvpn', 'wvpo', 'wvqm', 'wvqn', 'wvqo', 'wvrm', 'wvrn', 'wvro', 'wvsm', 'wvsn', 'wvso', 'xtpm', 'xtpn', 'xtpo', 'xtqm', 'xtqn', 'xtqo', 'xtrm', 'xtrn', 'xtro', 'xtsm', 'xtsn', 'xtso', 'xupm', 'xupn', 'xupo', 'xuqm', 'xuqn', 'xuqo', 'xurm', 'xurn', 'xuro', 'xusm', 'xusn', 'xuso', 'xvpm', 'xvpn', 'xvpo', 'xvqm', 'xvqn', 'xvqo', 'xvrm', 'xvrn', 'xvro', 'xvsm', 'xvsn', 'xvso', 'ytpm', 'ytpn', 'ytpo', 'ytqm', 'ytqn', 'ytqo', 'ytrm', 'ytrn', 'ytro', 'ytsm', 'ytsn', 'ytso', 'yupm', 'yupn', 'yupo', 'yuqm', 'yuqn', 'yuqo', 'yurm', 'yurn', 'yuro', 'yusm', 'yusn', 'yuso', 'yvpm', 'yvpn', 'yvpo', 'yvqm', 'yvqn', 'yvqo', 'yvrm', 'yvrn', 'yvro', 'yvsm', 'yvsn', 'yvso', 'ztpm', 'ztpn', 'ztpo', 'ztqm', 'ztqn', 'ztqo', 'ztrm', 'ztrn', 'ztro', 'ztsm', 'ztsn', 'ztso', 'zupm', 'zupn', 'zupo', 'zuqm', 'zuqn', 'zuqo', 'zurm', 'zurn', 'zuro', 'zusm', 'zusn', 'zuso', 'zvpm', 'zvpn', 'zvpo', 'zvqm', 'zvqn', 'zvqo', 'zvrm', 'zvrn', 'zvro', 'zvsm', 'zvsn', 'zvso']\n"
     ]
    }
   ],
   "source": [
    "S = Solution()\n",
    "print(S.letterCombinations(\"23\"))\n",
    "print(S.letterCombinations(\"\"))\n",
    "print(S.letterCombinations(\"2\"))\n",
    "print(S.letterCombinations(\"9876\"))\n",
    "\n"
   ]
  },
  {
   "cell_type": "code",
   "execution_count": null,
   "metadata": {},
   "outputs": [],
   "source": []
  }
 ],
 "metadata": {
  "kernelspec": {
   "display_name": "Python 3",
   "language": "python",
   "name": "python3"
  },
  "language_info": {
   "codemirror_mode": {
    "name": "ipython",
    "version": 3
   },
   "file_extension": ".py",
   "mimetype": "text/x-python",
   "name": "python",
   "nbconvert_exporter": "python",
   "pygments_lexer": "ipython3",
   "version": "3.8.3"
  }
 },
 "nbformat": 4,
 "nbformat_minor": 4
}
