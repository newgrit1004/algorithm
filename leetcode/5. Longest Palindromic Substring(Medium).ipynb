{
 "cells": [
  {
   "cell_type": "markdown",
   "metadata": {},
   "source": [
    "# Solution #1"
   ]
  },
  {
   "cell_type": "code",
   "execution_count": 1,
   "metadata": {},
   "outputs": [],
   "source": [
    "\"\"\"\n",
    "LeetCode \n",
    "Problem Number : 5\n",
    "Problem Title : Longest Palindromic Substring\n",
    "Link : https://leetcode.com/problems/longest-palindromic-substring/\n",
    "Difficulty : Medium\n",
    "\"\"\"\n",
    "class Solution:\n",
    "    def longestPalindrome(self, s: str) -> str:\n",
    "        def isPalindrome(s):\n",
    "            return s==s[::-1]\n",
    "        \n",
    "        if len(s) < 2 or s == s[::-1]:\n",
    "            return s\n",
    "        ans = list()\n",
    "        for i in range(0, len(s)-1):\n",
    "            for j in range(i+1, len(s)):\n",
    "                tmp = s[i:j+1]        \n",
    "                if isPalindrome(tmp):\n",
    "                    ans.append(tmp)\n",
    "        \n",
    "        ans = sorted(ans, key=len, reverse=True)\n",
    "        if ans:\n",
    "            return ans[0]\n",
    "        else:\n",
    "            return s[0] #dealing with edge case during submission"
   ]
  },
  {
   "cell_type": "code",
   "execution_count": 2,
   "metadata": {},
   "outputs": [],
   "source": [
    "S = Solution()"
   ]
  },
  {
   "cell_type": "code",
   "execution_count": 3,
   "metadata": {},
   "outputs": [
    {
     "data": {
      "text/plain": [
       "'bab'"
      ]
     },
     "execution_count": 3,
     "metadata": {},
     "output_type": "execute_result"
    }
   ],
   "source": [
    "S.longestPalindrome(\"babad\")"
   ]
  },
  {
   "cell_type": "code",
   "execution_count": 4,
   "metadata": {},
   "outputs": [
    {
     "data": {
      "text/plain": [
       "'bb'"
      ]
     },
     "execution_count": 4,
     "metadata": {},
     "output_type": "execute_result"
    }
   ],
   "source": [
    "S.longestPalindrome(\"cbbd\")"
   ]
  },
  {
   "cell_type": "code",
   "execution_count": 5,
   "metadata": {},
   "outputs": [
    {
     "data": {
      "text/plain": [
       "'gjjg'"
      ]
     },
     "execution_count": 5,
     "metadata": {},
     "output_type": "execute_result"
    }
   ],
   "source": [
    "#time limit exceeded(different last executed inputs for every execute)\n",
    "S.longestPalindrome(\"qgecuralerljmghebsvkdxatotpbiqmxdyetorjhtmcxbgddcqwktfbpnrthsnctdmchbqqhmgtalwslepvrzsylxvlidzryqrvyoisfeqveqxivnslrtvegctcfdgfojjbohgqxxhltgaxqsfcuitjkyopbafjukbgyvkwddgbvznnvejxjlhgktoowpqlluabvhmoqnibhqlpmqgvhjdxthbhmrfrxlmxnhvhxsezehmvtxpdohjbgmnbvvemqhgaxpvytqyjrifubommzoeuqdidnmambohgegyfftsahhpoivetithnfuzppprkpovpymhqardzlohjwrfiyxcnqgdwslavpepmhopcqdabhmqsoqxjswitkwzkoefhfydeartdhreiyzgummxpbtmrxcogmtwjrhdejprotvhzebdvrbedsieznynuaxqcvuegtefvxltovozpqjqocqvnxkesbewmfeacmrmgehyvrfksbbctcmxnbqnlvogjjgzotghxdrpdzyyrdbpvgusyreehfkqxzcgdekjtahubwvcuiktwdczjxacwuqxrtbhjsoqmbqorihykbzcxlyteoourrhheveamoidfxqudkzrpfftcpropwjeymetuibsdatmbvlmjghexejvplaysxbguijitfvrlkgayprkljshhvlonydoxbcuvbwacyeuvzfqqzmanfioyrybcdhkvlizdagpskdcaloglhluokblzgsppcbj\")"
   ]
  },
  {
   "cell_type": "markdown",
   "metadata": {},
   "source": [
    "# Solution #2"
   ]
  },
  {
   "cell_type": "markdown",
   "metadata": {},
   "source": [
    "# DP"
   ]
  },
  {
   "cell_type": "markdown",
   "metadata": {},
   "source": [
    "source : https://leetcode.com/problems/longest-palindromic-substring/discuss/900639/Python-Solution-%3A-with-detailed-explanation-%3A-using-DP"
   ]
  },
  {
   "cell_type": "code",
   "execution_count": 6,
   "metadata": {},
   "outputs": [],
   "source": [
    "def longestPalindrome(self, s):\n",
    "        longest_palindrom = ''\n",
    "        dp = [[0]*len(s) for _ in range(len(s))]\n",
    "        #filling out the diagonal by 1\n",
    "        for i in range(len(s)):\n",
    "            dp[i][i] = True\n",
    "            longest_palindrom = s[i]\n",
    "\t\t\t\n",
    "        # filling the dp table\n",
    "        for i in range(len(s)-1,-1,-1):\n",
    "\t\t\t\t# j starts from the i location : to only work on the upper side of the diagonal \n",
    "            for j in range(i+1,len(s)):  \n",
    "                if s[i] == s[j]:  #if the chars mathces\n",
    "                    # if len slicied sub_string is just one letter if the characters are equal, we can say they are palindomr dp[i][j] =True \n",
    "                    #if the slicied sub_string is longer than 1, then we should check if the inner string is also palindrom (check dp[i+1][j-1] is True)\n",
    "                    if j-i ==1 or dp[i+1][j-1] is True:\n",
    "                        dp[i][j] = True\n",
    "                        # we also need to keep track of the maximum palindrom sequence \n",
    "                        if len(longest_palindrom) < len(s[i:j+1]):\n",
    "                            longest_palindrom = s[i:j+1]\n",
    "                \n",
    "        return longest_palindrom"
   ]
  },
  {
   "cell_type": "code",
   "execution_count": 7,
   "metadata": {},
   "outputs": [],
   "source": [
    "S = Solution()"
   ]
  },
  {
   "cell_type": "code",
   "execution_count": 8,
   "metadata": {},
   "outputs": [
    {
     "data": {
      "text/plain": [
       "'bab'"
      ]
     },
     "execution_count": 8,
     "metadata": {},
     "output_type": "execute_result"
    }
   ],
   "source": [
    "S.longestPalindrome(\"babad\")"
   ]
  },
  {
   "cell_type": "code",
   "execution_count": 9,
   "metadata": {},
   "outputs": [
    {
     "data": {
      "text/plain": [
       "'bb'"
      ]
     },
     "execution_count": 9,
     "metadata": {},
     "output_type": "execute_result"
    }
   ],
   "source": [
    "S.longestPalindrome(\"cbbd\")"
   ]
  },
  {
   "cell_type": "code",
   "execution_count": null,
   "metadata": {},
   "outputs": [],
   "source": []
  }
 ],
 "metadata": {
  "kernelspec": {
   "display_name": "Python 3",
   "language": "python",
   "name": "python3"
  },
  "language_info": {
   "codemirror_mode": {
    "name": "ipython",
    "version": 3
   },
   "file_extension": ".py",
   "mimetype": "text/x-python",
   "name": "python",
   "nbconvert_exporter": "python",
   "pygments_lexer": "ipython3",
   "version": "3.8.3"
  }
 },
 "nbformat": 4,
 "nbformat_minor": 4
}
