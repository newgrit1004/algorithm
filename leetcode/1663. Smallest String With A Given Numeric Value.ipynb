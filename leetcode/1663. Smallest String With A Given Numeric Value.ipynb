{
 "cells": [
  {
   "cell_type": "markdown",
   "metadata": {},
   "source": [
    "# Solution #1"
   ]
  },
  {
   "cell_type": "code",
   "execution_count": 1,
   "metadata": {},
   "outputs": [],
   "source": [
    "\"\"\"\n",
    "LeetCode \n",
    "Problem Number : 1663\n",
    "Problem Title : Smallest String With A Given Numeric Value\n",
    "Link : https://leetcode.com/problems/smallest-string-with-a-given-numeric-value/\n",
    "Difficulty : Medium\n",
    "\"\"\"\n",
    "class Solution:\n",
    "    def getSmallestString(self, n: int, k: int) -> str:\n",
    "        ans = list()\n",
    "        for i in range(n-1, -1, -1):\n",
    "            val = min(k-i, 26)\n",
    "            k -= val\n",
    "            ans.append(chr(ord('a')-1+val))\n",
    "        return ''.join(reversed(ans))"
   ]
  },
  {
   "cell_type": "code",
   "execution_count": 3,
   "metadata": {},
   "outputs": [
    {
     "name": "stdout",
     "output_type": "stream",
     "text": [
      "aay\n",
      "aaszz\n"
     ]
    }
   ],
   "source": [
    "S = Solution()\n",
    "print(S.getSmallestString(3, 27))\n",
    "print(S.getSmallestString(5, 73))"
   ]
  },
  {
   "cell_type": "code",
   "execution_count": null,
   "metadata": {},
   "outputs": [],
   "source": []
  }
 ],
 "metadata": {
  "kernelspec": {
   "display_name": "Python 3",
   "language": "python",
   "name": "python3"
  },
  "language_info": {
   "codemirror_mode": {
    "name": "ipython",
    "version": 3
   },
   "file_extension": ".py",
   "mimetype": "text/x-python",
   "name": "python",
   "nbconvert_exporter": "python",
   "pygments_lexer": "ipython3",
   "version": "3.8.3"
  }
 },
 "nbformat": 4,
 "nbformat_minor": 4
}
