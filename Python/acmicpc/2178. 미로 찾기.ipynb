{
 "cells": [
  {
   "cell_type": "code",
   "execution_count": 1,
   "id": "fd8469e9",
   "metadata": {},
   "outputs": [
    {
     "name": "stdout",
     "output_type": "stream",
     "text": [
      "4 6\n"
     ]
    }
   ],
   "source": [
    "\"\"\"\n",
    "Acmicpc(백준)\n",
    "Problem Number : 2178\n",
    "Problem Title : 미로 찾기\n",
    "Link : https://www.acmicpc.net/problem/2178\n",
    "Category : BFS\n",
    "\"\"\"\n",
    "import sys\n",
    "n, m = map(int, input().split())"
   ]
  },
  {
   "cell_type": "code",
   "execution_count": 2,
   "id": "37d1ba65",
   "metadata": {},
   "outputs": [
    {
     "name": "stdout",
     "output_type": "stream",
     "text": [
      "101111\n",
      "101010\n",
      "101011\n",
      "111011\n"
     ]
    }
   ],
   "source": [
    "graph = [list(map(int, input())) for _ in range(n)]"
   ]
  },
  {
   "cell_type": "code",
   "execution_count": 3,
   "id": "6c35c418",
   "metadata": {},
   "outputs": [],
   "source": [
    "from collections import deque\n",
    "\n",
    "dxs = [-1, 1, 0, 0]\n",
    "dys = [0, 0, -1, 1]\n",
    "\n",
    "def bfs(i, j):\n",
    "    queue = deque([(i,j)])    \n",
    "    while queue:\n",
    "        x, y = queue.popleft()\n",
    "        for dx, dy in zip(dxs, dys):\n",
    "            nx, ny = x+dx, y+dy\n",
    "            if nx<0 or nx>=n or ny<0 or ny>=m:\n",
    "                continue\n",
    "            if graph[nx][ny] == 1:\n",
    "                queue.append((nx,ny))\n",
    "                graph[nx][ny] = graph[x][y] + 1\n",
    "                \n",
    "                \n",
    "    return graph[n-1][m-1]\n",
    "    \n",
    "    "
   ]
  },
  {
   "cell_type": "code",
   "execution_count": 4,
   "id": "e0deca19",
   "metadata": {},
   "outputs": [
    {
     "data": {
      "text/plain": [
       "15"
      ]
     },
     "execution_count": 4,
     "metadata": {},
     "output_type": "execute_result"
    }
   ],
   "source": [
    "bfs(0, 0)"
   ]
  },
  {
   "cell_type": "code",
   "execution_count": null,
   "id": "8965db7c",
   "metadata": {},
   "outputs": [],
   "source": []
  }
 ],
 "metadata": {
  "kernelspec": {
   "display_name": "Python 3 (ipykernel)",
   "language": "python",
   "name": "python3"
  },
  "language_info": {
   "codemirror_mode": {
    "name": "ipython",
    "version": 3
   },
   "file_extension": ".py",
   "mimetype": "text/x-python",
   "name": "python",
   "nbconvert_exporter": "python",
   "pygments_lexer": "ipython3",
   "version": "3.9.7"
  }
 },
 "nbformat": 4,
 "nbformat_minor": 5
}
