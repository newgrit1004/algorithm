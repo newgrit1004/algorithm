{
 "cells": [
  {
   "cell_type": "code",
   "execution_count": 40,
   "id": "50548538",
   "metadata": {},
   "outputs": [
    {
     "name": "stdout",
     "output_type": "stream",
     "text": [
      "4 5 1\n",
      "1 2\n",
      "1 3\n",
      "1 4\n",
      "2 4\n",
      "3 4\n"
     ]
    }
   ],
   "source": [
    "\"\"\"\n",
    "Acmicpc(백준)\n",
    "Problem Number : 1260\n",
    "Problem Title : DFS와 BFS\n",
    "Link : https://www.acmicpc.net/problem/1260\n",
    "Category : DFS/BFS\n",
    "\n",
    "n : # of vertices\n",
    "m : # of edges\n",
    "v : start node\n",
    "\"\"\"\n",
    "n, m, v = map(int, input().split())\n",
    "\n",
    "graph = {i:[] for i in range(1, n+1)}\n",
    "\n",
    "for _ in range(m):\n",
    "    start, end = map(int, input().split())\n",
    "    graph[start] = graph.get(start, []) + [end]\n",
    "    graph[end] = graph.get(end, []) + [start]"
   ]
  },
  {
   "cell_type": "code",
   "execution_count": 41,
   "id": "0d19c0c8",
   "metadata": {},
   "outputs": [],
   "source": [
    "graph = {key:sorted(value) for key, value in graph.items()}"
   ]
  },
  {
   "cell_type": "code",
   "execution_count": 42,
   "id": "7a3671f3",
   "metadata": {},
   "outputs": [
    {
     "data": {
      "text/plain": [
       "{1: [2, 3, 4], 2: [1, 4], 3: [1, 4], 4: [1, 2, 3]}"
      ]
     },
     "execution_count": 42,
     "metadata": {},
     "output_type": "execute_result"
    }
   ],
   "source": [
    "graph"
   ]
  },
  {
   "cell_type": "code",
   "execution_count": 43,
   "id": "867cf90a",
   "metadata": {},
   "outputs": [],
   "source": [
    "visited = [0] * n"
   ]
  },
  {
   "cell_type": "code",
   "execution_count": 44,
   "id": "ebccfa19",
   "metadata": {},
   "outputs": [],
   "source": [
    "global dfs_list\n",
    "dfs_list = list()\n",
    "\n",
    "def dfs(node, visited):\n",
    "    dfs_list.append(node)\n",
    "    visited[node-1] = 1\n",
    "    for next_node in graph[node]:\n",
    "        if not visited[next_node-1]:\n",
    "            dfs(next_node, visited)\n",
    "            \n",
    "            "
   ]
  },
  {
   "cell_type": "code",
   "execution_count": 45,
   "id": "d0c63ae3",
   "metadata": {},
   "outputs": [],
   "source": [
    "dfs(v, visited)"
   ]
  },
  {
   "cell_type": "code",
   "execution_count": 46,
   "id": "5192dc2b",
   "metadata": {},
   "outputs": [
    {
     "data": {
      "text/plain": [
       "[1, 2, 4, 3]"
      ]
     },
     "execution_count": 46,
     "metadata": {},
     "output_type": "execute_result"
    }
   ],
   "source": [
    "dfs_list"
   ]
  },
  {
   "cell_type": "code",
   "execution_count": 47,
   "id": "39919a6a",
   "metadata": {},
   "outputs": [
    {
     "data": {
      "text/plain": [
       "{1: [2, 3, 4], 2: [1, 4], 3: [1, 4], 4: [1, 2, 3]}"
      ]
     },
     "execution_count": 47,
     "metadata": {},
     "output_type": "execute_result"
    }
   ],
   "source": [
    "graph"
   ]
  },
  {
   "cell_type": "code",
   "execution_count": 56,
   "id": "cf10f6bd",
   "metadata": {},
   "outputs": [],
   "source": [
    "from collections import deque\n",
    "\n",
    "global bfs_list\n",
    "bfs_list = list()\n",
    "\n",
    "def bfs(node, visited):\n",
    "    queue = deque([node])\n",
    "    while queue:\n",
    "        node = queue.popleft()\n",
    "        visited[node-1] = 1\n",
    "        bfs_list.append(node)\n",
    "        \n",
    "        for next_node in graph[node]:\n",
    "            if not visited[next_node-1]:\n",
    "                visited[next_node-1] = 1\n",
    "                queue.append(next_node)"
   ]
  },
  {
   "cell_type": "code",
   "execution_count": 57,
   "id": "b0b3d74e",
   "metadata": {},
   "outputs": [],
   "source": [
    "visited = [0] * n\n",
    "bfs(v, visited)"
   ]
  },
  {
   "cell_type": "code",
   "execution_count": 58,
   "id": "18579ef0",
   "metadata": {},
   "outputs": [
    {
     "name": "stdout",
     "output_type": "stream",
     "text": [
      "1 2 4 3\n"
     ]
    }
   ],
   "source": [
    "print(\" \".join(map(str, dfs_list)))"
   ]
  },
  {
   "cell_type": "code",
   "execution_count": 59,
   "id": "275a3347",
   "metadata": {},
   "outputs": [
    {
     "name": "stdout",
     "output_type": "stream",
     "text": [
      "1 2 3 4\n"
     ]
    }
   ],
   "source": [
    "print(\" \".join(map(str, bfs_list)))"
   ]
  },
  {
   "cell_type": "code",
   "execution_count": null,
   "id": "2000f648",
   "metadata": {},
   "outputs": [],
   "source": []
  }
 ],
 "metadata": {
  "kernelspec": {
   "display_name": "Python 3 (ipykernel)",
   "language": "python",
   "name": "python3"
  },
  "language_info": {
   "codemirror_mode": {
    "name": "ipython",
    "version": 3
   },
   "file_extension": ".py",
   "mimetype": "text/x-python",
   "name": "python",
   "nbconvert_exporter": "python",
   "pygments_lexer": "ipython3",
   "version": "3.9.7"
  }
 },
 "nbformat": 4,
 "nbformat_minor": 5
}
