{
 "cells": [
  {
   "cell_type": "code",
   "execution_count": 1,
   "id": "45d4e28f",
   "metadata": {},
   "outputs": [
    {
     "name": "stdout",
     "output_type": "stream",
     "text": [
      "7\n",
      "0110100\n",
      "0110101\n",
      "1110101\n",
      "0000111\n",
      "0100000\n",
      "0111110\n",
      "0111000\n"
     ]
    }
   ],
   "source": [
    "\"\"\"\n",
    "Acmicpc(백준)\n",
    "Problem Number : 2667\n",
    "Problem Title : 단지번호 붙이기\n",
    "Link : https://www.acmicpc.net/problem/2667\n",
    "Category : Graph, DFS/BFS\n",
    "\"\"\"\n",
    "N = int(input())\n",
    "\n",
    "graph = [list(map(int, input())) for _ in range(N)]"
   ]
  },
  {
   "cell_type": "code",
   "execution_count": 2,
   "id": "01b278af",
   "metadata": {},
   "outputs": [],
   "source": [
    "def dfs(i, j):\n",
    "    if i<0 or i>=N or j<0 or j>=N:#좌표가 좌표계를 벗어나면 pass\n",
    "        return\n",
    "    \n",
    "    if graph[i][j] == 1:\n",
    "        global count\n",
    "        count += 1\n",
    "        graph[i][j] = 0\n",
    "        dfs(i-1,j) #up\n",
    "        dfs(i+1,j) #down\n",
    "        dfs(i,j-1) #left\n",
    "        dfs(i, j+1) #right\n",
    "        return True\n",
    "    return False"
   ]
  },
  {
   "cell_type": "code",
   "execution_count": 3,
   "id": "8921bde3",
   "metadata": {},
   "outputs": [],
   "source": [
    "label_cnt = 0\n",
    "count = 0 \n",
    "ans = list()\n",
    "for i in range(N):\n",
    "    for j in range(N):\n",
    "        if dfs(i,j):\n",
    "            label_cnt += 1\n",
    "            ans.append(count)\n",
    "            count = 0 #label별로 다 셌으면 다시 0으로 초기화"
   ]
  },
  {
   "cell_type": "code",
   "execution_count": 4,
   "id": "a4551b42",
   "metadata": {},
   "outputs": [
    {
     "name": "stdout",
     "output_type": "stream",
     "text": [
      "3\n",
      "7\n",
      "8\n",
      "9\n"
     ]
    }
   ],
   "source": [
    "print(label_cnt)\n",
    "ans.sort() #오름차순으로 정렬하여 출력\n",
    "for i in ans:\n",
    "    print(i)"
   ]
  },
  {
   "cell_type": "code",
   "execution_count": null,
   "id": "2f381fdd",
   "metadata": {},
   "outputs": [],
   "source": []
  }
 ],
 "metadata": {
  "kernelspec": {
   "display_name": "Python 3 (ipykernel)",
   "language": "python",
   "name": "python3"
  },
  "language_info": {
   "codemirror_mode": {
    "name": "ipython",
    "version": 3
   },
   "file_extension": ".py",
   "mimetype": "text/x-python",
   "name": "python",
   "nbconvert_exporter": "python",
   "pygments_lexer": "ipython3",
   "version": "3.9.7"
  }
 },
 "nbformat": 4,
 "nbformat_minor": 5
}
