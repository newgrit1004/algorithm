{
 "cells": [
  {
   "cell_type": "code",
   "execution_count": null,
   "metadata": {},
   "outputs": [],
   "source": [
    "\"\"\"\n",
    "Acmicpc(백준)\n",
    "Problem Number : 1927\n",
    "Problem Title : 최소 힙\n",
    "Link : https://www.acmicpc.net/problem/1927\n",
    "Category : Heap\n",
    "\"\"\"\n",
    "import heapq\n",
    "import sys\n",
    "heap = list()\n",
    "input = sys.stdin.readline\n",
    "N = int(input()) \n",
    "for _ in range(N):\n",
    "    s = int(input())\n",
    "    if s != 0:\n",
    "        heapq.heappush(heap, s)\n",
    "    else:\n",
    "        if heap:\n",
    "            print(heapq.heappop(heap))\n",
    "        else:\n",
    "            print('0')"
   ]
  }
 ],
 "metadata": {
  "kernelspec": {
   "display_name": "Python 3",
   "language": "python",
   "name": "python3"
  },
  "language_info": {
   "codemirror_mode": {
    "name": "ipython",
    "version": 3
   },
   "file_extension": ".py",
   "mimetype": "text/x-python",
   "name": "python",
   "nbconvert_exporter": "python",
   "pygments_lexer": "ipython3",
   "version": "3.8.3"
  }
 },
 "nbformat": 4,
 "nbformat_minor": 4
}
