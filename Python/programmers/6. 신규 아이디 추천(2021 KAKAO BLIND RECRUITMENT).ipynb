{
 "cells": [
  {
   "cell_type": "code",
   "execution_count": 1,
   "metadata": {},
   "outputs": [],
   "source": [
    "\"\"\"\n",
    "Programmers\n",
    "Category : 정규 표현식, 문자열\n",
    "Problem Number : 6\n",
    "Problem Title : 신규 아이디 추천(2021 KAKAO BLIND RECRUITMENT)\n",
    "Link : https://programmers.co.kr/learn/courses/30/lessons/72410\n",
    "Difficulty : level 1\n",
    "\"\"\"\n",
    "\n",
    "import re\n",
    "def solution(new_id):\n",
    "    answer = new_id\n",
    "    answer = answer.lower() #1단계 : 모든 대문자를 소문자로 치환\n",
    "    answer = re.sub('[^0-9a-z-_.]', '', answer) #2단계 : 알파벳 소문자, 숫자, 빼기(-), 밑줄(_), 마침표(.) 제외한 모든 문자 치환\n",
    "    answer = re.sub('(([.])\\\\2{1,})', '.', answer) #3단계 : 연속된 같은 문자 변환(2개 이상)\n",
    "    answer = answer.strip('.') #4단계 양쪽 마침표 제거\n",
    "    if len(answer) == 0: #5단계 : 빈 문자열이면 a 대입\n",
    "        answer = 'a'\n",
    "    if len(answer) >= 16:\n",
    "        answer = answer[:15].rstrip('.') #6단계 : 길이가 16자 이상이면 첫 15문자 제외하고 제거. 제거 후 마침표가 끝에 위치하면 마침표 제거\n",
    "    if len(answer) <= 2: #7단계 : 길이가 2자 이하면 마지막 문자를 길이가 3이 될때까지 반복해서 붙임\n",
    "        N = len(answer)\n",
    "        answer = answer + (3-N)*answer[-1]\n",
    "        \n",
    "    return answer"
   ]
  },
  {
   "cell_type": "code",
   "execution_count": 2,
   "metadata": {},
   "outputs": [
    {
     "data": {
      "text/plain": [
       "'bat.y.abcdefghi'"
      ]
     },
     "execution_count": 2,
     "metadata": {},
     "output_type": "execute_result"
    }
   ],
   "source": [
    "new_id = \"...!@BaT#*..y.abcdefghijklm\"\n",
    "solution(new_id)"
   ]
  },
  {
   "cell_type": "code",
   "execution_count": 3,
   "metadata": {},
   "outputs": [
    {
     "data": {
      "text/plain": [
       "'z--'"
      ]
     },
     "execution_count": 3,
     "metadata": {},
     "output_type": "execute_result"
    }
   ],
   "source": [
    "new_id = \"z-+.^.\"\n",
    "solution(new_id)"
   ]
  },
  {
   "cell_type": "code",
   "execution_count": 4,
   "metadata": {},
   "outputs": [
    {
     "data": {
      "text/plain": [
       "'aaa'"
      ]
     },
     "execution_count": 4,
     "metadata": {},
     "output_type": "execute_result"
    }
   ],
   "source": [
    "new_id = \"=.=\"\n",
    "solution(new_id)"
   ]
  },
  {
   "cell_type": "code",
   "execution_count": 5,
   "metadata": {},
   "outputs": [
    {
     "data": {
      "text/plain": [
       "'123_.def'"
      ]
     },
     "execution_count": 5,
     "metadata": {},
     "output_type": "execute_result"
    }
   ],
   "source": [
    "new_id = \"123_.def\"\n",
    "solution(new_id)"
   ]
  },
  {
   "cell_type": "code",
   "execution_count": 6,
   "metadata": {},
   "outputs": [
    {
     "data": {
      "text/plain": [
       "'abcdefghijklmn'"
      ]
     },
     "execution_count": 6,
     "metadata": {},
     "output_type": "execute_result"
    }
   ],
   "source": [
    "new_id = \"abcdefghijklmn.p\"\n",
    "solution(new_id)"
   ]
  },
  {
   "cell_type": "code",
   "execution_count": null,
   "metadata": {},
   "outputs": [],
   "source": []
  }
 ],
 "metadata": {
  "kernelspec": {
   "display_name": "Python 3 (ipykernel)",
   "language": "python",
   "name": "python3"
  },
  "language_info": {
   "codemirror_mode": {
    "name": "ipython",
    "version": 3
   },
   "file_extension": ".py",
   "mimetype": "text/x-python",
   "name": "python",
   "nbconvert_exporter": "python",
   "pygments_lexer": "ipython3",
   "version": "3.9.7"
  }
 },
 "nbformat": 4,
 "nbformat_minor": 4
}
