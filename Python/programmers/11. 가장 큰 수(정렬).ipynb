{
 "cells": [
  {
   "cell_type": "code",
   "execution_count": null,
   "id": "7ee1876e",
   "metadata": {},
   "outputs": [],
   "source": [
    "\"\"\"\n",
    "Programmers\n",
    "Category : 문자열\n",
    "Problem Number : 10\n",
    "Problem Title : 가장 큰 수 \n",
    "Link : https://programmers.co.kr/learn/courses/30/lessons/42746?language=python3\n",
    "Difficulty : level 2\n",
    "\"\"\"\n",
    "def solution(numbers):\n",
    "    numbers = list(map(str, numbers))\n",
    "    numbers.sort(key=lambda x: x*3, reverse=True)\n",
    "    return str(int(''.join(numbers)))"
   ]
  }
 ],
 "metadata": {
  "kernelspec": {
   "display_name": "Python 3 (ipykernel)",
   "language": "python",
   "name": "python3"
  },
  "language_info": {
   "codemirror_mode": {
    "name": "ipython",
    "version": 3
   },
   "file_extension": ".py",
   "mimetype": "text/x-python",
   "name": "python",
   "nbconvert_exporter": "python",
   "pygments_lexer": "ipython3",
   "version": "3.9.7"
  }
 },
 "nbformat": 4,
 "nbformat_minor": 5
}
