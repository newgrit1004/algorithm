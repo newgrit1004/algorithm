{
 "cells": [
  {
   "cell_type": "code",
   "execution_count": null,
   "id": "ee836b65",
   "metadata": {},
   "outputs": [],
   "source": [
    "\"\"\"\n",
    "LeetCode \n",
    "Problem Number : 232\n",
    "Problem Title : Implement Queue using Stacks\n",
    "Link : https://leetcode.com/problems/implement-queue-using-stacks/\n",
    "Difficulty : Easy\n",
    "\"\"\"\n",
    "class MyQueue:\n",
    "    def __init__(self):\n",
    "        self.stack = list()\n",
    "\n",
    "    def push(self, x: int) -> None:\n",
    "        self.stack.append(x)\n",
    "\n",
    "    def pop(self) -> int:\n",
    "        return self.stack.pop(0)\n",
    "        \n",
    "    def peek(self) -> int:\n",
    "        return self.stack[0]\n",
    "\n",
    "    def empty(self) -> bool:\n",
    "        return False if self.stack else True\n",
    "\n",
    "\n",
    "# Your MyQueue object will be instantiated and called as such:\n",
    "# obj = MyQueue()\n",
    "# obj.push(x)\n",
    "# param_2 = obj.pop()\n",
    "# param_3 = obj.peek()\n",
    "# param_4 = obj.empty()"
   ]
  }
 ],
 "metadata": {
  "kernelspec": {
   "display_name": "Python 3 (ipykernel)",
   "language": "python",
   "name": "python3"
  },
  "language_info": {
   "codemirror_mode": {
    "name": "ipython",
    "version": 3
   },
   "file_extension": ".py",
   "mimetype": "text/x-python",
   "name": "python",
   "nbconvert_exporter": "python",
   "pygments_lexer": "ipython3",
   "version": "3.9.7"
  }
 },
 "nbformat": 4,
 "nbformat_minor": 5
}
