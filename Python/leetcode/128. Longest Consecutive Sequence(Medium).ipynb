{
 "cells": [
  {
   "cell_type": "markdown",
   "metadata": {},
   "source": [
    "# Solution #1"
   ]
  },
  {
   "cell_type": "code",
   "execution_count": null,
   "metadata": {},
   "outputs": [],
   "source": [
    "\"\"\"\n",
    "LeetCode\n",
    "Problem Number : 128\n",
    "Problem Title : Longest Consecutive Sequence\n",
    "Link : https://leetcode.com/problems/longest-consecutive-sequence/\n",
    "Difficulty : Medium\n",
    "\"\"\"\n",
    "from typing import List\n",
    "class Solution:\n",
    "    def longestConsecutive(self, nums: List[int]) -> int:\n",
    "        nums.sort()\n",
    "        longest, cur_longest = 0, min(1, len(nums))\n",
    "        for i in range(1,len(nums)):\n",
    "            if nums[i] == nums[i - 1] :\n",
    "                continue\n",
    "            if nums[i] == nums[i - 1] + 1:\n",
    "                cur_longest += 1\n",
    "            else:\n",
    "                longest, cur_longest = max(longest, cur_longest), 1\n",
    "        return max(longest, cur_longest)"
   ]
  }
 ],
 "metadata": {
  "kernelspec": {
   "display_name": "Python 3.8.7 64-bit",
   "language": "python",
   "name": "python3"
  },
  "language_info": {
   "name": "python",
   "version": "3.8.7"
  },
  "orig_nbformat": 4,
  "vscode": {
   "interpreter": {
    "hash": "19474b377433e26681bec06910cb7c945afa2d39e50483569fb199d272b8a48a"
   }
  }
 },
 "nbformat": 4,
 "nbformat_minor": 2
}
