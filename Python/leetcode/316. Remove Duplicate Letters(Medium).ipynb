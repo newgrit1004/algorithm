{
 "cells": [
  {
   "cell_type": "code",
   "execution_count": 1,
   "id": "6311ef06",
   "metadata": {},
   "outputs": [],
   "source": [
    "\"\"\"\n",
    "LeetCode \n",
    "Problem Number : 316\n",
    "Problem Title : Remove Duplicate Letters\n",
    "Link : https://leetcode.com/problems/remove-duplicate-letters/\n",
    "Difficulty : Medium\n",
    "\"\"\"\n",
    "class Solution:\n",
    "    def removeDuplicateLetters(self, s: str) -> str:\n",
    "        last_pos = dict()\n",
    "        for idx, val in enumerate(s):\n",
    "            last_pos[val] = idx\n",
    "        stack = []\n",
    "        for idx, val in enumerate(s):\n",
    "            if val in stack:#현재 문자가 stack에 이미 있을 경우, continue\n",
    "                continue\n",
    "            while stack and val < stack[-1] and last_pos[stack[-1]] > idx:\n",
    "                #현재 문자가 스택에 없는 문자이고(stack), 현재 문자가 스택의 마지막 문자보다 앞선 문자이며(lexicographical order),\n",
    "                #스택의 마지막 문자의 last position이 idx보다 크다면, 스택에 쌓아둔걸 꺼내서 없앤다.\n",
    "                stack.pop()\n",
    "            stack.append(val)\n",
    "        return ''.join(stack)"
   ]
  },
  {
   "cell_type": "code",
   "execution_count": 2,
   "id": "0a5f0974",
   "metadata": {},
   "outputs": [],
   "source": [
    "S = Solution()"
   ]
  },
  {
   "cell_type": "code",
   "execution_count": 3,
   "id": "840f68f4",
   "metadata": {},
   "outputs": [
    {
     "data": {
      "text/plain": [
       "'abc'"
      ]
     },
     "execution_count": 3,
     "metadata": {},
     "output_type": "execute_result"
    }
   ],
   "source": [
    "S.removeDuplicateLetters(\"bcabc\")"
   ]
  },
  {
   "cell_type": "code",
   "execution_count": 4,
   "id": "33cfbf75",
   "metadata": {},
   "outputs": [
    {
     "data": {
      "text/plain": [
       "'acdb'"
      ]
     },
     "execution_count": 4,
     "metadata": {},
     "output_type": "execute_result"
    }
   ],
   "source": [
    "S.removeDuplicateLetters(\"cdacdcbc\")"
   ]
  },
  {
   "cell_type": "code",
   "execution_count": null,
   "id": "f70caf78",
   "metadata": {},
   "outputs": [],
   "source": []
  }
 ],
 "metadata": {
  "kernelspec": {
   "display_name": "Python 3 (ipykernel)",
   "language": "python",
   "name": "python3"
  },
  "language_info": {
   "codemirror_mode": {
    "name": "ipython",
    "version": 3
   },
   "file_extension": ".py",
   "mimetype": "text/x-python",
   "name": "python",
   "nbconvert_exporter": "python",
   "pygments_lexer": "ipython3",
   "version": "3.9.7"
  }
 },
 "nbformat": 4,
 "nbformat_minor": 5
}
