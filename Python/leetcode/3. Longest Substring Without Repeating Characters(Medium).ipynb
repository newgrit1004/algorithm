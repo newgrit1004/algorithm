{
 "cells": [
  {
   "cell_type": "code",
   "execution_count": null,
   "id": "1a1c20c6",
   "metadata": {},
   "outputs": [],
   "source": [
    "\"\"\"\n",
    "LeetCode \n",
    "Problem Number : 3\n",
    "Problem Title : Longest Substring Without Repeating Characters\n",
    "Link : https://leetcode.com/problems/longest-substring-without-repeating-characters/\n",
    "Difficulty : Medium\n",
    "\"\"\"\n",
    "class Solution:\n",
    "    def lengthOfLongestSubstring(self, s: str) -> int:\n",
    "        used = {}\n",
    "        max_length = start = 0\n",
    "        for idx, val in enumerate(s):\n",
    "            if val in used and start<=used[val]:\n",
    "                start = idx + 1\n",
    "            else:\n",
    "                max_length = max(max_length, idx-start+1)\n",
    "            \n",
    "            used[val] = idx\n",
    "            \n",
    "        return max_length"
   ]
  }
 ],
 "metadata": {
  "kernelspec": {
   "display_name": "Python 3 (ipykernel)",
   "language": "python",
   "name": "python3"
  },
  "language_info": {
   "codemirror_mode": {
    "name": "ipython",
    "version": 3
   },
   "file_extension": ".py",
   "mimetype": "text/x-python",
   "name": "python",
   "nbconvert_exporter": "python",
   "pygments_lexer": "ipython3",
   "version": "3.9.7"
  }
 },
 "nbformat": 4,
 "nbformat_minor": 5
}
