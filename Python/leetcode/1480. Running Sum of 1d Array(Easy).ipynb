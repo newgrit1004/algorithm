{
 "cells": [
  {
   "cell_type": "code",
   "execution_count": null,
   "id": "54a31ecd",
   "metadata": {},
   "outputs": [],
   "source": [
    "\"\"\"\n",
    "LeetCode \n",
    "Problem Number : 1480\n",
    "Problem Title : Running Sum of 1d Array\n",
    "Link : https://leetcode.com/problems/running-sum-of-1d-array/\n",
    "Difficulty : Easy\n",
    "\"\"\"\n",
    "from typing import List\n",
    "class Solution:\n",
    "    def runningSum(self, nums: List[int]) -> List[int]:\n",
    "        ans = list()\n",
    "        ans.append(nums[0])\n",
    "        for i in range(1, len(nums)):\n",
    "            ans.append(ans[i-1]+nums[i])\n",
    "            \n",
    "        return ans\n",
    "        "
   ]
  }
 ],
 "metadata": {
  "kernelspec": {
   "display_name": "Python 3 (ipykernel)",
   "language": "python",
   "name": "python3"
  },
  "language_info": {
   "codemirror_mode": {
    "name": "ipython",
    "version": 3
   },
   "file_extension": ".py",
   "mimetype": "text/x-python",
   "name": "python",
   "nbconvert_exporter": "python",
   "pygments_lexer": "ipython3",
   "version": "3.9.7"
  }
 },
 "nbformat": 4,
 "nbformat_minor": 5
}
