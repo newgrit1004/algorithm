{
 "cells": [
  {
   "cell_type": "markdown",
   "id": "e2d1e752",
   "metadata": {},
   "source": [
    "# Solution #1"
   ]
  },
  {
   "cell_type": "code",
   "execution_count": null,
   "id": "57943376",
   "metadata": {},
   "outputs": [],
   "source": [
    "\"\"\"\n",
    "LeetCode \n",
    "Problem Number : 704\n",
    "Problem Title : Binary Search\n",
    "Link : https://leetcode.com/problems/binary-search/\n",
    "Difficulty : Easy\n",
    "\"\"\"\n",
    "class Solution:\n",
    "    def search(self, nums: List[int], target: int) -> int:\n",
    "        return nums.index(target) if target in nums else -1"
   ]
  },
  {
   "cell_type": "markdown",
   "id": "3a9ff6c1",
   "metadata": {},
   "source": [
    "# Solution #2"
   ]
  },
  {
   "cell_type": "code",
   "execution_count": null,
   "id": "45478b57",
   "metadata": {},
   "outputs": [],
   "source": [
    "class Solution:\n",
    "    def search(self, nums: List[int], target: int) -> int:\n",
    "        l, r = 0, len(nums) - 1\n",
    "        while l<=r:\n",
    "            mid = (l+r)//2\n",
    "            if nums[mid]<target:\n",
    "                l = mid+1\n",
    "            elif nums[mid]>target:\n",
    "                r = mid-1\n",
    "            else:\n",
    "                return mid\n",
    "        return -1"
   ]
  },
  {
   "cell_type": "markdown",
   "id": "f60fafd4",
   "metadata": {},
   "source": [
    "# Solution #3"
   ]
  },
  {
   "cell_type": "code",
   "execution_count": null,
   "id": "d95bb9bc",
   "metadata": {},
   "outputs": [],
   "source": [
    "class Solution:\n",
    "    def search(self, nums, target):\n",
    "        index = bisect.bisect_left(nums, target)\n",
    "        return index if index < len(nums) and nums[index] == target else -1"
   ]
  }
 ],
 "metadata": {
  "kernelspec": {
   "display_name": "Python 3 (ipykernel)",
   "language": "python",
   "name": "python3"
  },
  "language_info": {
   "codemirror_mode": {
    "name": "ipython",
    "version": 3
   },
   "file_extension": ".py",
   "mimetype": "text/x-python",
   "name": "python",
   "nbconvert_exporter": "python",
   "pygments_lexer": "ipython3",
   "version": "3.9.7"
  }
 },
 "nbformat": 4,
 "nbformat_minor": 5
}
