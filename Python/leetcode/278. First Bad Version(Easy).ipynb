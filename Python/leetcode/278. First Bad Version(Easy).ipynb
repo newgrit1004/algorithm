{
 "cells": [
  {
   "cell_type": "code",
   "execution_count": null,
   "id": "8f2fcf46",
   "metadata": {},
   "outputs": [],
   "source": [
    "\"\"\"\n",
    "LeetCode \n",
    "Problem Number : 278\n",
    "Problem Title : First Bad Version\n",
    "Link : https://leetcode.com/problems/first-bad-version/\n",
    "Difficulty : Easy\n",
    "\"\"\"\n",
    "class Solution:\n",
    "    def firstBadVersion(self, n: int) -> int:\n",
    "        f = isBadVersion #replace long function name with short name\n",
    "        l, r = 1, n\n",
    "        while l<=r:\n",
    "            mid = (l+r)//2\n",
    "            if f(mid)==False:\n",
    "                l = mid +1\n",
    "            else:\n",
    "                r = mid -1\n",
    "        \n",
    "        return l"
   ]
  }
 ],
 "metadata": {
  "kernelspec": {
   "display_name": "Python 3 (ipykernel)",
   "language": "python",
   "name": "python3"
  },
  "language_info": {
   "codemirror_mode": {
    "name": "ipython",
    "version": 3
   },
   "file_extension": ".py",
   "mimetype": "text/x-python",
   "name": "python",
   "nbconvert_exporter": "python",
   "pygments_lexer": "ipython3",
   "version": "3.9.7"
  }
 },
 "nbformat": 4,
 "nbformat_minor": 5
}
