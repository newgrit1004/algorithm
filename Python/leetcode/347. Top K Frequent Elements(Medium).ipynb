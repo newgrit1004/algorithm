{
 "cells": [
  {
   "cell_type": "markdown",
   "metadata": {},
   "source": [
    "# Solution #1"
   ]
  },
  {
   "cell_type": "code",
   "execution_count": 1,
   "metadata": {},
   "outputs": [],
   "source": [
    "\"\"\"\n",
    "LeetCode \n",
    "Problem Number : 347\n",
    "Problem Title : Top K Frequent Elements\n",
    "Link : https://leetcode.com/problems/top-k-frequent-elements/\n",
    "Difficulty : Medium\n",
    "\"\"\"\n",
    "from typing import List\n",
    "from collections import Counter\n",
    "class Solution:\n",
    "    def topKFrequent(self, nums: List[int], k: int) -> List[int]:\n",
    "        ans = list()\n",
    "        for i in Counter(nums).most_common(k):\n",
    "            ans.append(i[0])\n",
    "        return ans"
   ]
  },
  {
   "cell_type": "code",
   "execution_count": 2,
   "metadata": {},
   "outputs": [
    {
     "name": "stdout",
     "output_type": "stream",
     "text": [
      "[1, 2]\n",
      "[1]\n"
     ]
    }
   ],
   "source": [
    "S = Solution()\n",
    "print(S.topKFrequent([1,1,1,2,2,3], 2))\n",
    "print(S.topKFrequent([1], 1))"
   ]
  },
  {
   "cell_type": "code",
   "execution_count": null,
   "metadata": {},
   "outputs": [],
   "source": []
  }
 ],
 "metadata": {
  "kernelspec": {
   "display_name": "Python 3",
   "language": "python",
   "name": "python3"
  },
  "language_info": {
   "codemirror_mode": {
    "name": "ipython",
    "version": 3
   },
   "file_extension": ".py",
   "mimetype": "text/x-python",
   "name": "python",
   "nbconvert_exporter": "python",
   "pygments_lexer": "ipython3",
   "version": "3.8.3"
  }
 },
 "nbformat": 4,
 "nbformat_minor": 4
}
