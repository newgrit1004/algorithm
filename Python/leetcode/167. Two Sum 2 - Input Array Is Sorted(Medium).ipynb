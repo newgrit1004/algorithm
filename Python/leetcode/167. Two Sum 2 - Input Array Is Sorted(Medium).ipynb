{
 "cells": [
  {
   "cell_type": "markdown",
   "metadata": {},
   "source": [
    "# Solution #1"
   ]
  },
  {
   "cell_type": "code",
   "execution_count": 1,
   "metadata": {},
   "outputs": [],
   "source": [
    "\"\"\"\n",
    "LeetCode\n",
    "Problem Number : 167\n",
    "Problem Title : Two Sum II - Input Array Is Sorted\n",
    "Link : https://leetcode.com/problems/two-sum-ii-input-array-is-sorted/description/\n",
    "Difficulty : Medium\n",
    "category : two pointer\n",
    "\"\"\"\n",
    "from typing import List\n",
    "class Solution:\n",
    "    def twoSum(self, numbers: List[int], target: int) -> List[int]:\n",
    "        l, r= 0, len(numbers)-1\n",
    "        while l<r:\n",
    "            if numbers[l]+numbers[r] == target:\n",
    "                return (l+1, r+1)\n",
    "            elif numbers[r] + numbers[l] > target:\n",
    "                r -= 1\n",
    "            else:\n",
    "                l += 1"
   ]
  }
 ],
 "metadata": {
  "kernelspec": {
   "display_name": "Python 3",
   "language": "python",
   "name": "python3"
  },
  "language_info": {
   "codemirror_mode": {
    "name": "ipython",
    "version": 3
   },
   "file_extension": ".py",
   "mimetype": "text/x-python",
   "name": "python",
   "nbconvert_exporter": "python",
   "pygments_lexer": "ipython3",
   "version": "3.8.7 (tags/v3.8.7:6503f05, Dec 21 2020, 17:59:51) [MSC v.1928 64 bit (AMD64)]"
  },
  "vscode": {
   "interpreter": {
    "hash": "19474b377433e26681bec06910cb7c945afa2d39e50483569fb199d272b8a48a"
   }
  }
 },
 "nbformat": 4,
 "nbformat_minor": 4
}
