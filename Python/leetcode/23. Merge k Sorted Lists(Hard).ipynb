{
 "cells": [
  {
   "cell_type": "markdown",
   "id": "b8de7c4d",
   "metadata": {},
   "source": [
    "# Solution #1"
   ]
  },
  {
   "cell_type": "code",
   "execution_count": 2,
   "id": "1d5725c7",
   "metadata": {},
   "outputs": [],
   "source": [
    "\"\"\"\n",
    "LeetCode \n",
    "Problem Number : 23\n",
    "Problem Title : Merge k Sorted Lists\n",
    "Link : https://leetcode.com/problems/merge-k-sorted-lists/\n",
    "Difficulty : Hard\n",
    "\"\"\"\n",
    "import heapq\n",
    "from typing import Optional, List\n",
    "# Definition for singly-linked list.\n",
    "class ListNode:\n",
    "    def __init__(self, val=0, next=None):\n",
    "        self.val = val\n",
    "        self.next = next\n",
    "class Solution:\n",
    "    def mergeKLists(self, lists: List[Optional[ListNode]]) -> Optional[ListNode]:\n",
    "        root = result = ListNode(None)\n",
    "        heap = list()\n",
    "        for idx, ith_list in enumerate(lists):\n",
    "            if ith_list:\n",
    "                heapq.heappush(heap, (ith_list.val, idx, ith_list))\n",
    "                \n",
    "        while heap:\n",
    "            node = heapq.heappop(heap)\n",
    "            idx = node[1]\n",
    "            result.next = node[2]\n",
    "            \n",
    "            result = result.next\n",
    "            if result.next:\n",
    "                heapq.heappush(heap, (result.next.val, idx, result.next))\n",
    "                \n",
    "        return root.next"
   ]
  }
 ],
 "metadata": {
  "kernelspec": {
   "display_name": "Python 3 (ipykernel)",
   "language": "python",
   "name": "python3"
  },
  "language_info": {
   "codemirror_mode": {
    "name": "ipython",
    "version": 3
   },
   "file_extension": ".py",
   "mimetype": "text/x-python",
   "name": "python",
   "nbconvert_exporter": "python",
   "pygments_lexer": "ipython3",
   "version": "3.9.7"
  }
 },
 "nbformat": 4,
 "nbformat_minor": 5
}
