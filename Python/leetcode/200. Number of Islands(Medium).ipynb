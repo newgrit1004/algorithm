{
 "cells": [
  {
   "cell_type": "code",
   "execution_count": null,
   "id": "9de8aeff",
   "metadata": {},
   "outputs": [],
   "source": [
    "\"\"\"\n",
    "LeetCode \n",
    "Problem Number : 200\n",
    "Problem Title : Number of Islands\n",
    "Link : https://leetcode.com/problems/number-of-islands/\n",
    "Difficulty : Medium\n",
    "\"\"\"\n",
    "class Solution:\n",
    "    def numIslands(self, grid: List[List[str]]) -> int:\n",
    "        if not grid: #exception handling\n",
    "            return 0\n",
    "        \n",
    "        m, n = len(grid), len(grid[0])\n",
    "        \n",
    "        def dfs(i, j):\n",
    "            if i<0 or i>=m or j<0 or j>=n:#exception handling\n",
    "                return\n",
    "            \n",
    "            if grid[i][j] == \"1\":\n",
    "                grid[i][j] = \"0\"\n",
    "                dfs(i-1, j) #up\n",
    "                dfs(i+1, j) #down\n",
    "                dfs(i, j-1) #left\n",
    "                dfs(i, j+1) #right\n",
    "                return True\n",
    "                \n",
    "        cnt = 0\n",
    "        for i in range(m):\n",
    "            for j in range(n):\n",
    "                if dfs(i,j) :\n",
    "                    cnt += 1\n",
    "        \n",
    "        return cnt"
   ]
  }
 ],
 "metadata": {
  "kernelspec": {
   "display_name": "Python 3 (ipykernel)",
   "language": "python",
   "name": "python3"
  },
  "language_info": {
   "codemirror_mode": {
    "name": "ipython",
    "version": 3
   },
   "file_extension": ".py",
   "mimetype": "text/x-python",
   "name": "python",
   "nbconvert_exporter": "python",
   "pygments_lexer": "ipython3",
   "version": "3.9.7"
  }
 },
 "nbformat": 4,
 "nbformat_minor": 5
}
