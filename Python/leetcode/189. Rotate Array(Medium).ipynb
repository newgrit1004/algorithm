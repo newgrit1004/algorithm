{
 "cells": [
  {
   "cell_type": "code",
   "execution_count": null,
   "id": "a92c709e",
   "metadata": {},
   "outputs": [],
   "source": [
    "\"\"\"\n",
    "LeetCode \n",
    "Problem Number : 189\n",
    "Problem Title : Rotate Array\n",
    "Link : https://leetcode.com/problems/rotate-array/\n",
    "Difficulty : Medium\n",
    "\"\"\"\n",
    "class Solution:\n",
    "    def rotate(self, nums: List[int], k: int) -> None:\n",
    "        \"\"\"\n",
    "        Do not return anything, modify nums in-place instead.\n",
    "        \"\"\"\n",
    "            \n",
    "        def twopt(arr, i, j):\n",
    "            while (i < j):\n",
    "                arr[i], arr[j] = arr[j], arr[i]\n",
    "                i += 1\n",
    "                j -= 1\n",
    "            return arr\n",
    "        \n",
    "        if k > len(nums):\n",
    "            k %= len(nums)\n",
    "            \n",
    "        if (k > 0):\n",
    "            twopt(nums, 0, len(nums) - 1)  # rotate entire array\n",
    "            twopt(nums, 0, k - 1)          # rotate array upto k elements\n",
    "            twopt(nums, k, len(nums) - 1)  # rotate array from k to end of array"
   ]
  }
 ],
 "metadata": {
  "kernelspec": {
   "display_name": "Python 3 (ipykernel)",
   "language": "python",
   "name": "python3"
  },
  "language_info": {
   "codemirror_mode": {
    "name": "ipython",
    "version": 3
   },
   "file_extension": ".py",
   "mimetype": "text/x-python",
   "name": "python",
   "nbconvert_exporter": "python",
   "pygments_lexer": "ipython3",
   "version": "3.9.7"
  }
 },
 "nbformat": 4,
 "nbformat_minor": 5
}
