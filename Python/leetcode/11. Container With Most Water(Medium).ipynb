{
 "cells": [
  {
   "cell_type": "markdown",
   "metadata": {},
   "source": [
    "# Solution #1"
   ]
  },
  {
   "cell_type": "code",
   "execution_count": 1,
   "metadata": {},
   "outputs": [],
   "source": [
    "\"\"\"\n",
    "LeetCode\n",
    "Problem Number : 11\n",
    "Problem Title : Container With Most Water\n",
    "Link : https://leetcode.com/problems/container-with-most-water/description/\n",
    "Difficulty : Medium\n",
    "\"\"\"\n",
    "from typing import List\n",
    "class Solution:\n",
    "    def maxArea(self, height: List[int]) -> int:\n",
    "        \"\"\"\n",
    "        1. 양 쪽에 각각 투 포인터를 둔다.\n",
    "        2. 현재 area는 left 포인터나 right 포인터를 옮겼을 때 계산되는 넓이와 현재 넓이 중 최댓값으로 설정된다.\n",
    "        3. left 포인터가 가르키는 값이 right 포인터가 가르키는 값보다 작을 경우, left를 오른쪽으로 한 칸 옮긴다.\n",
    "            그렇지 않은 경우, right 포인터를 왼쪽으로 한 칸 옮긴다.\n",
    "        4. left포인터가 right포인터보다 작을 때까지 이 과정을 반복한다.\n",
    "        5. 최종 area를 리턴한다.\n",
    "        \"\"\"\n",
    "        left, right = 0, len(height)-1\n",
    "        area = 0\n",
    "\n",
    "        while left<right:\n",
    "            area = max(area, min(height[left], height[right])*(right-left))\n",
    "            if height[left] < height[right]:\n",
    "                left += 1\n",
    "            else:\n",
    "                right -= 1\n",
    "        return area"
   ]
  }
 ],
 "metadata": {
  "kernelspec": {
   "display_name": "Python 3",
   "language": "python",
   "name": "python3"
  },
  "language_info": {
   "codemirror_mode": {
    "name": "ipython",
    "version": 3
   },
   "file_extension": ".py",
   "mimetype": "text/x-python",
   "name": "python",
   "nbconvert_exporter": "python",
   "pygments_lexer": "ipython3",
   "version": "3.8.7 (tags/v3.8.7:6503f05, Dec 21 2020, 17:59:51) [MSC v.1928 64 bit (AMD64)]"
  },
  "vscode": {
   "interpreter": {
    "hash": "19474b377433e26681bec06910cb7c945afa2d39e50483569fb199d272b8a48a"
   }
  }
 },
 "nbformat": 4,
 "nbformat_minor": 4
}
