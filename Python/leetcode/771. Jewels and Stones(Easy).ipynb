{
 "cells": [
  {
   "cell_type": "code",
   "execution_count": 1,
   "id": "63698c10",
   "metadata": {},
   "outputs": [],
   "source": [
    "\"\"\"\n",
    "LeetCode \n",
    "Problem Number : 771\n",
    "Problem Title : Jewels and Stones\n",
    "Link :https://leetcode.com/problems/jewels-and-stones/\n",
    "Difficulty : Easy\n",
    "\"\"\"\n",
    "from collections import Counter\n",
    "class Solution:\n",
    "    def numJewelsInStones(self, jewels: str, stones: str) -> int:\n",
    "        count = Counter(jewels)\n",
    "        stone_count = Counter(stones)\n",
    "        \n",
    "        return sum([stone_count[i] for i in stone_count if i in jewels])"
   ]
  },
  {
   "cell_type": "code",
   "execution_count": null,
   "id": "5a40f85d",
   "metadata": {},
   "outputs": [],
   "source": []
  }
 ],
 "metadata": {
  "kernelspec": {
   "display_name": "Python 3 (ipykernel)",
   "language": "python",
   "name": "python3"
  },
  "language_info": {
   "codemirror_mode": {
    "name": "ipython",
    "version": 3
   },
   "file_extension": ".py",
   "mimetype": "text/x-python",
   "name": "python",
   "nbconvert_exporter": "python",
   "pygments_lexer": "ipython3",
   "version": "3.9.7"
  }
 },
 "nbformat": 4,
 "nbformat_minor": 5
}
