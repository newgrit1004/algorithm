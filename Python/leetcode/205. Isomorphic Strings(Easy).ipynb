{
 "cells": [
  {
   "cell_type": "code",
   "execution_count": null,
   "id": "05621e27",
   "metadata": {},
   "outputs": [],
   "source": [
    "\"\"\"\n",
    "LeetCode \n",
    "Problem Number : 205\n",
    "Problem Title : Isomorphic Strings\n",
    "Link : https://leetcode.com/problems/isomorphic-strings/\n",
    "Difficulty : Easy\n",
    "\"\"\"\n",
    "class Solution(object):\n",
    "    def isIsomorphic(self, s, t):\n",
    "        d1, d2 = {}, {}\n",
    "        for i, val in enumerate(s):\n",
    "            d1[val] = d1.get(val, []) + [i]\n",
    "        for i, val in enumerate(t):\n",
    "            d2[val] = d2.get(val, []) + [i]\n",
    "        return sorted(d1.values()) == sorted(d2.values())"
   ]
  }
 ],
 "metadata": {
  "kernelspec": {
   "display_name": "Python 3 (ipykernel)",
   "language": "python",
   "name": "python3"
  },
  "language_info": {
   "codemirror_mode": {
    "name": "ipython",
    "version": 3
   },
   "file_extension": ".py",
   "mimetype": "text/x-python",
   "name": "python",
   "nbconvert_exporter": "python",
   "pygments_lexer": "ipython3",
   "version": "3.9.7"
  }
 },
 "nbformat": 4,
 "nbformat_minor": 5
}
