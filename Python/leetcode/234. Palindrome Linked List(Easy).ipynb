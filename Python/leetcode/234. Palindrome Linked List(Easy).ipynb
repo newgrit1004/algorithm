{
 "cells": [
  {
   "cell_type": "markdown",
   "metadata": {},
   "source": [
    "# Solution 1"
   ]
  },
  {
   "cell_type": "code",
   "execution_count": 3,
   "metadata": {},
   "outputs": [],
   "source": [
    "\"\"\"\n",
    "LeetCode \n",
    "Problem Number : 234\n",
    "Problem Title : Palindrome Linked List\n",
    "Link : https://leetcode.com/problems/palindrome-linked-list/\n",
    "Difficulty : Easy\n",
    "\"\"\"\n",
    "from typing import Optional\n",
    "\n",
    "class ListNode:\n",
    "     def __init__(self, val=0, next=None):\n",
    "        self.val = val\n",
    "        self.next = next\n",
    "\n",
    "class Solution:\n",
    "    def isPalindrome(self, head: Optional[ListNode]) -> bool:\n",
    "        val_lst = list()\n",
    "        node = head\n",
    "\n",
    "        while node is not None:\n",
    "            val_lst.append(node.val)\n",
    "            node = node.next\n",
    "\n",
    "        return val_lst == val_lst[::-1]"
   ]
  },
  {
   "cell_type": "markdown",
   "metadata": {},
   "source": [
    "# Solution 2"
   ]
  },
  {
   "cell_type": "code",
   "execution_count": 4,
   "metadata": {},
   "outputs": [],
   "source": [
    "class Solution:\n",
    "    def isPalindrome(self, head: Optional[ListNode]) -> bool:\n",
    "        q = list()\n",
    "\n",
    "        if not head: #exception handling\n",
    "            return True\n",
    "\n",
    "        node = head\n",
    "\n",
    "        while node is not None:\n",
    "            q.append(node.val)\n",
    "            node = node.next\n",
    "\n",
    "        while len(q) > 1:\n",
    "            if q.pop(0) != q.pop():\n",
    "                return False\n",
    "\n",
    "        return True"
   ]
  },
  {
   "cell_type": "markdown",
   "metadata": {},
   "source": [
    "# Solution #3"
   ]
  },
  {
   "cell_type": "code",
   "execution_count": 5,
   "metadata": {},
   "outputs": [],
   "source": [
    "from collections import deque\n",
    "from typing import Optional\n",
    "\n",
    "class Solution:\n",
    "    def isPalindrome(self, head: Optional[ListNode]) -> bool:\n",
    "        \"\"\"\n",
    "        1. 동적 배열인 list는 맨 앞 아이템을 pop할 경우,\n",
    "        모든 값이 앞으로 한 칸씩 shifting되어, 시간 복잡도 O(n)이 된다.\n",
    "\n",
    "        2. 파이썬의 deque은 이중 연결 리스트 구조이며\n",
    "        양방향 모두 시간복잡도 O(1)에 추출이 가능하다.\n",
    "\n",
    "        \"\"\"\n",
    "        q = deque()\n",
    "        if not head:\n",
    "            return True\n",
    "\n",
    "        node = head\n",
    "        while node is not None:\n",
    "            q.append(node.val)\n",
    "            node = node.next\n",
    "\n",
    "        while len(q)>1:\n",
    "            if q.popleft() != q.pop():\n",
    "                return False\n",
    "\n",
    "        return True"
   ]
  },
  {
   "cell_type": "code",
   "execution_count": null,
   "metadata": {},
   "outputs": [],
   "source": []
  }
 ],
 "metadata": {
  "kernelspec": {
   "display_name": "Python 3.8.7 64-bit",
   "language": "python",
   "name": "python3"
  },
  "language_info": {
   "codemirror_mode": {
    "name": "ipython",
    "version": 3
   },
   "file_extension": ".py",
   "mimetype": "text/x-python",
   "name": "python",
   "nbconvert_exporter": "python",
   "pygments_lexer": "ipython3",
   "version": "3.8.7"
  },
  "vscode": {
   "interpreter": {
    "hash": "19474b377433e26681bec06910cb7c945afa2d39e50483569fb199d272b8a48a"
   }
  }
 },
 "nbformat": 4,
 "nbformat_minor": 4
}
