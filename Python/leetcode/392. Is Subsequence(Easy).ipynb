{
 "cells": [
  {
   "cell_type": "code",
   "execution_count": null,
   "id": "3b644f57",
   "metadata": {},
   "outputs": [],
   "source": [
    "\"\"\"\n",
    "LeetCode \n",
    "Problem Number : 392\n",
    "Problem Title : Is Subsequence\n",
    "Link : https://leetcode.com/problems/is-subsequence/\n",
    "Difficulty : Easy\n",
    "\"\"\"\n",
    "class Solution:\n",
    "    def isSubsequence(self, s: str, t: str) -> bool:\n",
    "        if len(s) == 0: #Exception handling\n",
    "            return True\n",
    "        \n",
    "        idx = 0\n",
    "        for i in t:\n",
    "            if i == s[idx]:\n",
    "                idx += 1\n",
    "            if idx >= len(s): #if s is subsequence of t\n",
    "                break\n",
    "                \n",
    "        return True if len(s) == idx else False"
   ]
  }
 ],
 "metadata": {
  "kernelspec": {
   "display_name": "Python 3 (ipykernel)",
   "language": "python",
   "name": "python3"
  },
  "language_info": {
   "codemirror_mode": {
    "name": "ipython",
    "version": 3
   },
   "file_extension": ".py",
   "mimetype": "text/x-python",
   "name": "python",
   "nbconvert_exporter": "python",
   "pygments_lexer": "ipython3",
   "version": "3.9.7"
  }
 },
 "nbformat": 4,
 "nbformat_minor": 5
}
