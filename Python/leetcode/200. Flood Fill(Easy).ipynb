{
 "cells": [
  {
   "cell_type": "code",
   "execution_count": null,
   "id": "9bf3744b",
   "metadata": {},
   "outputs": [],
   "source": [
    "\"\"\"\n",
    "LeetCode \n",
    "Problem Number : 200\n",
    "Problem Title : Flood Fill\n",
    "Link : https://leetcode.com/problems/flood-fill/\n",
    "Difficulty : Easy\n",
    "Category : DFS\n",
    "\"\"\"\n",
    "class Solution:\n",
    "    def floodFill(self, image: List[List[int]], sr: int, sc: int, newColor: int) -> List[List[int]]:\n",
    "        rows = len(image)\n",
    "        cols = len(image[0])\n",
    "        color_to_change = image[sr][sc]\n",
    "        \n",
    "        def dfs(r, c):\n",
    "            if r < 0 or c < 0 or r>rows-1 or c>cols-1 or image[r][c]==newColor or image[r][c]!=color_to_change:\n",
    "                return\n",
    "            \n",
    "            image[r][c] = newColor\n",
    "\n",
    "            \n",
    "            dfs(r-1,c) #up\n",
    "            dfs(r+1,c) #down\n",
    "            dfs(r,c-1) #left\n",
    "            dfs(r,c+1) #right\n",
    "            \n",
    "        dfs(sr, sc)\n",
    "        \n",
    "        return image"
   ]
  }
 ],
 "metadata": {
  "kernelspec": {
   "display_name": "Python 3 (ipykernel)",
   "language": "python",
   "name": "python3"
  },
  "language_info": {
   "codemirror_mode": {
    "name": "ipython",
    "version": 3
   },
   "file_extension": ".py",
   "mimetype": "text/x-python",
   "name": "python",
   "nbconvert_exporter": "python",
   "pygments_lexer": "ipython3",
   "version": "3.9.7"
  }
 },
 "nbformat": 4,
 "nbformat_minor": 5
}
