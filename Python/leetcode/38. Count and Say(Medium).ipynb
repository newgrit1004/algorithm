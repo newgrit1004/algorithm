{
 "cells": [
  {
   "cell_type": "code",
   "execution_count": 1,
   "id": "d35ab3d3",
   "metadata": {},
   "outputs": [],
   "source": [
    "\"\"\"\n",
    "LeetCode \n",
    "Problem Number : 38\n",
    "Problem Title : Count and Say\n",
    "Link : https://leetcode.com/problems/count-and-say/\n",
    "Difficulty : Medium\n",
    "Category : String\n",
    "\"\"\"\n",
    "\n",
    "import itertools\n",
    "class Solution:\n",
    "    def countAndSay(self, n: int) -> str:\n",
    "        s = '1'\n",
    "        for _ in range(n - 1):\n",
    "            s = ''.join(str(len(list(group))) + digit\n",
    "                        for digit, group in itertools.groupby(s))\n",
    "        return s"
   ]
  },
  {
   "cell_type": "code",
   "execution_count": 2,
   "id": "a1380f25",
   "metadata": {},
   "outputs": [],
   "source": [
    "S = Solution()"
   ]
  },
  {
   "cell_type": "code",
   "execution_count": 3,
   "id": "277debb6",
   "metadata": {},
   "outputs": [
    {
     "data": {
      "text/plain": [
       "'111221'"
      ]
     },
     "execution_count": 3,
     "metadata": {},
     "output_type": "execute_result"
    }
   ],
   "source": [
    "S.countAndSay(5)"
   ]
  },
  {
   "cell_type": "code",
   "execution_count": null,
   "id": "45eed2cf",
   "metadata": {},
   "outputs": [],
   "source": []
  }
 ],
 "metadata": {
  "kernelspec": {
   "display_name": "Python 3 (ipykernel)",
   "language": "python",
   "name": "python3"
  },
  "language_info": {
   "codemirror_mode": {
    "name": "ipython",
    "version": 3
   },
   "file_extension": ".py",
   "mimetype": "text/x-python",
   "name": "python",
   "nbconvert_exporter": "python",
   "pygments_lexer": "ipython3",
   "version": "3.9.7"
  }
 },
 "nbformat": 4,
 "nbformat_minor": 5
}
