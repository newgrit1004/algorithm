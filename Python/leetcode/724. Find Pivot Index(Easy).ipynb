{
 "cells": [
  {
   "cell_type": "code",
   "execution_count": null,
   "id": "bc5627fd",
   "metadata": {},
   "outputs": [],
   "source": [
    "\"\"\"\n",
    "LeetCode \n",
    "Problem Number : 742\n",
    "Problem Title : Find Pivot Index\n",
    "Link :https://leetcode.com/problems/find-pivot-index/\n",
    "Difficulty : Easy\n",
    "\"\"\"\n",
    "class Solution:\n",
    "    def pivotIndex(self, nums: List[int]) -> int:        \n",
    "        for idx, val in enumerate(nums):\n",
    "            if idx == 0:\n",
    "                left = 0\n",
    "                right = sum(nums)-nums[0]\n",
    "            else:\n",
    "                left += nums[idx-1]\n",
    "                right -= val\n",
    "            \n",
    "            if left == right:\n",
    "                return idx\n",
    "            \n",
    "        return -1"
   ]
  }
 ],
 "metadata": {
  "kernelspec": {
   "display_name": "Python 3 (ipykernel)",
   "language": "python",
   "name": "python3"
  },
  "language_info": {
   "codemirror_mode": {
    "name": "ipython",
    "version": 3
   },
   "file_extension": ".py",
   "mimetype": "text/x-python",
   "name": "python",
   "nbconvert_exporter": "python",
   "pygments_lexer": "ipython3",
   "version": "3.9.7"
  }
 },
 "nbformat": 4,
 "nbformat_minor": 5
}
