{
 "cells": [
  {
   "cell_type": "code",
   "execution_count": null,
   "id": "0cdf2c9c",
   "metadata": {},
   "outputs": [],
   "source": [
    "\"\"\"\n",
    "LeetCode \n",
    "Problem Number : 841\n",
    "Problem Title : Keys and Rooms\n",
    "Link : https://leetcode.com/problems/keys-and-rooms/\n",
    "Difficulty : Medium\n",
    "Category : DFS\n",
    "\"\"\"\n",
    "class Solution:\n",
    "    def canVisitAllRooms(self, rooms: List[List[int]]) -> bool:\n",
    "        graph = dict()\n",
    "        for idx, value in enumerate(rooms):\n",
    "            graph[idx] = value\n",
    "            \n",
    "        visited = [0] * len(rooms)\n",
    "        \n",
    "        def dfs(graph, node):\n",
    "            visited[node] = 1\n",
    "            \n",
    "            for _next in graph[node]:\n",
    "                if not visited[_next]:\n",
    "                    visited[_next] = 1\n",
    "                    dfs(graph, _next)\n",
    "        \n",
    "            return visited\n",
    "        \n",
    "        ans = dfs(graph, 0)\n",
    "        return False if 0 in ans else True"
   ]
  }
 ],
 "metadata": {
  "kernelspec": {
   "display_name": "Python 3 (ipykernel)",
   "language": "python",
   "name": "python3"
  },
  "language_info": {
   "codemirror_mode": {
    "name": "ipython",
    "version": 3
   },
   "file_extension": ".py",
   "mimetype": "text/x-python",
   "name": "python",
   "nbconvert_exporter": "python",
   "pygments_lexer": "ipython3",
   "version": "3.9.7"
  }
 },
 "nbformat": 4,
 "nbformat_minor": 5
}
