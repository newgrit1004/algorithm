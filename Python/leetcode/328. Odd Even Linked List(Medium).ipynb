{
 "cells": [
  {
   "cell_type": "code",
   "execution_count": null,
   "metadata": {},
   "outputs": [],
   "source": [
    "\"\"\"\n",
    "LeetCode \n",
    "Problem Number : 328\n",
    "Problem Title : Odd Even Linked List\n",
    "Link : https://leetcode.com/problems/odd-even-linked-list/\n",
    "Difficulty : Medium\n",
    "\"\"\"\n",
    "from typing import Optional\n",
    "class ListNode:\n",
    "    def __init__(self, val=0, next=None):\n",
    "        self.val = val\n",
    "        self.next = next\n",
    "        \n",
    "class Solution:\n",
    "    def oddEvenList(self, head: Optional[ListNode]) -> Optional[ListNode]:\n",
    "        if head is None:\n",
    "            return None\n",
    "        \n",
    "        odd = head\n",
    "        even = head.next\n",
    "        even_head = head.next\n",
    "        \n",
    "        while even and even.next:\n",
    "            odd.next, even.next = odd.next.next, even.next.next\n",
    "            odd, even = odd.next, even.next\n",
    "            \n",
    "        odd.next = even_head\n",
    "        return head"
   ]
  }
 ],
 "metadata": {
  "kernelspec": {
   "display_name": "Python 3",
   "language": "python",
   "name": "python3"
  },
  "language_info": {
   "codemirror_mode": {
    "name": "ipython",
    "version": 3
   },
   "file_extension": ".py",
   "mimetype": "text/x-python",
   "name": "python",
   "nbconvert_exporter": "python",
   "pygments_lexer": "ipython3",
   "version": "3.8.3"
  }
 },
 "nbformat": 4,
 "nbformat_minor": 4
}
