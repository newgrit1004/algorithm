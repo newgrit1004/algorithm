{
 "cells": [
  {
   "cell_type": "markdown",
   "metadata": {},
   "source": [
    "# Solution #1"
   ]
  },
  {
   "cell_type": "code",
   "execution_count": 1,
   "metadata": {},
   "outputs": [],
   "source": [
    "\"\"\"\n",
    "LeetCode\n",
    "Problem Number : 141\n",
    "Problem Title : Linked List Cycle\n",
    "Link : https://leetcode.com/problems/linked-list-cycle/description/\n",
    "Difficulty : Easy\n",
    "category : two pointer\n",
    "\"\"\"\n",
    "\n",
    "from typing import Optional\n",
    "\n",
    "# Definition for singly-linked list.\n",
    "class ListNode:\n",
    "    def __init__(self, x):\n",
    "        self.val = x\n",
    "        self.next = None\n",
    "\n",
    "class Solution:\n",
    "    def hasCycle(self, head: Optional[ListNode]) -> bool:\n",
    "        \"\"\"\n",
    "        1. 토끼와 거북이 모두 head에서 시작한다.\n",
    "        2. 토끼는 2칸씩 앞으로 가고, 거북이는 1칸씩 앞으로 간다.\n",
    "        3. 만약 토끼와 거북이의 위치가 같아진다면, cycle이 존재한다고 볼 수 있으므로 True를 리턴한다.\n",
    "        4. 그렇지 않고 토끼 또는 거북이가 None에 도달하면 False를 리턴한다.\n",
    "        \"\"\"\n",
    "        rabbit = turtle = head\n",
    "        while rabbit != None and turtle != None:\n",
    "            if rabbit.next == None:\n",
    "                return False\n",
    "            rabbit = rabbit.next.next\n",
    "            turtle = turtle.next\n",
    "            if rabbit == turtle:\n",
    "                return True\n",
    "        return False"
   ]
  }
 ],
 "metadata": {
  "kernelspec": {
   "display_name": "Python 3",
   "language": "python",
   "name": "python3"
  },
  "language_info": {
   "codemirror_mode": {
    "name": "ipython",
    "version": 3
   },
   "file_extension": ".py",
   "mimetype": "text/x-python",
   "name": "python",
   "nbconvert_exporter": "python",
   "pygments_lexer": "ipython3",
   "version": "3.8.7 (tags/v3.8.7:6503f05, Dec 21 2020, 17:59:51) [MSC v.1928 64 bit (AMD64)]"
  },
  "vscode": {
   "interpreter": {
    "hash": "19474b377433e26681bec06910cb7c945afa2d39e50483569fb199d272b8a48a"
   }
  }
 },
 "nbformat": 4,
 "nbformat_minor": 4
}
