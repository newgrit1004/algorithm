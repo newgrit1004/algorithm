{
 "cells": [
  {
   "cell_type": "markdown",
   "metadata": {},
   "source": [
    "# Solution #1"
   ]
  },
  {
   "cell_type": "code",
   "execution_count": 1,
   "metadata": {},
   "outputs": [],
   "source": [
    "\"\"\"\n",
    "LeetCode \n",
    "Problem Number : 53\n",
    "Problem Title : Maximum Subarray\n",
    "Link : https://leetcode.com/problems/maximum-subarray/\n",
    "Difficulty : Easy\n",
    "\"\"\"\n",
    "from typing import List\n",
    "class Solution:\n",
    "    def maxSubArray(self, nums: List[int]) -> int:\n",
    "        local_max = global_max = nums[0]\n",
    "        \n",
    "        for num in nums[1:]:\n",
    "            local_max = max(local_max + num, num)\n",
    "            global_max = max(global_max, local_max)\n",
    "        \n",
    "        return global_max"
   ]
  },
  {
   "cell_type": "code",
   "execution_count": 2,
   "metadata": {},
   "outputs": [
    {
     "name": "stdout",
     "output_type": "stream",
     "text": [
      "6\n",
      "1\n",
      "23\n"
     ]
    }
   ],
   "source": [
    "S = Solution()\n",
    "print(S.maxSubArray([-2,1,-3,4,-1,2,1,-5,4]))\n",
    "print(S.maxSubArray([1]))\n",
    "print(S.maxSubArray([5,4,-1,7,8]))"
   ]
  },
  {
   "cell_type": "code",
   "execution_count": null,
   "metadata": {},
   "outputs": [],
   "source": []
  }
 ],
 "metadata": {
  "kernelspec": {
   "display_name": "Python 3",
   "language": "python",
   "name": "python3"
  },
  "language_info": {
   "codemirror_mode": {
    "name": "ipython",
    "version": 3
   },
   "file_extension": ".py",
   "mimetype": "text/x-python",
   "name": "python",
   "nbconvert_exporter": "python",
   "pygments_lexer": "ipython3",
   "version": "3.8.3"
  }
 },
 "nbformat": 4,
 "nbformat_minor": 4
}
