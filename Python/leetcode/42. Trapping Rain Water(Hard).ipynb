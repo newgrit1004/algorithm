{
 "cells": [
  {
   "cell_type": "markdown",
   "metadata": {},
   "source": [
    "# Solution #1"
   ]
  },
  {
   "cell_type": "code",
   "execution_count": 1,
   "metadata": {},
   "outputs": [],
   "source": [
    "\"\"\"\n",
    "LeetCode\n",
    "Problem Number : 42\n",
    "Problem Title : Trapping Rain Water\n",
    "Link : https://leetcode.com/problems/trapping-rain-water/\n",
    "Difficulty : Hard\n",
    "\"\"\"\n",
    "from typing import List\n",
    "class Solution:\n",
    "    def trap(self, height: List[int]) -> int:\n",
    "        stack = list()\n",
    "        volume = 0\n",
    "        for i in range(len(height)):\n",
    "            while stack and height[i] > height[stack[-1]]:\n",
    "                top = stack.pop()\n",
    "                if not len(stack):\n",
    "                    break\n",
    "\n",
    "                distance = i - stack[-1] - 1\n",
    "                waters = min(height[i], height[stack[-1]]) - height[top]\n",
    "                volume += distance * waters\n",
    "            stack.append(i)\n",
    "\n",
    "        return volume"
   ]
  },
  {
   "cell_type": "code",
   "execution_count": 2,
   "metadata": {},
   "outputs": [],
   "source": [
    "S = Solution()"
   ]
  },
  {
   "cell_type": "code",
   "execution_count": 3,
   "metadata": {},
   "outputs": [
    {
     "data": {
      "text/plain": [
       "6"
      ]
     },
     "execution_count": 3,
     "metadata": {},
     "output_type": "execute_result"
    }
   ],
   "source": [
    "S.trap([0,1,0,2,1,0,1,3,2,1,2,1])"
   ]
  },
  {
   "cell_type": "code",
   "execution_count": 4,
   "metadata": {},
   "outputs": [
    {
     "data": {
      "text/plain": [
       "9"
      ]
     },
     "execution_count": 4,
     "metadata": {},
     "output_type": "execute_result"
    }
   ],
   "source": [
    "S.trap([4,2,0,3,2,5])"
   ]
  },
  {
   "attachments": {},
   "cell_type": "markdown",
   "metadata": {},
   "source": [
    "# Solution #2"
   ]
  },
  {
   "cell_type": "code",
   "execution_count": null,
   "metadata": {},
   "outputs": [],
   "source": [
    "class Solution:\n",
    "    def trap(self, height: List[int]) -> int:\n",
    "        \"\"\"\n",
    "        시간 복잡도 : O(N)\n",
    "        추가 공간 할당 : max_left_list, max_right_list\n",
    "        \"\"\"\n",
    "        def get_max_left(height:List[int])->List[int]:\n",
    "            ans = []\n",
    "            max_left = 0\n",
    "            for idx, value in enumerate(height):\n",
    "                if idx==0:\n",
    "                    ans.append(max_left)\n",
    "                else:\n",
    "                    max_left = max(max_left, height[idx-1])\n",
    "                    ans.append(max_left)\n",
    "            return ans\n",
    "        max_left_list = get_max_left(height)\n",
    "        max_right_list = get_max_left(height[::-1])[::-1]\n",
    "\n",
    "        result = 0\n",
    "        for max_left, max_right, h in zip(max_left_list, max_right_list, height):\n",
    "            result += max(min(max_left, max_right)-h, 0)\n",
    "\n",
    "        return result"
   ]
  },
  {
   "attachments": {},
   "cell_type": "markdown",
   "metadata": {},
   "source": [
    "# Solution #3"
   ]
  },
  {
   "cell_type": "code",
   "execution_count": null,
   "metadata": {},
   "outputs": [],
   "source": [
    "from typing import List\n",
    "class Solution:\n",
    "    def trap(self, height: List[int]) -> int:\n",
    "        \"\"\"\n",
    "        주어진 index를 i라고 하고,\n",
    "        value[i] = i번째 index가 trapping 할 수 있는 물의 양이라 하였을 때\n",
    "        value[i] = max(min(max_left, max_right) - height[i], 0)\n",
    "        여기서 max_left의 의미는 i를 기준으로 왼쪽에서 가장 큰 height\n",
    "        max_right의 의미는 i를 기준으로 오른쪽에서 가장 큰 height\n",
    "\n",
    "        여기서 max_left, max_right를 구하기 위해 매번 min, max를 호출하면 안되므로,\n",
    "        한번의 스캔을 통해 이 값들을 얻어낸다.\n",
    "\n",
    "        \"\"\""
   ]
  }
 ],
 "metadata": {
  "kernelspec": {
   "display_name": "Python 3",
   "language": "python",
   "name": "python3"
  },
  "language_info": {
   "codemirror_mode": {
    "name": "ipython",
    "version": 3
   },
   "file_extension": ".py",
   "mimetype": "text/x-python",
   "name": "python",
   "nbconvert_exporter": "python",
   "pygments_lexer": "ipython3",
   "version": "3.8.3"
  }
 },
 "nbformat": 4,
 "nbformat_minor": 4
}
