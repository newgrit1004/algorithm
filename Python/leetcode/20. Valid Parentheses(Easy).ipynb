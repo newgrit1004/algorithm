{
 "cells": [
  {
   "cell_type": "markdown",
   "metadata": {},
   "source": [
    "# Solution #1"
   ]
  },
  {
   "cell_type": "code",
   "execution_count": 1,
   "metadata": {},
   "outputs": [],
   "source": [
    "\"\"\"\n",
    "LeetCode \n",
    "Problem Number : 20\n",
    "Problem Title : Valid Parentheses\n",
    "Link : https://leetcode.com/problems/valid-parentheses/\n",
    "Difficulty : Easy\n",
    "\"\"\"\n",
    "class Solution:\n",
    "    def isValid(self, s: str) -> bool:\n",
    "        valid = {'(':-3, '{':-2, '[':-1, ']':1, '}':2, ')':3}\n",
    "        \n",
    "        lst = list()\n",
    "        \n",
    "        for i in s:\n",
    "            if valid[i] < 0: #if open brackets\n",
    "                lst.append(i)\n",
    "            else:\n",
    "                if len(lst) == 0: \n",
    "                    return False #if first item is close bracket, then false\n",
    "                item = lst.pop()\n",
    "                if valid[i] == abs(valid[item]):\n",
    "                    continue\n",
    "                else:\n",
    "                    return False\n",
    "                \n",
    "        if len(lst) == 0:\n",
    "            return True\n",
    "        else:\n",
    "            return False"
   ]
  },
  {
   "cell_type": "code",
   "execution_count": 2,
   "metadata": {},
   "outputs": [],
   "source": [
    "S = Solution()"
   ]
  },
  {
   "cell_type": "code",
   "execution_count": 3,
   "metadata": {},
   "outputs": [
    {
     "data": {
      "text/plain": [
       "True"
      ]
     },
     "execution_count": 3,
     "metadata": {},
     "output_type": "execute_result"
    }
   ],
   "source": [
    "S.isValid(\"()\")"
   ]
  },
  {
   "cell_type": "code",
   "execution_count": 4,
   "metadata": {},
   "outputs": [
    {
     "data": {
      "text/plain": [
       "True"
      ]
     },
     "execution_count": 4,
     "metadata": {},
     "output_type": "execute_result"
    }
   ],
   "source": [
    "S.isValid(\"()[]{}\")"
   ]
  },
  {
   "cell_type": "code",
   "execution_count": 5,
   "metadata": {},
   "outputs": [
    {
     "data": {
      "text/plain": [
       "False"
      ]
     },
     "execution_count": 5,
     "metadata": {},
     "output_type": "execute_result"
    }
   ],
   "source": [
    "S.isValid(\"(]\")"
   ]
  },
  {
   "cell_type": "code",
   "execution_count": null,
   "metadata": {},
   "outputs": [],
   "source": []
  }
 ],
 "metadata": {
  "kernelspec": {
   "display_name": "Python 3",
   "language": "python",
   "name": "python3"
  },
  "language_info": {
   "codemirror_mode": {
    "name": "ipython",
    "version": 3
   },
   "file_extension": ".py",
   "mimetype": "text/x-python",
   "name": "python",
   "nbconvert_exporter": "python",
   "pygments_lexer": "ipython3",
   "version": "3.8.3"
  }
 },
 "nbformat": 4,
 "nbformat_minor": 4
}
