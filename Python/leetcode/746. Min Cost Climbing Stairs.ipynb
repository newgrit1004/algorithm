{
 "cells": [
  {
   "cell_type": "markdown",
   "metadata": {},
   "source": [
    "# Solution #1"
   ]
  },
  {
   "cell_type": "code",
   "execution_count": null,
   "metadata": {},
   "outputs": [],
   "source": [
    "\"\"\"\n",
    "LeetCode\n",
    "Problem Number : 746\n",
    "Problem Title : Min Cost Climbing Stairs\n",
    "Link : https://leetcode.com/problems/min-cost-climbing-stairs/\n",
    "Difficulty : Easy\n",
    "\"\"\"\n",
    "from typing import List\n",
    "class Solution:\n",
    "    def minCostClimbingStairs(self, cost: List[int]) -> int:\n",
    "        n = len(cost)\n",
    "        dp = [0] * n\n",
    "        dp[0] = cost[0]\n",
    "        dp[1] = cost[1]\n",
    "        if n == 2:\n",
    "            return min(dp)\n",
    "\n",
    "        for i in range(2, n):\n",
    "            dp[i] = min(cost[i]+dp[i-2], cost[i]+dp[i-1])\n",
    "\n",
    "        return  min(dp[-2:])"
   ]
  }
 ],
 "metadata": {
  "kernelspec": {
   "display_name": "Python 3.8.7 64-bit",
   "language": "python",
   "name": "python3"
  },
  "language_info": {
   "name": "python",
   "version": "3.8.7"
  },
  "orig_nbformat": 4,
  "vscode": {
   "interpreter": {
    "hash": "19474b377433e26681bec06910cb7c945afa2d39e50483569fb199d272b8a48a"
   }
  }
 },
 "nbformat": 4,
 "nbformat_minor": 2
}
