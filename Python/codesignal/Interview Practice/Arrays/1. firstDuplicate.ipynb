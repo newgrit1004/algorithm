{
 "cells": [
  {
   "cell_type": "code",
   "execution_count": null,
   "metadata": {},
   "outputs": [],
   "source": [
    "\"\"\"\n",
    "CodeSignal\n",
    "Problem Number : 1\n",
    "Problem Title : firstDuplicate\n",
    "Link : https://app.codesignal.com/interview-practice/task/pMvymcahZ8dY4g75q/description\n",
    "Category : Arrays\n",
    "\"\"\"\n",
    "def solution(a):\n",
    "    ans = dict()\n",
    "    \n",
    "    for i in a:\n",
    "        ans[i] = ans.get(i, 0) + 1\n",
    "        if ans[i] == 2:\n",
    "            return i\n",
    "            \n",
    "    return -1"
   ]
  }
 ],
 "metadata": {
  "kernelspec": {
   "display_name": "Python 3",
   "language": "python",
   "name": "python3"
  },
  "language_info": {
   "codemirror_mode": {
    "name": "ipython",
    "version": 3
   },
   "file_extension": ".py",
   "mimetype": "text/x-python",
   "name": "python",
   "nbconvert_exporter": "python",
   "pygments_lexer": "ipython3",
   "version": "3.8.3"
  }
 },
 "nbformat": 4,
 "nbformat_minor": 4
}
