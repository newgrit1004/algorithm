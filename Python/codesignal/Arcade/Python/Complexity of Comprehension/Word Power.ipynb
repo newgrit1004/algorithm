{
 "cells": [
  {
   "cell_type": "code",
   "execution_count": null,
   "id": "1eb9dabc",
   "metadata": {},
   "outputs": [],
   "source": [
    "# link : https://app.codesignal.com/arcade/python-arcade/complexity-of-comprehension/5rZN7nJ7Tkd9S4TLC\n",
    "# objective : return the sum of words index(e.g. a = 1, b=2, ...) of its character\n",
    "# constraint : A string consisting of lowercase English letters\n",
    "def solution(word):\n",
    "    num = {ch:ord(ch)-ord('a')+1 for ch in word}\n",
    "    return sum([num[ch] for ch in word])"
   ]
  }
 ],
 "metadata": {
  "kernelspec": {
   "display_name": "Python 3 (ipykernel)",
   "language": "python",
   "name": "python3"
  },
  "language_info": {
   "codemirror_mode": {
    "name": "ipython",
    "version": 3
   },
   "file_extension": ".py",
   "mimetype": "text/x-python",
   "name": "python",
   "nbconvert_exporter": "python",
   "pygments_lexer": "ipython3",
   "version": "3.9.7"
  }
 },
 "nbformat": 4,
 "nbformat_minor": 5
}
