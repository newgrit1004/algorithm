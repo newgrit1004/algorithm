{
 "cells": [
  {
   "cell_type": "code",
   "execution_count": null,
   "id": "375d274d",
   "metadata": {},
   "outputs": [],
   "source": [
    "# link : https://app.codesignal.com/arcade/python-arcade/complexity-of-comprehension/a6DD4JaT2moH22XTf\n",
    "# objective : return the number of different sums of elemnets in such pairs\n",
    "# constraint : a pair (i, j) is cool if and only if (i*j)%(i+j) = 0\n",
    "\n",
    "def solution(a, b):\n",
    "    uniqueSums = {i+j  for i in a for j in b if (i*j)%(i+j)==0}\n",
    "    return len(uniqueSums)\n"
   ]
  }
 ],
 "metadata": {
  "kernelspec": {
   "display_name": "Python 3 (ipykernel)",
   "language": "python",
   "name": "python3"
  },
  "language_info": {
   "codemirror_mode": {
    "name": "ipython",
    "version": 3
   },
   "file_extension": ".py",
   "mimetype": "text/x-python",
   "name": "python",
   "nbconvert_exporter": "python",
   "pygments_lexer": "ipython3",
   "version": "3.9.7"
  }
 },
 "nbformat": 4,
 "nbformat_minor": 5
}
