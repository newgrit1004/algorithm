{
 "cells": [
  {
   "cell_type": "code",
   "execution_count": null,
   "id": "b5f35bd6",
   "metadata": {},
   "outputs": [],
   "source": [
    "# link : https://app.codesignal.com/arcade/python-arcade/complexity-of-comprehension/vtDLcQWTSc5tJHL6x\n",
    "# objective : create multiplication table\n",
    "# constraint : one-line short coding\n",
    "def solution(n):\n",
    "    return [list(map(lambda x : j*x, [i for i in range(1, n+1)])) for j in range(1, n+1)]"
   ]
  }
 ],
 "metadata": {
  "kernelspec": {
   "display_name": "Python 3 (ipykernel)",
   "language": "python",
   "name": "python3"
  },
  "language_info": {
   "codemirror_mode": {
    "name": "ipython",
    "version": 3
   },
   "file_extension": ".py",
   "mimetype": "text/x-python",
   "name": "python",
   "nbconvert_exporter": "python",
   "pygments_lexer": "ipython3",
   "version": "3.9.7"
  }
 },
 "nbformat": 4,
 "nbformat_minor": 5
}
