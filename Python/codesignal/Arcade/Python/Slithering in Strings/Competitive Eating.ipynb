{
 "cells": [
  {
   "cell_type": "code",
   "execution_count": null,
   "id": "2c76a0c8",
   "metadata": {},
   "outputs": [],
   "source": [
    "# link : https://app.codesignal.com/arcade/python-arcade/slithering-in-strings/BPFsda3ddPJruBX24\n",
    "# objective : return a string of length width representing the time t as it will be displayed on the billboard\n",
    "# constraint : one-line short coding\n",
    "def solution(t, width, precision):\n",
    "    return '{:^{}.{}f}'.format(t,width,precision)"
   ]
  }
 ],
 "metadata": {
  "kernelspec": {
   "display_name": "Python 3 (ipykernel)",
   "language": "python",
   "name": "python3"
  },
  "language_info": {
   "codemirror_mode": {
    "name": "ipython",
    "version": 3
   },
   "file_extension": ".py",
   "mimetype": "text/x-python",
   "name": "python",
   "nbconvert_exporter": "python",
   "pygments_lexer": "ipython3",
   "version": "3.9.7"
  }
 },
 "nbformat": 4,
 "nbformat_minor": 5
}
