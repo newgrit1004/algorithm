{
 "cells": [
  {
   "cell_type": "markdown",
   "id": "4191a2f3",
   "metadata": {},
   "source": [
    "# Solution #1"
   ]
  },
  {
   "cell_type": "code",
   "execution_count": null,
   "id": "e1b910fa",
   "metadata": {},
   "outputs": [],
   "source": [
    "# link : https://app.codesignal.com/arcade/python-arcade/slithering-in-strings/Rzf4YKMk69Jm3gNnm/solutions\n",
    "# objective : (1) each token belongs to one of the lines entirely (2) each line is at most 'size' characters long \n",
    "#(3) no line has trailing or leading spaces (4)each line should have the maximum possible length\n",
    "# constraint : one-line short coding\n",
    "import re\n",
    "\n",
    "def solution(feedback, size):\n",
    "    return re.findall('(?:\\s|^)(\\S(?:.{0,%d}\\S)?)(?=\\s|$)' % (size-2),feedback)\n"
   ]
  },
  {
   "cell_type": "markdown",
   "id": "52cf92d3",
   "metadata": {},
   "source": [
    "# Solution #2(Best Answer)"
   ]
  },
  {
   "cell_type": "code",
   "execution_count": null,
   "id": "9dcd60ac",
   "metadata": {},
   "outputs": [],
   "source": [
    "import textwrap\n",
    "\n",
    "def solution(feedback, size):\n",
    "    return textwrap.wrap(feedback,size)"
   ]
  }
 ],
 "metadata": {
  "kernelspec": {
   "display_name": "Python 3 (ipykernel)",
   "language": "python",
   "name": "python3"
  },
  "language_info": {
   "codemirror_mode": {
    "name": "ipython",
    "version": 3
   },
   "file_extension": ".py",
   "mimetype": "text/x-python",
   "name": "python",
   "nbconvert_exporter": "python",
   "pygments_lexer": "ipython3",
   "version": "3.9.7"
  }
 },
 "nbformat": 4,
 "nbformat_minor": 5
}
