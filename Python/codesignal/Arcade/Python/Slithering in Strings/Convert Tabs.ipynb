{
 "cells": [
  {
   "cell_type": "code",
   "execution_count": null,
   "id": "7e45fc6a",
   "metadata": {},
   "outputs": [],
   "source": [
    "# link : https://app.codesignal.com/arcade/python-arcade/slithering-in-strings/joYKtZyJDDsFQBLHP\n",
    "# objective : return the given code with tabulation characters expanded according to x\n",
    "# constraint : one-line short coding\n",
    "def solution(code, x):\n",
    "    return code.replace('\\t', ' '*x)\n"
   ]
  }
 ],
 "metadata": {
  "kernelspec": {
   "display_name": "Python 3 (ipykernel)",
   "language": "python",
   "name": "python3"
  },
  "language_info": {
   "codemirror_mode": {
    "name": "ipython",
    "version": 3
   },
   "file_extension": ".py",
   "mimetype": "text/x-python",
   "name": "python",
   "nbconvert_exporter": "python",
   "pygments_lexer": "ipython3",
   "version": "3.9.7"
  }
 },
 "nbformat": 4,
 "nbformat_minor": 5
}
