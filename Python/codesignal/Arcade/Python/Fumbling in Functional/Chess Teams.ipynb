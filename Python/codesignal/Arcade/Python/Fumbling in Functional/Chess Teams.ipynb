{
 "cells": [
  {
   "cell_type": "code",
   "execution_count": null,
   "id": "5036c892",
   "metadata": {},
   "outputs": [],
   "source": [
    "# link : https://app.codesignal.com/arcade/python-arcade/fumbling-in-functional/z5SJJNMiSFyFDFpZR\n",
    "# objective : return the games in the order they will be played\n",
    "# constraint : one-line short-coding\n",
    "def solution(smarties, cleveries):\n",
    "    return list(zip(smarties, cleveries))"
   ]
  }
 ],
 "metadata": {
  "kernelspec": {
   "display_name": "Python 3 (ipykernel)",
   "language": "python",
   "name": "python3"
  },
  "language_info": {
   "codemirror_mode": {
    "name": "ipython",
    "version": 3
   },
   "file_extension": ".py",
   "mimetype": "text/x-python",
   "name": "python",
   "nbconvert_exporter": "python",
   "pygments_lexer": "ipython3",
   "version": "3.9.7"
  }
 },
 "nbformat": 4,
 "nbformat_minor": 5
}
