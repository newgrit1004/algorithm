{
 "cells": [
  {
   "cell_type": "code",
   "execution_count": null,
   "id": "80586444",
   "metadata": {},
   "outputs": [],
   "source": [
    "# link : https://app.codesignal.com/arcade/python-arcade/fumbling-in-functional/TjCNTwysvW6za5Qh4\n",
    "# objective : return an array of the same length\n",
    "def solution(result):\n",
    "    def fix(x):\n",
    "        return x // 10\n",
    "\n",
    "    return list(map(fix, result))\n"
   ]
  }
 ],
 "metadata": {
  "kernelspec": {
   "display_name": "Python 3 (ipykernel)",
   "language": "python",
   "name": "python3"
  },
  "language_info": {
   "codemirror_mode": {
    "name": "ipython",
    "version": 3
   },
   "file_extension": ".py",
   "mimetype": "text/x-python",
   "name": "python",
   "nbconvert_exporter": "python",
   "pygments_lexer": "ipython3",
   "version": "3.9.7"
  }
 },
 "nbformat": 4,
 "nbformat_minor": 5
}
