{
 "cells": [
  {
   "cell_type": "code",
   "execution_count": null,
   "id": "cccaeb47",
   "metadata": {},
   "outputs": [],
   "source": [
    "# link : https://app.codesignal.com/arcade/python-arcade/caravan-of-collections/aarR4B273h5D2x8ry/solutions?solutionId=mT9EZaTMDzDqnNhB8\n",
    "# objective : find all other combinations the password could possibly have in the givne list of digits\n",
    "# constraint : one-line short-coding\n",
    "from collections import deque\n",
    "\n",
    "def solution(digits):\n",
    "    n = len(digits)\n",
    "    res = [deque(digits) for _ in range(n)]\n",
    "    deque(map(lambda x : x[1].rotate(-x[0]),enumerate(res)), 0)\n",
    "    return [list(d) for d in res]\n"
   ]
  }
 ],
 "metadata": {
  "kernelspec": {
   "display_name": "Python 3 (ipykernel)",
   "language": "python",
   "name": "python3"
  },
  "language_info": {
   "codemirror_mode": {
    "name": "ipython",
    "version": 3
   },
   "file_extension": ".py",
   "mimetype": "text/x-python",
   "name": "python",
   "nbconvert_exporter": "python",
   "pygments_lexer": "ipython3",
   "version": "3.9.7"
  }
 },
 "nbformat": 4,
 "nbformat_minor": 5
}
