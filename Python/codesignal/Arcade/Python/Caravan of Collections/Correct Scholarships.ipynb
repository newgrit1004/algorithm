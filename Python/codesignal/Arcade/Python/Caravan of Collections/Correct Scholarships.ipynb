{
 "cells": [
  {
   "cell_type": "code",
   "execution_count": null,
   "id": "b9b1306b",
   "metadata": {},
   "outputs": [],
   "source": [
    "# link : https://app.codesignal.com/arcade/python-arcade/caravan-of-collections/f3dcuz6yoKv9yorzh\n",
    "# objective : True if the scholarships are correctly distributed else False\n",
    "# constraint : one-line short-coding\n",
    "def solution(bestStudents, scholarships, allStudents):\n",
    "    return set(bestStudents) <= set(scholarships) < set(allStudents)"
   ]
  }
 ],
 "metadata": {
  "kernelspec": {
   "display_name": "Python 3 (ipykernel)",
   "language": "python",
   "name": "python3"
  },
  "language_info": {
   "codemirror_mode": {
    "name": "ipython",
    "version": 3
   },
   "file_extension": ".py",
   "mimetype": "text/x-python",
   "name": "python",
   "nbconvert_exporter": "python",
   "pygments_lexer": "ipython3",
   "version": "3.9.7"
  }
 },
 "nbformat": 4,
 "nbformat_minor": 5
}
