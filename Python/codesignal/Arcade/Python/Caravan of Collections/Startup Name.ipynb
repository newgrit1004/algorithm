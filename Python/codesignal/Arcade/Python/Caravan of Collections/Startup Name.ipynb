{
 "cells": [
  {
   "cell_type": "code",
   "execution_count": null,
   "id": "5db82b0e",
   "metadata": {},
   "outputs": [],
   "source": [
    "# link : https://app.codesignal.com/arcade/python-arcade/caravan-of-collections/G6yyoXW9w888pnvsZ/solutions\n",
    "# objective : return the list of characters that are popular but not main stream sorted by their ASCII codes\n",
    "# constraint : one-line short-coding in res\n",
    "def solution(companies):\n",
    "    cmp1 = set(companies[0])\n",
    "    cmp2 = set(companies[1])\n",
    "    cmp3 = set(companies[2])\n",
    "    res = (set(companies[0]) | set(companies[1]) | set(companies[2])) - (set(companies[0])^set(companies[1])^set(companies[2]))\n",
    "    return list(sorted(list(res)))\n"
   ]
  }
 ],
 "metadata": {
  "kernelspec": {
   "display_name": "Python 3 (ipykernel)",
   "language": "python",
   "name": "python3"
  },
  "language_info": {
   "codemirror_mode": {
    "name": "ipython",
    "version": 3
   },
   "file_extension": ".py",
   "mimetype": "text/x-python",
   "name": "python",
   "nbconvert_exporter": "python",
   "pygments_lexer": "ipython3",
   "version": "3.9.7"
  }
 },
 "nbformat": 4,
 "nbformat_minor": 5
}
