{
 "cells": [
  {
   "cell_type": "code",
   "execution_count": null,
   "id": "4f0c80aa",
   "metadata": {},
   "outputs": [],
   "source": [
    "# link : https://app.codesignal.com/arcade/python-arcade/caravan-of-collections/zmQ9DqAN2mDL9hive\n",
    "# objective : return an array two string sorted lexicographically\n",
    "# constraint : one-line short-coding on getIdentifier\n",
    "def solution(word1, word2):\n",
    "    def getIdentifier(w1, w2):\n",
    "        return ''.join(sorted(list(set(w1)-set(w2))))\n",
    "\n",
    "    return [getIdentifier(word1, word2), getIdentifier(word2, word1)]\n"
   ]
  }
 ],
 "metadata": {
  "kernelspec": {
   "display_name": "Python 3 (ipykernel)",
   "language": "python",
   "name": "python3"
  },
  "language_info": {
   "codemirror_mode": {
    "name": "ipython",
    "version": 3
   },
   "file_extension": ".py",
   "mimetype": "text/x-python",
   "name": "python",
   "nbconvert_exporter": "python",
   "pygments_lexer": "ipython3",
   "version": "3.9.7"
  }
 },
 "nbformat": 4,
 "nbformat_minor": 5
}
