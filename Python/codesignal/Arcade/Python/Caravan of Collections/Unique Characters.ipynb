{
 "cells": [
  {
   "cell_type": "code",
   "execution_count": null,
   "id": "281633b5",
   "metadata": {},
   "outputs": [],
   "source": [
    "# link : https://app.codesignal.com/arcade/python-arcade/caravan-of-collections/RSsTY2Aevh9gpBTNd\n",
    "# objective : an array of all unique characters that appear in it sorted by their ASCII codes\n",
    "# constraint : one-line short-coding\n",
    "def solution(document):\n",
    "    return list(sorted(set(document), key=lambda x : ord(x)))\n"
   ]
  }
 ],
 "metadata": {
  "kernelspec": {
   "display_name": "Python 3 (ipykernel)",
   "language": "python",
   "name": "python3"
  },
  "language_info": {
   "codemirror_mode": {
    "name": "ipython",
    "version": 3
   },
   "file_extension": ".py",
   "mimetype": "text/x-python",
   "name": "python",
   "nbconvert_exporter": "python",
   "pygments_lexer": "ipython3",
   "version": "3.9.7"
  }
 },
 "nbformat": 4,
 "nbformat_minor": 5
}
