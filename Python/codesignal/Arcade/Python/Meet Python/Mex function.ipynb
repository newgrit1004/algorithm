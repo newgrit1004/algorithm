{
 "cells": [
  {
   "cell_type": "code",
   "execution_count": null,
   "id": "40350807",
   "metadata": {},
   "outputs": [],
   "source": [
    "# link : https://app.codesignal.com/arcade/python-arcade/meet-python/pLsMG462nzEh3axHN\n",
    "# objective : return mex of s if it's smaller than upperBound or uppberBound instead\n",
    "def solution(s, upperBound):\n",
    "    found = -1\n",
    "    for i in range(upperBound):\n",
    "        if not i in s:\n",
    "            found = i\n",
    "            break\n",
    "    else:\n",
    "        found = upperBound\n",
    "\n",
    "    return found\n"
   ]
  }
 ],
 "metadata": {
  "kernelspec": {
   "display_name": "Python 3 (ipykernel)",
   "language": "python",
   "name": "python3"
  },
  "language_info": {
   "codemirror_mode": {
    "name": "ipython",
    "version": 3
   },
   "file_extension": ".py",
   "mimetype": "text/x-python",
   "name": "python",
   "nbconvert_exporter": "python",
   "pygments_lexer": "ipython3",
   "version": "3.9.7"
  }
 },
 "nbformat": 4,
 "nbformat_minor": 5
}
