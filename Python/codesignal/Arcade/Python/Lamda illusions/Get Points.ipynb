{
 "cells": [
  {
   "cell_type": "code",
   "execution_count": null,
   "id": "bcc5da56",
   "metadata": {},
   "outputs": [],
   "source": [
    "# link : https://app.codesignal.com/arcade/python-arcade/lambda-illusions/kYGchiunT4QtB5Dh9\n",
    "# objective : return the number of points the student received for the test\n",
    "# constraint : one-line short coding\n",
    "def solution(answers, p):\n",
    "    questionPoints = lambda i, ans : i+1 if ans else -1*p\n",
    "\n",
    "    res = 0\n",
    "    for i, ans in enumerate(answers):\n",
    "        res += questionPoints(i, ans)\n",
    "    return res\n"
   ]
  }
 ],
 "metadata": {
  "kernelspec": {
   "display_name": "Python 3 (ipykernel)",
   "language": "python",
   "name": "python3"
  },
  "language_info": {
   "codemirror_mode": {
    "name": "ipython",
    "version": 3
   },
   "file_extension": ".py",
   "mimetype": "text/x-python",
   "name": "python",
   "nbconvert_exporter": "python",
   "pygments_lexer": "ipython3",
   "version": "3.9.7"
  }
 },
 "nbformat": 4,
 "nbformat_minor": 5
}
