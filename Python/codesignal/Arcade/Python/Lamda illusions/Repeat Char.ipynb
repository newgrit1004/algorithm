{
 "cells": [
  {
   "cell_type": "code",
   "execution_count": null,
   "id": "99d88d9f",
   "metadata": {},
   "outputs": [],
   "source": [
    "# link : https://app.codesignal.com/arcade/python-arcade/lambda-illusions/bCAsRfNJrjD9zhxkS\n",
    "# objective : use lambda function\n",
    "# constraint : one-line short coding\n",
    "solution = lambda ch, n : ch*n"
   ]
  }
 ],
 "metadata": {
  "kernelspec": {
   "display_name": "Python 3 (ipykernel)",
   "language": "python",
   "name": "python3"
  },
  "language_info": {
   "codemirror_mode": {
    "name": "ipython",
    "version": 3
   },
   "file_extension": ".py",
   "mimetype": "text/x-python",
   "name": "python",
   "nbconvert_exporter": "python",
   "pygments_lexer": "ipython3",
   "version": "3.9.7"
  }
 },
 "nbformat": 4,
 "nbformat_minor": 5
}
