{
 "cells": [
  {
   "cell_type": "code",
   "execution_count": null,
   "id": "e0e49338",
   "metadata": {},
   "outputs": [],
   "source": [
    "# link : https://app.codesignal.com/arcade/python-arcade/lurking-in-lists/L3TQWdGMcWL85LHcR\n",
    "# objective : remove each kth tasks from the list\n",
    "# constraint : one-line short coding\n",
    "def solution(k, toDo):\n",
    "    del toDo[k-1::k]\n",
    "    return toDo\n"
   ]
  }
 ],
 "metadata": {
  "kernelspec": {
   "display_name": "Python 3 (ipykernel)",
   "language": "python",
   "name": "python3"
  },
  "language_info": {
   "codemirror_mode": {
    "name": "ipython",
    "version": 3
   },
   "file_extension": ".py",
   "mimetype": "text/x-python",
   "name": "python",
   "nbconvert_exporter": "python",
   "pygments_lexer": "ipython3",
   "version": "3.9.7"
  }
 },
 "nbformat": 4,
 "nbformat_minor": 5
}
