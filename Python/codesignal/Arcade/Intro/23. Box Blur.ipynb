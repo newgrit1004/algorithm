{
 "cells": [
  {
   "cell_type": "code",
   "execution_count": null,
   "id": "d5a91a0a",
   "metadata": {},
   "outputs": [],
   "source": [
    "\"\"\"\n",
    "CodeSignal\n",
    "Problem Number : 22\n",
    "Problem Title :   Box Blur\n",
    "Link : https://app.codesignal.com/arcade/intro/level-5/5xPitc3yT3dqS7XkP\n",
    "Category : list\n",
    "\"\"\"\n",
    "def solution(image):\n",
    "    def blur(image, x, y):\n",
    "        _sum = 0\n",
    "        for i in range(x, x+3):\n",
    "            for j in range(y, y+3):\n",
    "                _sum += image[i][j]\n",
    "                \n",
    "        return _sum//9\n",
    "        \n",
    "    \n",
    "    row = len(image)\n",
    "    col = len(image[0])\n",
    "        \n",
    "    return [[blur(image, x, y) for y in range(col-2)] for x in range(row-2)]\n",
    "        \n",
    "            \n"
   ]
  }
 ],
 "metadata": {
  "kernelspec": {
   "display_name": "Python 3 (ipykernel)",
   "language": "python",
   "name": "python3"
  },
  "language_info": {
   "codemirror_mode": {
    "name": "ipython",
    "version": 3
   },
   "file_extension": ".py",
   "mimetype": "text/x-python",
   "name": "python",
   "nbconvert_exporter": "python",
   "pygments_lexer": "ipython3",
   "version": "3.9.7"
  }
 },
 "nbformat": 4,
 "nbformat_minor": 5
}
