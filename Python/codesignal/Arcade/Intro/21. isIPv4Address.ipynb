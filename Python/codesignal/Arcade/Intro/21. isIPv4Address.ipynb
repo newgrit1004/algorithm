{
 "cells": [
  {
   "cell_type": "code",
   "execution_count": null,
   "id": "dac488fa",
   "metadata": {},
   "outputs": [],
   "source": [
    "\"\"\"\n",
    "CodeSignal\n",
    "Problem Number : 21\n",
    "Problem Title :   isIPv4Address\n",
    "Link : https://app.codesignal.com/arcade/intro/level-5/veW5xJednTy4qcjso\n",
    "Category : String\n",
    "\"\"\"\n",
    "def solution(S):\n",
    "    ip = S.split('.')\n",
    "    if len(ip) != 4:\n",
    "        return False\n",
    "    \n",
    "    print(ip)\n",
    "        \n",
    "    for i in ip:\n",
    "        if not(i.isnumeric()):\n",
    "            return False\n",
    "        if int(i) > 255:\n",
    "            return False\n",
    "            \n",
    "        if int(i)<10 and len(i) == 2:\n",
    "            return False\n",
    "    return True\n",
    "\n"
   ]
  }
 ],
 "metadata": {
  "kernelspec": {
   "display_name": "Python 3 (ipykernel)",
   "language": "python",
   "name": "python3"
  },
  "language_info": {
   "codemirror_mode": {
    "name": "ipython",
    "version": 3
   },
   "file_extension": ".py",
   "mimetype": "text/x-python",
   "name": "python",
   "nbconvert_exporter": "python",
   "pygments_lexer": "ipython3",
   "version": "3.9.7"
  }
 },
 "nbformat": 4,
 "nbformat_minor": 5
}
