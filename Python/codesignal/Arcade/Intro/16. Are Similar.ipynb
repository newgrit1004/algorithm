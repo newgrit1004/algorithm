{
 "cells": [
  {
   "cell_type": "code",
   "execution_count": null,
   "id": "f59fe902",
   "metadata": {},
   "outputs": [],
   "source": [
    "\"\"\"\n",
    "CodeSignal\n",
    "Problem Number : 16\n",
    "Problem Title :  Are Similar?\n",
    "Link : https://app.codesignal.com/arcade/intro/level-4/xYXfzQmnhBvEKJwXP\n",
    "Category : list\n",
    "\"\"\"\n",
    "def solution(A, B):\n",
    "    return sorted(A)==sorted(B) and sum([a!=b for a,b in zip(A,B)])<=2\n"
   ]
  }
 ],
 "metadata": {
  "kernelspec": {
   "display_name": "Python 3 (ipykernel)",
   "language": "python",
   "name": "python3"
  },
  "language_info": {
   "codemirror_mode": {
    "name": "ipython",
    "version": 3
   },
   "file_extension": ".py",
   "mimetype": "text/x-python",
   "name": "python",
   "nbconvert_exporter": "python",
   "pygments_lexer": "ipython3",
   "version": "3.9.7"
  }
 },
 "nbformat": 4,
 "nbformat_minor": 5
}
