{
 "cells": [
  {
   "cell_type": "code",
   "execution_count": null,
   "id": "add63692",
   "metadata": {},
   "outputs": [],
   "source": [
    "\"\"\"\n",
    "CodeSignal\n",
    "Problem Number : 31\n",
    "Problem Title :  depositProfit\n",
    "Link :  https://app.codesignal.com/arcade/intro/level-7/8PxjMSncp9ApA4DAb\n",
    "Category : math\n",
    "\"\"\"\n",
    "def solution(deposit, rate, threshold):\n",
    "    cnt = 0\n",
    "    while True:\n",
    "        money = deposit * ((1+rate/100)**cnt)\n",
    "        print(money)\n",
    "        if money >= threshold:\n",
    "            return cnt\n",
    "        else:\n",
    "            cnt +=1\n",
    "\n",
    "\n"
   ]
  }
 ],
 "metadata": {
  "kernelspec": {
   "display_name": "Python 3 (ipykernel)",
   "language": "python",
   "name": "python3"
  },
  "language_info": {
   "codemirror_mode": {
    "name": "ipython",
    "version": 3
   },
   "file_extension": ".py",
   "mimetype": "text/x-python",
   "name": "python",
   "nbconvert_exporter": "python",
   "pygments_lexer": "ipython3",
   "version": "3.9.7"
  }
 },
 "nbformat": 4,
 "nbformat_minor": 5
}
