{
 "cells": [
  {
   "cell_type": "code",
   "execution_count": null,
   "id": "9f76a558",
   "metadata": {},
   "outputs": [],
   "source": [
    "\"\"\"\n",
    "CodeSignal\n",
    "Problem Number : 14\n",
    "Problem Title :  alternatingSums\n",
    "Link : https://app.codesignal.com/arcade/intro/level-4/cC5QuL9fqvZjXJsW9\n",
    "Category : list\n",
    "\"\"\"\n",
    "def solution(a):\n",
    "    return [sum([val for idx, val in enumerate(a) if not idx%2]), sum([val for idx, val in enumerate(a) if idx%2])]\n"
   ]
  }
 ],
 "metadata": {
  "kernelspec": {
   "display_name": "Python 3 (ipykernel)",
   "language": "python",
   "name": "python3"
  },
  "language_info": {
   "codemirror_mode": {
    "name": "ipython",
    "version": 3
   },
   "file_extension": ".py",
   "mimetype": "text/x-python",
   "name": "python",
   "nbconvert_exporter": "python",
   "pygments_lexer": "ipython3",
   "version": "3.9.7"
  }
 },
 "nbformat": 4,
 "nbformat_minor": 5
}
