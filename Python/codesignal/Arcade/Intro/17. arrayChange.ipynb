{
 "cells": [
  {
   "cell_type": "code",
   "execution_count": null,
   "id": "2a4188a5",
   "metadata": {},
   "outputs": [],
   "source": [
    "\"\"\"\n",
    "CodeSignal\n",
    "Problem Number : 17\n",
    "Problem Title :  arrayChange\n",
    "Link : https://app.codesignal.com/arcade/intro/level-4/xvkRbxYkdHdHNCKjg\n",
    "Category : list\n",
    "\"\"\"\n",
    "def solution(A):\n",
    "    _sum = 0\n",
    "    \n",
    "    for idx, val in enumerate(A):\n",
    "        if idx == 0:\n",
    "            continue\n",
    "                    \n",
    "        if val <= A[idx-1]:\n",
    "            add = A[idx-1]+1 - val\n",
    "            A[idx] = A[idx-1]+1\n",
    "            _sum += add\n",
    "        \n",
    "            \n",
    "    return _sum\n",
    "            \n",
    "        \n",
    "\n"
   ]
  }
 ],
 "metadata": {
  "kernelspec": {
   "display_name": "Python 3 (ipykernel)",
   "language": "python",
   "name": "python3"
  },
  "language_info": {
   "codemirror_mode": {
    "name": "ipython",
    "version": 3
   },
   "file_extension": ".py",
   "mimetype": "text/x-python",
   "name": "python",
   "nbconvert_exporter": "python",
   "pygments_lexer": "ipython3",
   "version": "3.9.7"
  }
 },
 "nbformat": 4,
 "nbformat_minor": 5
}
