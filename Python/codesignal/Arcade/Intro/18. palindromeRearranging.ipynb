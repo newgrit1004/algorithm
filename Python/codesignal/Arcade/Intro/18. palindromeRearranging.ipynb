{
 "cells": [
  {
   "cell_type": "code",
   "execution_count": null,
   "id": "a951e499",
   "metadata": {},
   "outputs": [],
   "source": [
    "\"\"\"\n",
    "CodeSignal\n",
    "Problem Number : 18\n",
    "Problem Title :  palindromeRearranging\n",
    "Link : https://app.codesignal.com/arcade/intro/level-4/Xfeo7r9SBSpo3Wico\n",
    "Category : palindrome\n",
    "\"\"\"\n",
    "from collections import Counter as C\n",
    "def solution(s):\n",
    "    n = len(s)\n",
    "    cnt = C(s)\n",
    "    if n%2:\n",
    "        odd_cnt = 0\n",
    "        for i in cnt.values():\n",
    "            if i%2:\n",
    "                odd_cnt += 1\n",
    "            if odd_cnt >=2:\n",
    "                return False\n",
    "    \n",
    "        return True\n",
    "                \n",
    "        \n",
    "    \n",
    "    else:#if n is even\n",
    "        for i in cnt.values():\n",
    "            if i%2:\n",
    "                return False\n",
    "                \n",
    "        return True"
   ]
  }
 ],
 "metadata": {
  "kernelspec": {
   "display_name": "Python 3 (ipykernel)",
   "language": "python",
   "name": "python3"
  },
  "language_info": {
   "codemirror_mode": {
    "name": "ipython",
    "version": 3
   },
   "file_extension": ".py",
   "mimetype": "text/x-python",
   "name": "python",
   "nbconvert_exporter": "python",
   "pygments_lexer": "ipython3",
   "version": "3.9.7"
  }
 },
 "nbformat": 4,
 "nbformat_minor": 5
}
