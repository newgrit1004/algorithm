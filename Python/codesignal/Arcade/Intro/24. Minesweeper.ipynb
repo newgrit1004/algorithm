{
 "cells": [
  {
   "cell_type": "code",
   "execution_count": null,
   "id": "014f47dd",
   "metadata": {},
   "outputs": [],
   "source": [
    "\"\"\"\n",
    "CodeSignal\n",
    "Problem Number : 24\n",
    "Problem Title :   Minesweeper\n",
    "Link : https://app.codesignal.com/arcade/intro/level-5/ZMR5n7vJbexnLrgaM\n",
    "Category : list\n",
    "\"\"\"\n",
    "def solution(matrix):\n",
    "\n",
    "    r = []\n",
    "    \n",
    "    for i in range(len(matrix)):\n",
    "        r.append([])\n",
    "        for j in range(len(matrix[0])):\n",
    "            l = -matrix[i][j]\n",
    "            for x in [-1,0,1]:\n",
    "                for y in [-1,0,1]:\n",
    "                    if 0<=i+x<len(matrix) and 0<=j+y<len(matrix[0]):\n",
    "                        l += matrix[i+x][j+y]\n",
    "\n",
    "            r[i].append(l)\n",
    "    return r\n",
    "                    "
   ]
  }
 ],
 "metadata": {
  "kernelspec": {
   "display_name": "Python 3 (ipykernel)",
   "language": "python",
   "name": "python3"
  },
  "language_info": {
   "codemirror_mode": {
    "name": "ipython",
    "version": 3
   },
   "file_extension": ".py",
   "mimetype": "text/x-python",
   "name": "python",
   "nbconvert_exporter": "python",
   "pygments_lexer": "ipython3",
   "version": "3.9.7"
  }
 },
 "nbformat": 4,
 "nbformat_minor": 5
}
