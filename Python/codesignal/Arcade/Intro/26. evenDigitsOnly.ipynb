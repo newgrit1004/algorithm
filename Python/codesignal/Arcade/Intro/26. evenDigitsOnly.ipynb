{
 "cells": [
  {
   "cell_type": "code",
   "execution_count": null,
   "id": "fd01f28d",
   "metadata": {},
   "outputs": [],
   "source": [
    "\"\"\"\n",
    "CodeSignal\n",
    "Problem Number : 26\n",
    "Problem Title :  Even Digits Only\n",
    "Link :  https://app.codesignal.com/arcade/intro/level-6/6cmcmszJQr6GQzRwW\n",
    "Category : list\n",
    "\"\"\"\n",
    "def solution(n):\n",
    "    for i in list(str(n)):\n",
    "        if int(i)%2:\n",
    "            return False\n",
    "    \n",
    "    return True\n",
    "\n"
   ]
  }
 ],
 "metadata": {
  "kernelspec": {
   "display_name": "Python 3 (ipykernel)",
   "language": "python",
   "name": "python3"
  },
  "language_info": {
   "codemirror_mode": {
    "name": "ipython",
    "version": 3
   },
   "file_extension": ".py",
   "mimetype": "text/x-python",
   "name": "python",
   "nbconvert_exporter": "python",
   "pygments_lexer": "ipython3",
   "version": "3.9.7"
  }
 },
 "nbformat": 4,
 "nbformat_minor": 5
}
