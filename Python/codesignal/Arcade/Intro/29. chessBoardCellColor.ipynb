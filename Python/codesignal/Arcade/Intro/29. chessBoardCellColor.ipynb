{
 "cells": [
  {
   "cell_type": "code",
   "execution_count": null,
   "id": "c5074119",
   "metadata": {},
   "outputs": [],
   "source": [
    "\"\"\"\n",
    "CodeSignal\n",
    "Problem Number : 29\n",
    "Problem Title :  chessBoardCellColor\n",
    "Link :  https://app.codesignal.com/arcade/intro/level-6/t97bpjfrMDZH8GJhi\n",
    "Category : logic\n",
    "\"\"\"\n",
    "def solution(cell1, cell2):\n",
    "    #black = true, white = False\n",
    "    def checkcolor(cell):\n",
    "        odd = ['A', 'C', 'E', 'G']\n",
    "        even = ['B', 'D', 'F', 'H']\n",
    "        \n",
    "        if cell[0] in odd:\n",
    "            if int(cell[1])%2:\n",
    "                return True #black\n",
    "            else:\n",
    "                return False#white\n",
    "        else:\n",
    "            if int(cell[1])%2:\n",
    "                return False\n",
    "            else:\n",
    "                return True\n",
    "                \n",
    "        \n",
    "    return checkcolor(cell1) == checkcolor(cell2)"
   ]
  }
 ],
 "metadata": {
  "kernelspec": {
   "display_name": "Python 3 (ipykernel)",
   "language": "python",
   "name": "python3"
  },
  "language_info": {
   "codemirror_mode": {
    "name": "ipython",
    "version": 3
   },
   "file_extension": ".py",
   "mimetype": "text/x-python",
   "name": "python",
   "nbconvert_exporter": "python",
   "pygments_lexer": "ipython3",
   "version": "3.9.7"
  }
 },
 "nbformat": 4,
 "nbformat_minor": 5
}
