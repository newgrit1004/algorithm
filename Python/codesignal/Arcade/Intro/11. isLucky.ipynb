{
 "cells": [
  {
   "cell_type": "code",
   "execution_count": null,
   "id": "6448c6db",
   "metadata": {},
   "outputs": [],
   "source": [
    "\"\"\"\n",
    "CodeSignal\n",
    "Problem Number :11\n",
    "Problem Title :  isLucky\n",
    "Link : https://app.codesignal.com/arcade/intro/level-3/3AdBC97QNuhF6RwsQ\n",
    "Category : Slicing\n",
    "\"\"\"\n",
    "def solution(n):\n",
    "    str_n = list(str(n))\n",
    "    N = len(str_n)\n",
    "    return True if sum(map(int,str_n[:N//2])) == sum(map(int,str_n[N//2:])) else False\n",
    "\n",
    "\n"
   ]
  }
 ],
 "metadata": {
  "kernelspec": {
   "display_name": "Python 3 (ipykernel)",
   "language": "python",
   "name": "python3"
  },
  "language_info": {
   "codemirror_mode": {
    "name": "ipython",
    "version": 3
   },
   "file_extension": ".py",
   "mimetype": "text/x-python",
   "name": "python",
   "nbconvert_exporter": "python",
   "pygments_lexer": "ipython3",
   "version": "3.9.7"
  }
 },
 "nbformat": 4,
 "nbformat_minor": 5
}
