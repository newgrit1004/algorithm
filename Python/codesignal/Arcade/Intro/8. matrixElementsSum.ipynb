{
 "cells": [
  {
   "cell_type": "code",
   "execution_count": null,
   "id": "c77ddfa8",
   "metadata": {},
   "outputs": [],
   "source": [
    "\"\"\"\n",
    "CodeSignal\n",
    "Problem Number :8\n",
    "Problem Title :  matrixElementsSum\n",
    "Link : https://app.codesignal.com/arcade/intro/level-2/xskq4ZxLyqQMCLshr\n",
    "Category : Math\n",
    "\"\"\"\n",
    "def solution(m):\n",
    "    r = len(m) #행 개수\n",
    "    c = len(m[0]) #열 개수\n",
    "    total=0\n",
    "    for j in range(c):\n",
    "        for i in range(r):\n",
    "            if m[i][j]!=0:\n",
    "                total+=m[i][j]\n",
    "            else:\n",
    "                break\n",
    "    return total"
   ]
  }
 ],
 "metadata": {
  "kernelspec": {
   "display_name": "Python 3 (ipykernel)",
   "language": "python",
   "name": "python3"
  },
  "language_info": {
   "codemirror_mode": {
    "name": "ipython",
    "version": 3
   },
   "file_extension": ".py",
   "mimetype": "text/x-python",
   "name": "python",
   "nbconvert_exporter": "python",
   "pygments_lexer": "ipython3",
   "version": "3.9.7"
  }
 },
 "nbformat": 4,
 "nbformat_minor": 5
}
