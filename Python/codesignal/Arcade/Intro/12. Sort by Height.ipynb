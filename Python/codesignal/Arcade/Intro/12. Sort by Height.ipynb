{
 "cells": [
  {
   "cell_type": "code",
   "execution_count": null,
   "id": "1200189b",
   "metadata": {},
   "outputs": [],
   "source": [
    "\"\"\"\n",
    "CodeSignal\n",
    "Problem Number :12\n",
    "Problem Title :  Sort by Height\n",
    "Link : https://app.codesignal.com/arcade/intro/level-3/D6qmdBL2NYz49XHwM\n",
    "Category : list\n",
    "\"\"\"\n",
    "def solution(a):\n",
    "    positive = sorted(list(filter(lambda x: x>0, a)))\n",
    "    ans = list()\n",
    "    idx = 0\n",
    "    for i in a:\n",
    "        if i == -1:\n",
    "            ans.append(i)\n",
    "        else:\n",
    "            ans.append(positive[idx])\n",
    "            idx += 1\n",
    "            \n",
    "    return ans\n",
    "            \n",
    "        "
   ]
  }
 ],
 "metadata": {
  "kernelspec": {
   "display_name": "Python 3 (ipykernel)",
   "language": "python",
   "name": "python3"
  },
  "language_info": {
   "codemirror_mode": {
    "name": "ipython",
    "version": 3
   },
   "file_extension": ".py",
   "mimetype": "text/x-python",
   "name": "python",
   "nbconvert_exporter": "python",
   "pygments_lexer": "ipython3",
   "version": "3.9.7"
  }
 },
 "nbformat": 4,
 "nbformat_minor": 5
}
