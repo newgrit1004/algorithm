{
 "cells": [
  {
   "cell_type": "code",
   "execution_count": null,
   "id": "f57597b9",
   "metadata": {},
   "outputs": [],
   "source": [
    "\"\"\"\n",
    "CodeSignal\n",
    "Problem Number : 20\n",
    "Problem Title :  arrayMaximalAdjacentDifference\n",
    "Link : https://app.codesignal.com/arcade/intro/level-5/EEJxjQ7oo7C5wAGjE\n",
    "Category : list\n",
    "\"\"\"\n",
    "def solution(A):\n",
    "    cmax = float(\"-inf\")\n",
    "    for i in range(1, len(A)):\n",
    "        if i == len(A)-1:\n",
    "            tmp = A[i]-A[i-1]\n",
    "        else:\n",
    "            tmp = max(A[i]-A[i-1], A[i]-A[i+1])\n",
    "        \n",
    "        if cmax < tmp:\n",
    "            cmax = tmp\n",
    "            \n",
    "    return cmax\n",
    "        \n",
    "        \n",
    "\n"
   ]
  }
 ],
 "metadata": {
  "kernelspec": {
   "display_name": "Python 3 (ipykernel)",
   "language": "python",
   "name": "python3"
  },
  "language_info": {
   "codemirror_mode": {
    "name": "ipython",
    "version": 3
   },
   "file_extension": ".py",
   "mimetype": "text/x-python",
   "name": "python",
   "nbconvert_exporter": "python",
   "pygments_lexer": "ipython3",
   "version": "3.9.7"
  }
 },
 "nbformat": 4,
 "nbformat_minor": 5
}
