{
 "cells": [
  {
   "cell_type": "code",
   "execution_count": null,
   "id": "3f649b83",
   "metadata": {},
   "outputs": [],
   "source": [
    "\"\"\"\n",
    "CodeSignal\n",
    "Problem Number :9\n",
    "Problem Title :  All Longest Strings\n",
    "Link : https://app.codesignal.com/arcade/intro/level-3/fzsCQGYbxaEcTr2bL\n",
    "Category : String\n",
    "\"\"\"\n",
    "def solution(inputArray):\n",
    "    longest = max(map(len, inputArray))\n",
    "    return [i for i in inputArray if len(i) == longest]\n",
    "\n"
   ]
  }
 ],
 "metadata": {
  "kernelspec": {
   "display_name": "Python 3 (ipykernel)",
   "language": "python",
   "name": "python3"
  },
  "language_info": {
   "codemirror_mode": {
    "name": "ipython",
    "version": 3
   },
   "file_extension": ".py",
   "mimetype": "text/x-python",
   "name": "python",
   "nbconvert_exporter": "python",
   "pygments_lexer": "ipython3",
   "version": "3.9.7"
  }
 },
 "nbformat": 4,
 "nbformat_minor": 5
}
