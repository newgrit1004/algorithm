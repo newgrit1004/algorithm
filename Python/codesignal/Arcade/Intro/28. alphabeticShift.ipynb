{
 "cells": [
  {
   "cell_type": "code",
   "execution_count": null,
   "id": "6aeb564e",
   "metadata": {},
   "outputs": [],
   "source": [
    "\"\"\"\n",
    "CodeSignal\n",
    "Problem Number : 28\n",
    "Problem Title :  alphabeticShift\n",
    "Link :  https://app.codesignal.com/arcade/intro/level-6/PWLT8GBrv9xXy4Dui\n",
    "Category : string\n",
    "\"\"\"\n",
    "def solution(S):\n",
    "    ans = \"\"\n",
    "    for i in S:\n",
    "        if i == 'z':\n",
    "            ans += 'a'\n",
    "        else:\n",
    "            ans += chr(ord(i) +1)\n",
    "        \n",
    "    return ans\n",
    "\n",
    "\n",
    "\n",
    "\n",
    "\n"
   ]
  }
 ],
 "metadata": {
  "kernelspec": {
   "display_name": "Python 3 (ipykernel)",
   "language": "python",
   "name": "python3"
  },
  "language_info": {
   "codemirror_mode": {
    "name": "ipython",
    "version": 3
   },
   "file_extension": ".py",
   "mimetype": "text/x-python",
   "name": "python",
   "nbconvert_exporter": "python",
   "pygments_lexer": "ipython3",
   "version": "3.9.7"
  }
 },
 "nbformat": 4,
 "nbformat_minor": 5
}
