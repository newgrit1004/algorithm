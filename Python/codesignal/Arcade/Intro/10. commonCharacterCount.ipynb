{
 "cells": [
  {
   "cell_type": "code",
   "execution_count": null,
   "id": "99ea0b7b",
   "metadata": {},
   "outputs": [],
   "source": [
    "\"\"\"\n",
    "CodeSignal\n",
    "Problem Number :10\n",
    "Problem Title :  commonCharacterCount\n",
    "Link : https://app.codesignal.com/arcade/intro/level-3/JKKuHJknZNj4YGL32\n",
    "Category : String\n",
    "\"\"\"\n",
    "from collections import Counter\n",
    "def solution(s1, s2):\n",
    "    c1 = Counter(s1)\n",
    "    c2 = Counter(s2)\n",
    "    a = c1&c2\n",
    "    return sum(a.values())\n",
    "\n"
   ]
  }
 ],
 "metadata": {
  "kernelspec": {
   "display_name": "Python 3 (ipykernel)",
   "language": "python",
   "name": "python3"
  },
  "language_info": {
   "codemirror_mode": {
    "name": "ipython",
    "version": 3
   },
   "file_extension": ".py",
   "mimetype": "text/x-python",
   "name": "python",
   "nbconvert_exporter": "python",
   "pygments_lexer": "ipython3",
   "version": "3.9.7"
  }
 },
 "nbformat": 4,
 "nbformat_minor": 5
}
