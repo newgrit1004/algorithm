{
 "cells": [
  {
   "cell_type": "code",
   "execution_count": null,
   "id": "114da090",
   "metadata": {},
   "outputs": [],
   "source": [
    "\"\"\"\n",
    "CodeSignal\n",
    "Problem Number : 19\n",
    "Problem Title :  areEquallyStrong\n",
    "Link : https://app.codesignal.com/arcade/intro/level-5/g6dc9KJyxmFjB98dL\n",
    "Category : dictionary\n",
    "\"\"\"\n",
    "def solution(yourLeft, yourRight, friendsLeft, friendsRight):\n",
    "    you = {yourLeft:1, yourRight:1}\n",
    "    friend = {friendsLeft:1, friendsRight:1}\n",
    "    return you==friend\n",
    "    \n",
    "\n"
   ]
  }
 ],
 "metadata": {
  "kernelspec": {
   "display_name": "Python 3 (ipykernel)",
   "language": "python",
   "name": "python3"
  },
  "language_info": {
   "codemirror_mode": {
    "name": "ipython",
    "version": 3
   },
   "file_extension": ".py",
   "mimetype": "text/x-python",
   "name": "python",
   "nbconvert_exporter": "python",
   "pygments_lexer": "ipython3",
   "version": "3.9.7"
  }
 },
 "nbformat": 4,
 "nbformat_minor": 5
}
