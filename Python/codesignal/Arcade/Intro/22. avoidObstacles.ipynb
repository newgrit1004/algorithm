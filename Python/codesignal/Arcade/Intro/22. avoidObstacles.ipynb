{
 "cells": [
  {
   "cell_type": "code",
   "execution_count": null,
   "id": "2d495a4d",
   "metadata": {},
   "outputs": [],
   "source": [
    "\"\"\"\n",
    "CodeSignal\n",
    "Problem Number : 22\n",
    "Problem Title :   avoidObstacles\n",
    "Link : https://app.codesignal.com/arcade/intro/level-5/XC9Q2DhRRKQrfLhb5\n",
    "Category : list\n",
    "\"\"\"\n",
    "def solution(A):\n",
    "    c = 2\n",
    "    while True:\n",
    "        if sorted([i%c for i in A])[0]>0:\n",
    "            return c\n",
    "        c += 1\n",
    "    \n",
    "\n"
   ]
  }
 ],
 "metadata": {
  "kernelspec": {
   "display_name": "Python 3 (ipykernel)",
   "language": "python",
   "name": "python3"
  },
  "language_info": {
   "codemirror_mode": {
    "name": "ipython",
    "version": 3
   },
   "file_extension": ".py",
   "mimetype": "text/x-python",
   "name": "python",
   "nbconvert_exporter": "python",
   "pygments_lexer": "ipython3",
   "version": "3.9.7"
  }
 },
 "nbformat": 4,
 "nbformat_minor": 5
}
