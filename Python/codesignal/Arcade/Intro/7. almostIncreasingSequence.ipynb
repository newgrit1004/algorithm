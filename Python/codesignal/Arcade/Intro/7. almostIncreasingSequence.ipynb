{
 "cells": [
  {
   "cell_type": "code",
   "execution_count": null,
   "id": "0b87196f",
   "metadata": {},
   "outputs": [],
   "source": [
    "\"\"\"\n",
    "CodeSignal\n",
    "Problem Number :7 \n",
    "Problem Title :  almostIncreasingSequence\n",
    "Link : https://app.codesignal.com/arcade/intro/level-2/2mxbGwLzvkTCKAJMG\n",
    "Category : Math\n",
    "\"\"\"\n",
    "def solution(sequence):\n",
    "    removed = 0\n",
    "    prev_max = current_max = float('-infinity')\n",
    "    \n",
    "    for s in sequence:\n",
    "        if s > current_max:\n",
    "            prev_max = current_max\n",
    "            current_max = s\n",
    "        elif s > prev_max:\n",
    "                removed += 1\n",
    "                current_max = s\n",
    "        else:\n",
    "            removed += 1\n",
    "        if removed > 1:\n",
    "            return False\n",
    "    \n",
    "    return True"
   ]
  }
 ],
 "metadata": {
  "kernelspec": {
   "display_name": "Python 3 (ipykernel)",
   "language": "python",
   "name": "python3"
  },
  "language_info": {
   "codemirror_mode": {
    "name": "ipython",
    "version": 3
   },
   "file_extension": ".py",
   "mimetype": "text/x-python",
   "name": "python",
   "nbconvert_exporter": "python",
   "pygments_lexer": "ipython3",
   "version": "3.9.7"
  }
 },
 "nbformat": 4,
 "nbformat_minor": 5
}
