{
 "cells": [
  {
   "cell_type": "code",
   "execution_count": null,
   "id": "03dece49",
   "metadata": {},
   "outputs": [],
   "source": [
    "\"\"\"\n",
    "CodeSignal\n",
    "Problem Number : 13\n",
    "Problem Title :  reverseInParentheses\n",
    "Link : https://app.codesignal.com/arcade/intro/level-3/9DgaPsE2a7M6M2Hu6\n",
    "Category : string\n",
    "\"\"\"\n",
    "def solution(s):\n",
    "    print((\"bar\")[::-1])\n",
    "    print(s.replace('(', '\"+(\"').replace(')', '\")[::-1]+\"'))\n",
    "    return eval('\"' + s.replace('(', '\"+(\"').replace(')', '\")[::-1]+\"') + '\"')\n",
    "    \n",
    "    \n",
    "    s = inputString\n",
    "\n",
    "    while '(' in s : #괄호가 다 없어질때까지 반복\n",
    "        fb = s.rfind('(') # rfind : 뒤에서부터 문자열 탐색\n",
    "        bb = s[fb:].find(')') #find : 앞에서부터 문자열 탐색\n",
    "        s = s[:fb] + s[fb+1:fb+bb][::-1] + s[fb+bb+1:] #부분적으로 슬라이스 가능\n",
    "\n",
    "    return s\n",
    "                \n",
    "        \n",
    "\n"
   ]
  }
 ],
 "metadata": {
  "kernelspec": {
   "display_name": "Python 3 (ipykernel)",
   "language": "python",
   "name": "python3"
  },
  "language_info": {
   "codemirror_mode": {
    "name": "ipython",
    "version": 3
   },
   "file_extension": ".py",
   "mimetype": "text/x-python",
   "name": "python",
   "nbconvert_exporter": "python",
   "pygments_lexer": "ipython3",
   "version": "3.9.7"
  }
 },
 "nbformat": 4,
 "nbformat_minor": 5
}
