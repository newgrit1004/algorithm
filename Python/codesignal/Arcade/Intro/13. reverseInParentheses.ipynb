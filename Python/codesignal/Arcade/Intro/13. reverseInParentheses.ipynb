{
 "cells": [
  {
   "cell_type": "code",
   "execution_count": null,
   "id": "af15e788",
   "metadata": {},
   "outputs": [],
   "source": [
    "def solution(s):\n",
    "    print((\"bar\")[::-1])\n",
    "    print(s.replace('(', '\"+(\"').replace(')', '\")[::-1]+\"'))\n",
    "    return eval('\"' + s.replace('(', '\"+(\"').replace(')', '\")[::-1]+\"') + '\"')\n",
    "    \n",
    "    \n",
    "    s = inputString\n",
    "\n",
    "    while '(' in s : #괄호가 다 없어질때까지 반복\n",
    "        fb = s.rfind('(') # rfind : 뒤에서부터 문자열 탐색\n",
    "        bb = s[fb:].find(')') #find : 앞에서부터 문자열 탐색\n",
    "        s = s[:fb] + s[fb+1:fb+bb][::-1] + s[fb+bb+1:] #부분적으로 슬라이스 가능\n",
    "\n",
    "    return s\n",
    "                \n",
    "        \n",
    "\n"
   ]
  }
 ],
 "metadata": {
  "kernelspec": {
   "display_name": "Python 3 (ipykernel)",
   "language": "python",
   "name": "python3"
  }
 },
 "nbformat": 4,
 "nbformat_minor": 5
}
