{
 "cells": [
  {
   "cell_type": "code",
   "execution_count": null,
   "id": "24bef05a",
   "metadata": {},
   "outputs": [],
   "source": [
    "\"\"\"\n",
    "CodeSignal\n",
    "Problem Number : 27\n",
    "Problem Title :  variableName\n",
    "Link :  https://app.codesignal.com/arcade/intro/level-6/6Wv4WsrsMJ8Y2Fwno\n",
    "Category : string\n",
    "\"\"\"\n",
    "def solution(name):\n",
    "    for idx, val in enumerate(name):\n",
    "        if idx == 0:\n",
    "            if val.isnumeric():\n",
    "                return False\n",
    "        if val.isalnum() or val == '_':\n",
    "            continue\n",
    "        else:\n",
    "            return False\n",
    "            \n",
    "    return True\n",
    "\n",
    "\n",
    "\n"
   ]
  }
 ],
 "metadata": {
  "kernelspec": {
   "display_name": "Python 3 (ipykernel)",
   "language": "python",
   "name": "python3"
  },
  "language_info": {
   "codemirror_mode": {
    "name": "ipython",
    "version": 3
   },
   "file_extension": ".py",
   "mimetype": "text/x-python",
   "name": "python",
   "nbconvert_exporter": "python",
   "pygments_lexer": "ipython3",
   "version": "3.9.7"
  }
 },
 "nbformat": 4,
 "nbformat_minor": 5
}
