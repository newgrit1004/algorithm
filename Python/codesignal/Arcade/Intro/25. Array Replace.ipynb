{
 "cells": [
  {
   "cell_type": "code",
   "execution_count": null,
   "id": "b1100ed3",
   "metadata": {},
   "outputs": [],
   "source": [
    "\"\"\"\n",
    "CodeSignal\n",
    "Problem Number : 25\n",
    "Problem Title :   Array Replace\n",
    "Link : https://app.codesignal.com/arcade/intro/level-6/mCkmbxdMsMTjBc3Bm\n",
    "Category : list\n",
    "\"\"\"\n",
    "def solution(inputArray, elemToReplace, substitutionElem):\n",
    "    return [substitutionElem if i == elemToReplace else i for i in inputArray ]"
   ]
  }
 ],
 "metadata": {
  "kernelspec": {
   "display_name": "Python 3 (ipykernel)",
   "language": "python",
   "name": "python3"
  },
  "language_info": {
   "codemirror_mode": {
    "name": "ipython",
    "version": 3
   },
   "file_extension": ".py",
   "mimetype": "text/x-python",
   "name": "python",
   "nbconvert_exporter": "python",
   "pygments_lexer": "ipython3",
   "version": "3.9.7"
  }
 },
 "nbformat": 4,
 "nbformat_minor": 5
}
