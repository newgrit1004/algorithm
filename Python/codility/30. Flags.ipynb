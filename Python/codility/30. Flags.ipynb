{
 "cells": [
  {
   "cell_type": "code",
   "execution_count": null,
   "metadata": {},
   "outputs": [],
   "source": [
    "\"\"\"\n",
    "Codility\n",
    "Category : Prime and composite numbers\n",
    "Problem Number : 30\n",
    "Problem Title : Flags\n",
    "Link : https://app.codility.com/programmers/lessons/10-prime_and_composite_numbers/flags/start/\n",
    "Difficulty : Medium\n",
    "Description : Find the maximum number of flags that can be set on mountain peaks.\n",
    "\"\"\"\n",
    "#Task Score : 100%\n",
    "#Correctness : 100%\n",
    "#Performance : 100%\n",
    "#Time Complexity : O(N)\n",
    "import math\n",
    "def solution(A):\n",
    "    N = len(A)\n",
    "    peak = list()\n",
    "\n",
    "    if N < 2:\n",
    "        return 0\n",
    "\n",
    "    for p in range(1, len(A)-1):\n",
    "        if A[p]>A[p-1] and A[p]>A[p+1]:\n",
    "            peak.append(p)\n",
    "    \n",
    "    if len(peak) < 3:\n",
    "        return len(peak)\n",
    "    \n",
    "    # 제일 처음 peak와 끝 peak 사이에 최대한 깃발을 꽂을 수 있는 갯수\n",
    "    maxflag = int(math.sqrt(peak[-1]-peak[0]))+1\n",
    "    \n",
    "    # 제일처음 peak에서부터 조건을 비교하면서, count로 체크한 후 flag 수(f)를 return\n",
    "    # 출처 : https://github.com/BaeMinCheon/study-101/tree/master/Workspace/2020/06/26\n",
    "    for k in range(maxflag, 2, -1): \n",
    "        count = 1 #maxflag부터 하므로 첫번째 깃발 꽂고 시작\n",
    "        p = peak[0]\n",
    "        for i in range(len(peak)):\n",
    "            if k <= peak[i]-p: #peak 사이의 거리가 k보다 크면 깃발 꽂음\n",
    "                count += 1\n",
    "                p = peak[i]\n",
    "            \n",
    "        if count >= k: #꽂을 수 있는 깃발 개수가 k보다 많으면 break\n",
    "            break\n",
    "\n",
    "    return k"
   ]
  }
 ],
 "metadata": {
  "kernelspec": {
   "display_name": "Python 3",
   "language": "python",
   "name": "python3"
  },
  "language_info": {
   "codemirror_mode": {
    "name": "ipython",
    "version": 3
   },
   "file_extension": ".py",
   "mimetype": "text/x-python",
   "name": "python",
   "nbconvert_exporter": "python",
   "pygments_lexer": "ipython3",
   "version": "3.8.3"
  }
 },
 "nbformat": 4,
 "nbformat_minor": 4
}
