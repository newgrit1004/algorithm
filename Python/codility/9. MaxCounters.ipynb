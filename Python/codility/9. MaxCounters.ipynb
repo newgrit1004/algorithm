{
 "cells": [
  {
   "cell_type": "markdown",
   "metadata": {},
   "source": [
    "# Solution #1"
   ]
  },
  {
   "cell_type": "code",
   "execution_count": null,
   "metadata": {},
   "outputs": [],
   "source": [
    "\"\"\"\n",
    "Codility\n",
    "Category : Counting Elements\n",
    "Problem Number : 9\n",
    "Problem Title : MaxCounters\n",
    "Link : https://app.codility.com/programmers/lessons/4-counting_elements/max_counters/start/\n",
    "Difficulty : Medium\n",
    "Description : Calculate the values of counters after applying all alternating operations: increase counter by 1; \n",
    "set value of all counters to current maximum.\n",
    "\"\"\"\n",
    "#Task Score : 66%\n",
    "#Correctness : 100%\n",
    "#Performance : 40%\n",
    "#Time Complexity : O(N*M)\n",
    "def solution(N, A):\n",
    "    # write your code in Python 3.6\n",
    "    arr = [0] * N\n",
    "\n",
    "    for k in range(len(A)):\n",
    "        if A[k] == N+1:\n",
    "            arr = [max(arr)] * N\n",
    "        else:\n",
    "            arr[A[k]-1] += 1\n",
    "    \n",
    "    return arr"
   ]
  },
  {
   "cell_type": "markdown",
   "metadata": {},
   "source": [
    "# Solution #2"
   ]
  },
  {
   "cell_type": "code",
   "execution_count": null,
   "metadata": {},
   "outputs": [],
   "source": [
    "#Source : https://jayb-log.tistory.com/45\n",
    "#Task Score : 100%\n",
    "#Correctness : 100%\n",
    "#Performance : 100%\n",
    "def solution(N, A):\n",
    "    counters = [0 for _ in range(N+1)]\n",
    "    # 임시 최대값\n",
    "    temp_mx = 0\n",
    "    # 저장될 최대값\n",
    "    mx = 0\n",
    "    \n",
    "    for x in A:\n",
    "        # N+1 일 땐 저장될 최대값을 갱신해준다.\n",
    "        if x == N+1 :\n",
    "            mx = temp_mx\n",
    "        # N+1보다 작을 경우 \n",
    "        else :\n",
    "            # x 이전의 경우에 N+1이 나왓다면 mx가 갱신되었을 것이고 아니면 0이므로 1만 증가시켜준다.\n",
    "            if counters[x] < mx :\n",
    "                counters[x] = mx + 1\n",
    "            # counters[x]가 mx보다 크다면 1만큼만 올려야한다. 이미 최대값인데 mx+1 만큼 증가될 수 있다. \n",
    "            else:\n",
    "                counters[x] += 1\n",
    "            # counters[x] 가 부분 최대값보다 크다면 갱신해준다.\n",
    "            if counters[x] > temp_mx :\n",
    "                temp_mx = counters[x]\n",
    "            \n",
    "    # 만약 N+1 이 나온 이후에 증가된 부분이 있다면 위에 if문에서 이미 mx + 1 로 처리가 되었다. \n",
    "    # 즉 mx보다 작은 모든 값은 N+1이 나온 이후에 갱신된 적이 없다는 뜻이므로 전체를 += mx가 아니라 = mx로 갱신하면 된다.\n",
    "    for i in range(1, len(counters)):\n",
    "        if counters[i] < mx :\n",
    "            counters[i] = mx\n",
    "    return counters[1:]\n"
   ]
  }
 ],
 "metadata": {
  "kernelspec": {
   "display_name": "Python 3",
   "language": "python",
   "name": "python3"
  },
  "language_info": {
   "codemirror_mode": {
    "name": "ipython",
    "version": 3
   },
   "file_extension": ".py",
   "mimetype": "text/x-python",
   "name": "python",
   "nbconvert_exporter": "python",
   "pygments_lexer": "ipython3",
   "version": "3.8.3"
  }
 },
 "nbformat": 4,
 "nbformat_minor": 4
}
