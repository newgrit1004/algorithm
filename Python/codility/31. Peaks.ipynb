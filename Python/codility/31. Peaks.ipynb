{
 "cells": [
  {
   "cell_type": "code",
   "execution_count": null,
   "metadata": {},
   "outputs": [],
   "source": [
    "\"\"\"\n",
    "Codility\n",
    "Category : Prime and composite numbers\n",
    "Problem Number : 31\n",
    "Problem Title : Peak\n",
    "Link : https://app.codility.com/programmers/lessons/10-prime_and_composite_numbers/peaks/start/\n",
    "Difficulty : Medium\n",
    "Description : Divide an array into the maximum number of same-sized blocks, \n",
    "each of which should contain an index P such that A[P - 1] < A[P] > A[P + 1].\n",
    "\"\"\"\n",
    "#Task Score : 100%\n",
    "#Correctness : 100%\n",
    "#Performance : 100%\n",
    "#Time Complexity : O(N*log(log(N)))\n",
    "\n",
    "def solution(A):\n",
    "    N = len(A)\n",
    "    peak = list()\n",
    "\n",
    "    for p in range(1, len(A)-1):\n",
    "        if A[p]>A[p-1] and A[p]>A[p+1]:\n",
    "            peak.append(p)\n",
    "\n",
    "    for i in range(len(peak), 0, -1):\n",
    "        if N%i == 0: #나누어 떨어지면\n",
    "            block_size = N//i\n",
    "            block = [False] * i\n",
    "            block_cnt = 0\n",
    "            for j in range(len(peak)):\n",
    "                idx = peak[j]//block_size\n",
    "                if not block[idx]:\n",
    "                    block[idx] = True\n",
    "                    block_cnt += 1\n",
    "            \n",
    "            if block_cnt == i:\n",
    "                return block_cnt\n",
    "    \n",
    "    return 0"
   ]
  }
 ],
 "metadata": {
  "kernelspec": {
   "display_name": "Python 3 (ipykernel)",
   "language": "python",
   "name": "python3"
  },
  "language_info": {
   "codemirror_mode": {
    "name": "ipython",
    "version": 3
   },
   "file_extension": ".py",
   "mimetype": "text/x-python",
   "name": "python",
   "nbconvert_exporter": "python",
   "pygments_lexer": "ipython3",
   "version": "3.9.7"
  }
 },
 "nbformat": 4,
 "nbformat_minor": 4
}
