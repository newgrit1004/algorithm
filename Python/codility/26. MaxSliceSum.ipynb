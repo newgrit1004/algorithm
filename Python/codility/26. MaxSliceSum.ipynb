{
 "cells": [
  {
   "cell_type": "code",
   "execution_count": null,
   "metadata": {},
   "outputs": [],
   "source": [
    "\"\"\"\n",
    "Codility\n",
    "Category : Maximum slice problem\n",
    "Problem Number : 26\n",
    "Problem Title : MaxSliceSum\n",
    "Link : https://app.codility.com/programmers/lessons/9-maximum_slice_problem/max_profit/start/\n",
    "Difficulty : Easy\n",
    "Description : Find a maximum sum of a compact subsequence of array elements.\n",
    "\"\"\"\n",
    "#Task Score : 100%\n",
    "#Correctness : 100%\n",
    "#Performance : 100%\n",
    "#Time Complexity : O(N)\n",
    "\n",
    "def solution(A): #Kadane's Algorithm\n",
    "    if len(A) == 1:\n",
    "        return A[0]\n",
    "\n",
    "    for i in range(1, len(A)):\n",
    "        A[i] = max(A[i], A[i]+A[i-1])\n",
    "    return max(A)"
   ]
  }
 ],
 "metadata": {
  "kernelspec": {
   "display_name": "Python 3",
   "language": "python",
   "name": "python3"
  },
  "language_info": {
   "codemirror_mode": {
    "name": "ipython",
    "version": 3
   },
   "file_extension": ".py",
   "mimetype": "text/x-python",
   "name": "python",
   "nbconvert_exporter": "python",
   "pygments_lexer": "ipython3",
   "version": "3.8.3"
  }
 },
 "nbformat": 4,
 "nbformat_minor": 4
}
