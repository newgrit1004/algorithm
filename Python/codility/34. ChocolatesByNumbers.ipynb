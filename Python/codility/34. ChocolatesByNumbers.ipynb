{
 "cells": [
  {
   "cell_type": "code",
   "execution_count": null,
   "id": "20acaea9",
   "metadata": {},
   "outputs": [],
   "source": [
    "\"\"\"\n",
    "Codility\n",
    "Category : Euclidean Alogrithm\n",
    "Problem Number : 34\n",
    "Problem Title : ChocolatesByNumbers\n",
    "Link : https://app.codility.com/programmers/lessons/12-euclidean_algorithm/chocolates_by_numbers/start/\n",
    "Difficulty : Easy\n",
    "Description : There are N chocolates in a circle. Count the number of chocolates you will eat.\n",
    "\"\"\"\n",
    "#Task Score : 100%\n",
    "#Correctness : 100%\n",
    "#Performance : 100%\n",
    "#Time Complexity : O(N+M)\n",
    "import math\n",
    "def solution(N, M):\n",
    "    '''\n",
    "    N : # of chocolates arranged in a circle, 0 to N-1\n",
    "    M : number X -> number X+M\n",
    "    '''\n",
    "    return N//math.gcd(N, M)"
   ]
  }
 ],
 "metadata": {
  "kernelspec": {
   "display_name": "Python 3 (ipykernel)",
   "language": "python",
   "name": "python3"
  },
  "language_info": {
   "codemirror_mode": {
    "name": "ipython",
    "version": 3
   },
   "file_extension": ".py",
   "mimetype": "text/x-python",
   "name": "python",
   "nbconvert_exporter": "python",
   "pygments_lexer": "ipython3",
   "version": "3.9.7"
  }
 },
 "nbformat": 4,
 "nbformat_minor": 5
}
