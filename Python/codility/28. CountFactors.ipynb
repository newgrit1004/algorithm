{
 "cells": [
  {
   "cell_type": "markdown",
   "metadata": {},
   "source": [
    "# Solution #1"
   ]
  },
  {
   "cell_type": "code",
   "execution_count": null,
   "metadata": {},
   "outputs": [],
   "source": [
    "\"\"\"\n",
    "Codility\n",
    "Category : Prime and composite numbers\n",
    "Problem Number : 28\n",
    "Problem Title : CountFactors\n",
    "Link : https://app.codility.com/programmers/lessons/10-prime_and_composite_numbers/count_factors/start/\n",
    "Difficulty : Easy\n",
    "\"\"\"\n",
    "#Task Score : 100%\n",
    "#Correctness : 100%\n",
    "#Performance : 100%\n",
    "#Time Complexity : O(sqrt(N))\n",
    "import math\n",
    "def solution(N):\n",
    "    a = int(math.sqrt(N))\n",
    "    ans = list()\n",
    "    for i in range(1, a+1):\n",
    "        if N%i == 0:\n",
    "            if N//i == i:\n",
    "                ans.append(i)\n",
    "            else:\n",
    "                ans.append(i)\n",
    "                ans.append(N//i)\n",
    "\n",
    "    return len(ans)"
   ]
  }
 ],
 "metadata": {
  "kernelspec": {
   "display_name": "Python 3",
   "language": "python",
   "name": "python3"
  },
  "language_info": {
   "codemirror_mode": {
    "name": "ipython",
    "version": 3
   },
   "file_extension": ".py",
   "mimetype": "text/x-python",
   "name": "python",
   "nbconvert_exporter": "python",
   "pygments_lexer": "ipython3",
   "version": "3.8.3"
  }
 },
 "nbformat": 4,
 "nbformat_minor": 4
}
