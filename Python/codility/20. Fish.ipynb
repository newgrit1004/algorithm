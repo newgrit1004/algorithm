{
 "cells": [
  {
   "cell_type": "markdown",
   "metadata": {},
   "source": [
    "# Solution #1"
   ]
  },
  {
   "cell_type": "code",
   "execution_count": null,
   "metadata": {},
   "outputs": [],
   "source": [
    "\"\"\"\n",
    "Codility\n",
    "Category : Stacks and Queues\n",
    "Problem Number : 20\n",
    "Problem Title : Fish\n",
    "Link : https://app.codility.com/programmers/lessons/7-stacks_and_queues/brackets/start/\n",
    "Difficulty : Easy\n",
    "Description : N voracious fish are moving along a river. Calculate how many fish are alive.\n",
    "A : fish size\n",
    "B : directions of fish, 0:upstream, 1:downstream\n",
    "\"\"\"\n",
    "#Task Score : 100%\n",
    "#Correctness : 100%\n",
    "#Performance : 100%\n",
    "#Time Complexity : O(N)\n",
    "def solution(A, B):\n",
    "    N = len(A)\n",
    "    up = list() # the number of fish flowing upstream\n",
    "    down = list()\n",
    "    for i in range(N):\n",
    "        if B[i] == 0: #if the fish flowing uptsream\n",
    "            if not down: #if there is no fish flowing downstream now, add the fish in the up list\n",
    "                up.append(i)\n",
    "            else:#if down is not empty, current fish should fight all of fish in down list\n",
    "                while down:\n",
    "                    last = down[-1]\n",
    "                    if A[i] < A[last]: #if the size of current fish is smaller than the size of down, elimiante current fish\n",
    "                        break \n",
    "                    else: # if the size of current fish is bigger than the size of down, eliminate down\n",
    "                        down.pop()\n",
    "                    \n",
    "                if not down: #if the current fish win all of fish in down list\n",
    "                    up.append(i)\n",
    "        else: # if the fish flowing downstream\n",
    "            down.append(i)\n",
    "\n",
    "    return len(up+down)"
   ]
  }
 ],
 "metadata": {
  "kernelspec": {
   "display_name": "Python 3",
   "language": "python",
   "name": "python3"
  },
  "language_info": {
   "codemirror_mode": {
    "name": "ipython",
    "version": 3
   },
   "file_extension": ".py",
   "mimetype": "text/x-python",
   "name": "python",
   "nbconvert_exporter": "python",
   "pygments_lexer": "ipython3",
   "version": "3.8.3"
  }
 },
 "nbformat": 4,
 "nbformat_minor": 4
}
