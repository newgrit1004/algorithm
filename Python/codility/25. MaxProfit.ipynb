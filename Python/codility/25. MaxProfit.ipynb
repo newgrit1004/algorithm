{
 "cells": [
  {
   "cell_type": "code",
   "execution_count": null,
   "metadata": {},
   "outputs": [],
   "source": [
    "\"\"\"\n",
    "Codility\n",
    "Category : Maximum slice problem\n",
    "Problem Number : 25\n",
    "Problem Title : MaxProfit\n",
    "Link : https://app.codility.com/programmers/lessons/9-maximum_slice_problem/max_profit/start/\n",
    "Difficulty : Easy\n",
    "Description : Given a log of stock prices compute the maximum possible earning.\n",
    "\"\"\"\n",
    "#Task Score : 100%\n",
    "#Correctness : 100%\n",
    "#Performance : 100%\n",
    "#Time Complexity : O(N)\n",
    "def solution(A):\n",
    "    if len(A) <= 1:\n",
    "        return 0\n",
    "    max_profit = float('-inf')\n",
    "    lowest = A[0]\n",
    "\n",
    "    for i in range(1, len(A)):\n",
    "        if A[i]< lowest:\n",
    "            lowest = A[i]\n",
    "        profit = A[i] - lowest\n",
    "        if profit > max_profit:\n",
    "            max_profit = profit \n",
    "\n",
    "    return max_profit\n"
   ]
  }
 ],
 "metadata": {
  "kernelspec": {
   "display_name": "Python 3",
   "language": "python",
   "name": "python3"
  },
  "language_info": {
   "codemirror_mode": {
    "name": "ipython",
    "version": 3
   },
   "file_extension": ".py",
   "mimetype": "text/x-python",
   "name": "python",
   "nbconvert_exporter": "python",
   "pygments_lexer": "ipython3",
   "version": "3.8.3"
  }
 },
 "nbformat": 4,
 "nbformat_minor": 4
}
