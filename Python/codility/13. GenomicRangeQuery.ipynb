{
 "cells": [
  {
   "cell_type": "markdown",
   "metadata": {},
   "source": [
    "# Solution #1"
   ]
  },
  {
   "cell_type": "code",
   "execution_count": null,
   "metadata": {},
   "outputs": [],
   "source": [
    "\"\"\"\n",
    "Codility\n",
    "Category : Prefix Sums\n",
    "Problem Number : 13\n",
    "Problem Title : GenomicRangeQuery\n",
    "Link : https://app.codility.com/programmers/lessons/5-prefix_sums/genomic_range_query/start/\n",
    "Difficulty : Medium\n",
    "Description : Find the minimal nucleotide from a range of sequence DNA.\n",
    "\"\"\"\n",
    "#Task Score : 100%\n",
    "#Correctness : 100%\n",
    "#Performance : 100%\n",
    "#Time Complexity : O(N+M)\n",
    "def solution(S, P, Q):\n",
    "    # write your code in Python 3.6\n",
    "    ans = list()\n",
    "    for i in range(len(P)):\n",
    "        start = P[i]\n",
    "        end = Q[i]\n",
    "        seg = S[start:end+1]\n",
    "        min_num = 5\n",
    "        if 'A' in seg:\n",
    "            num = 1\n",
    "        elif 'C' in seg:\n",
    "            num = 2\n",
    "        elif 'G' in seg:\n",
    "            num = 3\n",
    "        elif 'T' in seg:\n",
    "            num = 4\n",
    "        if num < min_num:\n",
    "            min_num = num\n",
    "        ans.append(min_num)\n",
    "\n",
    "    return ans"
   ]
  }
 ],
 "metadata": {
  "kernelspec": {
   "display_name": "Python 3",
   "language": "python",
   "name": "python3"
  },
  "language_info": {
   "codemirror_mode": {
    "name": "ipython",
    "version": 3
   },
   "file_extension": ".py",
   "mimetype": "text/x-python",
   "name": "python",
   "nbconvert_exporter": "python",
   "pygments_lexer": "ipython3",
   "version": "3.8.3"
  }
 },
 "nbformat": 4,
 "nbformat_minor": 4
}
