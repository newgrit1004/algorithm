{
 "cells": [
  {
   "cell_type": "code",
   "execution_count": null,
   "id": "c83ccf90",
   "metadata": {},
   "outputs": [],
   "source": [
    "\"\"\"\n",
    "Codility\n",
    "Category : Euclidean Alogrithm\n",
    "Problem Number : 35\n",
    "Problem Title : CommonPrimeDivisors\n",
    "Link : https://app.codility.com/programmers/lessons/12-euclidean_algorithm/common_prime_divisors/start/\n",
    "Difficulty : Medium\n",
    "Description : Check whether two numbers have the same prime divisors.\n",
    "\"\"\"\n",
    "#Task Score : 100%\n",
    "#Correctness : 100%\n",
    "#Performance : 100%\n",
    "#Time Complexity : O(Z*log(max(A)+max(B))**2)\n",
    "\n",
    "import math\n",
    "\n",
    "def same_prime_divisors(a,b):\n",
    "    d = math.gcd(a,b)\n",
    "    gcd_A, gcd_B = 0, 0\n",
    "\n",
    "    while gcd_A != 1:\n",
    "        gcd_A = math.gcd(a, d)\n",
    "        a //= gcd_A\n",
    "    while gcd_B != 1:\n",
    "        gcd_B = math.gcd(b, d)\n",
    "        b //= gcd_B\n",
    "    return True if a==1 and b==1 else False\n",
    "\n",
    "def solution(A, B):\n",
    "    ans = 0\n",
    "    for a, b in zip(A,B):\n",
    "        if same_prime_divisors(a,b):\n",
    "            ans += 1\n",
    "    \n",
    "    return ans"
   ]
  }
 ],
 "metadata": {
  "kernelspec": {
   "display_name": "Python 3 (ipykernel)",
   "language": "python",
   "name": "python3"
  },
  "language_info": {
   "codemirror_mode": {
    "name": "ipython",
    "version": 3
   },
   "file_extension": ".py",
   "mimetype": "text/x-python",
   "name": "python",
   "nbconvert_exporter": "python",
   "pygments_lexer": "ipython3",
   "version": "3.9.7"
  }
 },
 "nbformat": 4,
 "nbformat_minor": 5
}
