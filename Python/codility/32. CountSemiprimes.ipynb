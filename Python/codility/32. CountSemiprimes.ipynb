{
 "cells": [
  {
   "cell_type": "markdown",
   "id": "c6253701",
   "metadata": {},
   "source": [
    "# Solution #1"
   ]
  },
  {
   "cell_type": "code",
   "execution_count": null,
   "id": "5e970c5d",
   "metadata": {},
   "outputs": [],
   "source": [
    "\"\"\"\n",
    "Codility\n",
    "Category : Prefix Sums\n",
    "Problem Number : 12\n",
    "Problem Title : CountSemiprimes\n",
    "Link : https://app.codility.com/programmers/lessons/5-prefix_sums/count_div/start/\n",
    "Difficulty : Medium\n",
    "Description : Count the semiprime numbers in the given range [a..b]\n",
    "\"\"\"\n",
    "#Task Score : 66%\n",
    "#Correctness : 100%\n",
    "#Performance : 40%\n",
    "#Time Complexity : O(N*log(log(N)) + M*N) or O(M*N**(3/2))\n",
    "import math\n",
    "def divisors(X):\n",
    "    arr = list()\n",
    "    for i in range(1, int(math.sqrt(X)+1)):\n",
    "        if X%i == 0:\n",
    "            if X//i == i:\n",
    "                arr.append(i)\n",
    "            else:\n",
    "                arr.append(i)\n",
    "                arr.append(X//i)\n",
    "\n",
    "    return sorted(arr)\n",
    "\n",
    "def is_prime(X):\n",
    "    if X < 2:\n",
    "        return False\n",
    "    for i in range(2, int(math.sqrt(X)+1)):\n",
    "        if X % i == 0:\n",
    "            return False\n",
    "    return True\n",
    "\n",
    "def check_semi_prime(X):\n",
    "    #squared number\n",
    "    arr = divisors(X)\n",
    "    n = len(arr)\n",
    "    chk_arr = arr[1:-1]\n",
    "\n",
    "    if int(math.sqrt(X) + 0.5) ** 2 == X:\n",
    "        if n == 3:\n",
    "            return True\n",
    "        else:\n",
    "            return False\n",
    "\n",
    "    else:#not squared number\n",
    "        if n == 4:\n",
    "            for i in chk_arr:\n",
    "                if not is_prime(i):\n",
    "                    return False\n",
    "            return True\n",
    "\n",
    "    \n",
    "    return False\n",
    "\n",
    "def solution(N, P, Q):\n",
    "    ans = list()\n",
    "    for a, b in zip(P,Q):\n",
    "        tmp = list()\n",
    "        for i in range(a, b+1):\n",
    "            if check_semi_prime(i):\n",
    "                tmp.append(i)\n",
    "        ans.append(len(tmp))\n",
    "\n",
    "    return ans"
   ]
  }
 ],
 "metadata": {
  "kernelspec": {
   "display_name": "Python 3 (ipykernel)",
   "language": "python",
   "name": "python3"
  },
  "language_info": {
   "codemirror_mode": {
    "name": "ipython",
    "version": 3
   },
   "file_extension": ".py",
   "mimetype": "text/x-python",
   "name": "python",
   "nbconvert_exporter": "python",
   "pygments_lexer": "ipython3",
   "version": "3.9.7"
  }
 },
 "nbformat": 4,
 "nbformat_minor": 5
}
