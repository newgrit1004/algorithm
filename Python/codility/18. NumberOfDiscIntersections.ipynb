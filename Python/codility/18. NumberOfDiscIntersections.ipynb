{
 "cells": [
  {
   "cell_type": "markdown",
   "metadata": {},
   "source": [
    "# Solution #1"
   ]
  },
  {
   "cell_type": "code",
   "execution_count": null,
   "metadata": {},
   "outputs": [],
   "source": [
    "\"\"\"\n",
    "Codility\n",
    "Category : Sorting\n",
    "Problem Number : 18\n",
    "Problem Title : NumberOfDiscIntersections\n",
    "Link : https://app.codility.com/programmers/lessons/6-sorting/number_of_disc_intersections/start/\n",
    "Difficulty : Medium\n",
    "Description : Compute the number of intersections in a sequence of discs.\n",
    "\"\"\"\n",
    "#Task Score : 100%\n",
    "#Correctness : 100%\n",
    "#Performance : 100%\n",
    "#Time Complexity : O(NlogN) or O(N)\n",
    "def solution(A):\n",
    "    # write your code in Python 3.6\n",
    "    arr = list()\n",
    "    for i,v in enumerate(A):\n",
    "        arr.append((i+v, 1))\n",
    "        arr.append((i-v, -1))\n",
    "    \n",
    "    arr.sort() # -1은 왼쪽점,1은 오른쪽 점\n",
    "    intersect = 0 # 닫힌 원의 개수\n",
    "    intervals = 0 # 열린 원의 개수\n",
    "\n",
    "    for i, v in enumerate(arr):\n",
    "        if v[1] == 1: #오른쪽 점이면 원이 닫히는 것 -> 열린 원의 개수 감소\n",
    "            intervals -= 1 \n",
    "        if v[1] == -1: #왼쪽 점이면 원이 열리는 것\n",
    "            intersect += intervals\n",
    "            intervals += 1 #왼쪽 점이라 원이 열려서 열린 원 개수 추가\n",
    "\n",
    "    return -1 if intersect > 10000000 else intersect"
   ]
  }
 ],
 "metadata": {
  "kernelspec": {
   "display_name": "Python 3",
   "language": "python",
   "name": "python3"
  },
  "language_info": {
   "codemirror_mode": {
    "name": "ipython",
    "version": 3
   },
   "file_extension": ".py",
   "mimetype": "text/x-python",
   "name": "python",
   "nbconvert_exporter": "python",
   "pygments_lexer": "ipython3",
   "version": "3.8.3"
  }
 },
 "nbformat": 4,
 "nbformat_minor": 4
}
