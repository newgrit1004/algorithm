{
 "cells": [
  {
   "cell_type": "code",
   "execution_count": null,
   "metadata": {},
   "outputs": [],
   "source": [
    "\"\"\"\n",
    "Codility\n",
    "Category : Leader\n",
    "Problem Number : 24\n",
    "Problem Title : Dominator\n",
    "Link : https://app.codility.com/programmers/lessons/8-leader/equi_leader/start/\n",
    "Difficulty : Easy\n",
    "Description : Find the index S such that the leaders of the sequences A[0], A[1], ..., A[S] \n",
    "and A[S + 1], A[S + 2], ..., A[N - 1] are the same.\n",
    "\"\"\"\n",
    "#Task Score : 100%\n",
    "#Correctness : 100%\n",
    "#Performance : 100%\n",
    "#Time Complexity : O(N)\n",
    "def solution(A):\n",
    "    count = 0\n",
    "    left_dict = dict()\n",
    "    for i in A:\n",
    "        cnt = left_dict.get(i, 0)\n",
    "        left_dict[i] = cnt + 1\n",
    "    \n",
    "    left_len = len(A)\n",
    "\n",
    "    right_leader = 0\n",
    "    right_leader_cnt = 0\n",
    "    right_len = 0\n",
    "    right_dict = dict()\n",
    "    for i in A:\n",
    "        left_dict[i] -= 1\n",
    "        left_len -= 1\n",
    "\n",
    "        cnt = right_dict.get(i,0)\n",
    "        right_dict[i] = cnt + 1\n",
    "        right_len += 1\n",
    "\n",
    "        if right_dict[i] > right_leader_cnt:\n",
    "            right_leader = i\n",
    "            right_leader_cnt = right_dict[i]\n",
    "\n",
    "        if right_leader_cnt > right_len/2 and left_dict[right_leader] > left_len/2:\n",
    "            count += 1\n",
    "    \n",
    "    return count"
   ]
  }
 ],
 "metadata": {
  "kernelspec": {
   "display_name": "Python 3",
   "language": "python",
   "name": "python3"
  },
  "language_info": {
   "codemirror_mode": {
    "name": "ipython",
    "version": 3
   },
   "file_extension": ".py",
   "mimetype": "text/x-python",
   "name": "python",
   "nbconvert_exporter": "python",
   "pygments_lexer": "ipython3",
   "version": "3.8.3"
  }
 },
 "nbformat": 4,
 "nbformat_minor": 4
}
