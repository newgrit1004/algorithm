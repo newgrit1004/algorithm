{
 "cells": [
  {
   "cell_type": "code",
   "execution_count": null,
   "metadata": {},
   "outputs": [],
   "source": [
    "\"\"\"\n",
    "Codility\n",
    "Category : Maximum slice problem\n",
    "Problem Number : 27\n",
    "Problem Title : MaxDoubleSliceSum\n",
    "Link : https://app.codility.com/programmers/lessons/9-maximum_slice_problem/max_double_slice_sum/start/\n",
    "Difficulty : Medium\n",
    "Description : Find the maximal sum of any double slice\n",
    "\"\"\"\n",
    "#Task Score : 100%\n",
    "#Correctness : 100%\n",
    "#Performance : 100%\n",
    "#Time Complexity : O(N)\n",
    "def solution(A):\n",
    "    N = len(A)\n",
    "    left_sum = [0]*N\n",
    "    right_sum = [0]*N\n",
    "\n",
    "    for i in range(1, N-1):\n",
    "        left_sum[i] = max(0, left_sum[i-1]+A[i])\n",
    "\n",
    "    for i in range(N-1, 0, -1):\n",
    "        right_sum[i-1] = max(0, right_sum[i]+A[i-1])\n",
    "\n",
    "    m = 0\n",
    "    for i in range(1, N-1):\n",
    "        m = max(m, left_sum[i-1]+right_sum[i+1])\n",
    "\n",
    "    return m\n"
   ]
  }
 ],
 "metadata": {
  "kernelspec": {
   "display_name": "Python 3",
   "language": "python",
   "name": "python3"
  },
  "language_info": {
   "codemirror_mode": {
    "name": "ipython",
    "version": 3
   },
   "file_extension": ".py",
   "mimetype": "text/x-python",
   "name": "python",
   "nbconvert_exporter": "python",
   "pygments_lexer": "ipython3",
   "version": "3.8.3"
  }
 },
 "nbformat": 4,
 "nbformat_minor": 4
}
