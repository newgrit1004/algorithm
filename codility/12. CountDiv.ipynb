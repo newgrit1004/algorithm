{
 "cells": [
  {
   "cell_type": "markdown",
   "metadata": {},
   "source": [
    "# Solution #1"
   ]
  },
  {
   "cell_type": "code",
   "execution_count": null,
   "metadata": {},
   "outputs": [],
   "source": [
    "\"\"\"\n",
    "Codility\n",
    "Category : Prefix Sums\n",
    "Problem Number : 12\n",
    "Problem Title : CountDiv\n",
    "Link : https://app.codility.com/programmers/lessons/5-prefix_sums/count_div/start/\n",
    "Difficulty : Medium\n",
    "Description : Compute number of integers divisible by k in range [a..b].\n",
    "\"\"\"\n",
    "#Task Score : 100%\n",
    "#Correctness : 100%\n",
    "#Performance : 100%\n",
    "#Time Complexity : O(1)\n",
    "def solution(A, B, K):\n",
    "    # write your code in Python 3.6\n",
    "    a = A//K\n",
    "    b = B//K\n",
    "    return b-a+1 if A%K ==0 else b-a"
   ]
  }
 ],
 "metadata": {
  "kernelspec": {
   "display_name": "Python 3",
   "language": "python",
   "name": "python3"
  },
  "language_info": {
   "codemirror_mode": {
    "name": "ipython",
    "version": 3
   },
   "file_extension": ".py",
   "mimetype": "text/x-python",
   "name": "python",
   "nbconvert_exporter": "python",
   "pygments_lexer": "ipython3",
   "version": "3.8.3"
  }
 },
 "nbformat": 4,
 "nbformat_minor": 4
}
