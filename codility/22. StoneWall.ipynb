{
 "cells": [
  {
   "cell_type": "code",
   "execution_count": null,
   "metadata": {},
   "outputs": [],
   "source": [
    "\"\"\"\n",
    "Codility\n",
    "Category : Stacks and Queues\n",
    "Problem Number : 22\n",
    "Problem Title : StoneWall\n",
    "Link : https://app.codility.com/programmers/lessons/7-stacks_and_queues/stone_wall/start/\n",
    "Difficulty : Easy\n",
    "Description : Cover \"Manhattan skyline\" using the minimum number of rectangles.\n",
    "\"\"\"\n",
    "#Task Score : 100%\n",
    "#Correctness : 100%\n",
    "#Performance : 100%\n",
    "#Time Complexity : O(N)\n",
    "def solution(H):\n",
    "    # write your code in Python 3.6\n",
    "    if len(H) == 1:\n",
    "        return 1\n",
    "    \n",
    "    count = 1\n",
    "    stack = [H[0]]\n",
    "    for data in H:\n",
    "        if data > stack[-1]:\n",
    "            stack.append(data)\n",
    "            count += 1\n",
    "        elif data < stack[-1]:\n",
    "            last = stack.pop()\n",
    "            while last > data:\n",
    "                if not stack:\n",
    "                    break\n",
    "                last = stack.pop()\n",
    "            count += 1\n",
    "            if data > last:\n",
    "                stack.append(last)\n",
    "            elif data == last:\n",
    "                count -= 1\n",
    "            stack.append(data)\n",
    "\n",
    "    return count"
   ]
  }
 ],
 "metadata": {
  "kernelspec": {
   "display_name": "Python 3",
   "language": "python",
   "name": "python3"
  },
  "language_info": {
   "codemirror_mode": {
    "name": "ipython",
    "version": 3
   },
   "file_extension": ".py",
   "mimetype": "text/x-python",
   "name": "python",
   "nbconvert_exporter": "python",
   "pygments_lexer": "ipython3",
   "version": "3.8.3"
  }
 },
 "nbformat": 4,
 "nbformat_minor": 4
}
