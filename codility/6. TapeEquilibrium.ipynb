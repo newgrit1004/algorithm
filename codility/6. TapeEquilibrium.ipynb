{
 "cells": [
  {
   "cell_type": "markdown",
   "metadata": {},
   "source": [
    "# Solution #1"
   ]
  },
  {
   "cell_type": "code",
   "execution_count": null,
   "metadata": {},
   "outputs": [],
   "source": [
    "\"\"\"\n",
    "Codility\n",
    "Category : Time Complexity\n",
    "Problem Number : 6\n",
    "Problem Title : TapeEquilibrium\n",
    "Link : https://app.codility.com/programmers/lessons/3-time_complexity/tape_equilibrium/start/\n",
    "Difficulty : Easy\n",
    "Description : Minimize the value |(A[0] + ... + A[P-1]) - (A[P] + ... + A[N-1])|.\n",
    "\"\"\"\n",
    "#Task Score : 100%\n",
    "#Correctness : 100%\n",
    "#Performance : 100%\n",
    "def solution(A):\n",
    "    # write your code in Python 3.6\n",
    "    p = 1\n",
    "    n = len(A)\n",
    "    _min = float(\"inf\")\n",
    "    left = sum(A[:p])\n",
    "    right = sum(A[p:])\n",
    "    while p <= n-1:\n",
    "        diff = abs(left-right)\n",
    "        if diff < _min:\n",
    "            _min = diff\n",
    "        \n",
    "        left = left + A[p]\n",
    "        right = right - A[p]\n",
    "        p += 1\n",
    "\n",
    "    return _min\n"
   ]
  }
 ],
 "metadata": {
  "kernelspec": {
   "display_name": "Python 3",
   "language": "python",
   "name": "python3"
  },
  "language_info": {
   "codemirror_mode": {
    "name": "ipython",
    "version": 3
   },
   "file_extension": ".py",
   "mimetype": "text/x-python",
   "name": "python",
   "nbconvert_exporter": "python",
   "pygments_lexer": "ipython3",
   "version": "3.8.3"
  }
 },
 "nbformat": 4,
 "nbformat_minor": 4
}
