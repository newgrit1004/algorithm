{
 "cells": [
  {
   "cell_type": "code",
   "execution_count": null,
   "metadata": {},
   "outputs": [],
   "source": [
    "\"\"\"\n",
    "Codility\n",
    "Category : Leader\n",
    "Problem Number : 23\n",
    "Problem Title : Dominaor\n",
    "Link : https://app.codility.com/programmers/lessons/8-leader/dominator/start/\n",
    "Difficulty : Easy\n",
    "Description : Find an index of an array such that its value occurs at more than half of indices in the array.\n",
    "\"\"\"\n",
    "#Task Score : 100%\n",
    "#Correctness : 100%\n",
    "#Performance : 100%\n",
    "#Time Complexity : O(N) or O(NlogN)\n",
    "from collections import Counter\n",
    "\n",
    "def solution(A):\n",
    "    if not A: #exception handling of empty array\n",
    "        return -1\n",
    "\n",
    "    dom = Counter(A).most_common(1)[0]\n",
    "    if dom[1] <= len(A)//2:\n",
    "        return -1\n",
    "    else:\n",
    "        return A.index(dom[0])"
   ]
  }
 ],
 "metadata": {
  "kernelspec": {
   "display_name": "Python 3",
   "language": "python",
   "name": "python3"
  },
  "language_info": {
   "codemirror_mode": {
    "name": "ipython",
    "version": 3
   },
   "file_extension": ".py",
   "mimetype": "text/x-python",
   "name": "python",
   "nbconvert_exporter": "python",
   "pygments_lexer": "ipython3",
   "version": "3.8.3"
  }
 },
 "nbformat": 4,
 "nbformat_minor": 4
}
