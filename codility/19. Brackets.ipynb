{
 "cells": [
  {
   "cell_type": "markdown",
   "metadata": {},
   "source": [
    "# Solution #1"
   ]
  },
  {
   "cell_type": "code",
   "execution_count": null,
   "metadata": {},
   "outputs": [],
   "source": [
    "\"\"\"\n",
    "Codility\n",
    "Category : Stacks and Queues\n",
    "Problem Number : 19\n",
    "Problem Title : Brackets\n",
    "Link : https://app.codility.com/programmers/lessons/7-stacks_and_queues/brackets/start/\n",
    "Difficulty : Easy\n",
    "Description : Determine whether a given string of parentheses (multiple types) is properly nested\n",
    "\"\"\"\n",
    "#Task Score : 100%\n",
    "#Correctness : 100%\n",
    "#Performance : 100%\n",
    "#Time Complexity : O(N)\n",
    "\n",
    "def solution(S):\n",
    "    check = {'(':-3, '{':-2, '[':-1, ']':1, '}':2, ')':3}\n",
    "    stack = list()\n",
    "    for i in S:\n",
    "        if check[i] < 0:\n",
    "            stack.append(i)\n",
    "        else:\n",
    "            if not stack:\n",
    "                return 0\n",
    "            last = stack.pop()\n",
    "            #print((check[last], check[i]))\n",
    "            if check[last]+check[i] != 0:\n",
    "                return 0\n",
    "    \n",
    "    return 1 if not stack else 0"
   ]
  }
 ],
 "metadata": {
  "kernelspec": {
   "display_name": "Python 3",
   "language": "python",
   "name": "python3"
  },
  "language_info": {
   "codemirror_mode": {
    "name": "ipython",
    "version": 3
   },
   "file_extension": ".py",
   "mimetype": "text/x-python",
   "name": "python",
   "nbconvert_exporter": "python",
   "pygments_lexer": "ipython3",
   "version": "3.8.3"
  }
 },
 "nbformat": 4,
 "nbformat_minor": 4
}
