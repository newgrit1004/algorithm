{
 "cells": [
  {
   "cell_type": "markdown",
   "metadata": {},
   "source": [
    "# Solution #1"
   ]
  },
  {
   "cell_type": "code",
   "execution_count": null,
   "metadata": {},
   "outputs": [],
   "source": [
    "\"\"\"\n",
    "Codility\n",
    "Category : Counting Elements\n",
    "Problem Number : 8\n",
    "Problem Title : PermCheck\n",
    "Link : https://app.codility.com/programmers/lessons/4-counting_elements/perm_check/start/\n",
    "Difficulty : Easy\n",
    "Description : Check whether array A is a permutation.\n",
    "\"\"\"\n",
    "def solution(A):\n",
    "    N = len(A) \n",
    "    return 1 if N*(N+1)//2 == int(sum(A)) and len(A) == len(set(A)) else 0"
   ]
  }
 ],
 "metadata": {
  "kernelspec": {
   "display_name": "Python 3",
   "language": "python",
   "name": "python3"
  },
  "language_info": {
   "codemirror_mode": {
    "name": "ipython",
    "version": 3
   },
   "file_extension": ".py",
   "mimetype": "text/x-python",
   "name": "python",
   "nbconvert_exporter": "python",
   "pygments_lexer": "ipython3",
   "version": "3.8.3"
  }
 },
 "nbformat": 4,
 "nbformat_minor": 4
}
