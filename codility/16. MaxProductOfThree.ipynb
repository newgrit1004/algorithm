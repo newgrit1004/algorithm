{
 "cells": [
  {
   "cell_type": "markdown",
   "metadata": {},
   "source": [
    "# Solution #1"
   ]
  },
  {
   "cell_type": "code",
   "execution_count": null,
   "metadata": {},
   "outputs": [],
   "source": [
    "\"\"\"\n",
    "Codility\n",
    "Category : Sorting\n",
    "Problem Number : 16\n",
    "Problem Title : MaxProductOfThree\n",
    "Link : https://app.codility.com/programmers/lessons/6-sorting/max_product_of_three/start/\n",
    "Difficulty : Easy\n",
    "Description : Maximize A[P] * A[Q] * A[R] for any triplet (P, Q, R).\n",
    "\"\"\"\n",
    "#Task Score : 100%\n",
    "#Correctness : 100%\n",
    "#Performance : 100%\n",
    "#Time Complexity : O(N) or O(NlogN)\n",
    "def solution(A):\n",
    "    A.sort()\n",
    "\n",
    "    neg_max = A[0]*A[1]*A[-1] # two negatives and one positive\n",
    "    pos_max = A[-3]*A[-2]*A[-1] # three positives\n",
    "\n",
    "    return max(neg_max, pos_max)"
   ]
  }
 ],
 "metadata": {
  "kernelspec": {
   "display_name": "Python 3",
   "language": "python",
   "name": "python3"
  },
  "language_info": {
   "codemirror_mode": {
    "name": "ipython",
    "version": 3
   },
   "file_extension": ".py",
   "mimetype": "text/x-python",
   "name": "python",
   "nbconvert_exporter": "python",
   "pygments_lexer": "ipython3",
   "version": "3.8.3"
  }
 },
 "nbformat": 4,
 "nbformat_minor": 4
}
