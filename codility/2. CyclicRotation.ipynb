{
 "cells": [
  {
   "cell_type": "markdown",
   "metadata": {},
   "source": [
    "# Solution #1"
   ]
  },
  {
   "cell_type": "code",
   "execution_count": null,
   "metadata": {},
   "outputs": [],
   "source": [
    "\"\"\"\n",
    "Codility\n",
    "Category : Array\n",
    "Problem Number : 2\n",
    "Problem Title : CyclicRotation\n",
    "Link : https://app.codility.com/programmers/lessons/2-arrays/cyclic_rotation/start/\n",
    "Difficulty : Easy\n",
    "\"\"\"\n",
    "def solution(A, K):\n",
    "    # write your code in Python 3.6\n",
    "    if not A:\n",
    "        return A\n",
    "    if K == 0:\n",
    "        return A\n",
    "    \n",
    "    for i in range(K):\n",
    "        A.insert(0, A.pop())\n",
    "    \n",
    "    return A"
   ]
  }
 ],
 "metadata": {
  "kernelspec": {
   "display_name": "Python 3",
   "language": "python",
   "name": "python3"
  },
  "language_info": {
   "codemirror_mode": {
    "name": "ipython",
    "version": 3
   },
   "file_extension": ".py",
   "mimetype": "text/x-python",
   "name": "python",
   "nbconvert_exporter": "python",
   "pygments_lexer": "ipython3",
   "version": "3.8.3"
  }
 },
 "nbformat": 4,
 "nbformat_minor": 4
}
