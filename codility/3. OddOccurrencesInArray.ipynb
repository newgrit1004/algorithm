{
 "cells": [
  {
   "cell_type": "code",
   "execution_count": null,
   "metadata": {},
   "outputs": [],
   "source": [
    "\"\"\"\n",
    "Codility\n",
    "Category : Array\n",
    "Problem Number : 3\n",
    "Problem Title : OddOccurrencesInArray\n",
    "Link : https://app.codility.com/programmers/lessons/2-arrays/odd_occurrences_in_array/start/\n",
    "Difficulty : Easy\n",
    "\"\"\"\n",
    "def solution(A): # time complexity : O(N) or O(N*log(N))\n",
    "    # write your code in Python 3.6\n",
    "    ans = dict()\n",
    "\n",
    "    for i in A:\n",
    "        if i in ans:\n",
    "            del ans[i]\n",
    "        else:\n",
    "            ans[i] = 1\n",
    "\n",
    "    return list(ans.keys())[0]"
   ]
  }
 ],
 "metadata": {
  "kernelspec": {
   "display_name": "Python 3",
   "language": "python",
   "name": "python3"
  },
  "language_info": {
   "codemirror_mode": {
    "name": "ipython",
    "version": 3
   },
   "file_extension": ".py",
   "mimetype": "text/x-python",
   "name": "python",
   "nbconvert_exporter": "python",
   "pygments_lexer": "ipython3",
   "version": "3.8.3"
  }
 },
 "nbformat": 4,
 "nbformat_minor": 4
}
