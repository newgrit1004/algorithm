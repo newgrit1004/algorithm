{
 "cells": [
  {
   "cell_type": "markdown",
   "id": "aff927c7",
   "metadata": {},
   "source": [
    "# Solution #1"
   ]
  },
  {
   "cell_type": "code",
   "execution_count": null,
   "id": "7780e512",
   "metadata": {},
   "outputs": [],
   "source": [
    "\"\"\"\n",
    "Codility\n",
    "Category : Sieve of Eratosthenes\n",
    "Problem Number : 32\n",
    "Problem Title : CountNonDivisible\n",
    "Link : https://app.codility.com/programmers/lessons/11-sieve_of_eratosthenes/count_non_divisible/start/\n",
    "Difficulty : Medium\n",
    "Description : Calculate the number of elements of an array that are not divisors of each element.\n",
    "\"\"\"\n",
    "#Task Score : 66%\n",
    "#Correctness : 100%\n",
    "#Performance : 25%\n",
    "#Time Complexity : O(N**2)\n",
    "def solution(A):\n",
    "    ans = list()\n",
    "    table = dict()\n",
    "    N = len(A)\n",
    "    for idx, value in enumerate(A):\n",
    "        cnt = 0\n",
    "        if value in table:\n",
    "            ans.append(table[value])\n",
    "            continue\n",
    "\n",
    "        for i in range(N):\n",
    "            if idx == i:\n",
    "                continue\n",
    "            else:\n",
    "                if value%A[i] != 0:\n",
    "                    cnt += 1\n",
    "        ans.append(cnt)\n",
    "        table[value] = cnt\n",
    "\n",
    "    return ans\n"
   ]
  },
  {
   "cell_type": "markdown",
   "id": "7c85a5d8",
   "metadata": {},
   "source": [
    "# Solution #2"
   ]
  },
  {
   "cell_type": "code",
   "execution_count": null,
   "id": "5ce04653",
   "metadata": {},
   "outputs": [],
   "source": [
    "#Task Score : 100%\n",
    "#Correctness : 100%\n",
    "#Performance : 100%\n",
    "#Time Complexity : O(NlogN)\n",
    "import math\n",
    "\n",
    "def solution(A):\n",
    "    #count_element\n",
    "    cnt_element = dict()\n",
    "    for i in A:\n",
    "        cnt_element[i] = cnt_element.get(i, 0) + 1\n",
    "    \n",
    "    #print(cnt_element)\n",
    "\n",
    "    #count non-divisors\n",
    "    cnt_nondiv = dict()\n",
    "\n",
    "    for key, value in cnt_element.items():\n",
    "        num_div = 0\n",
    "        key_sqrt = int(math.sqrt(key))\n",
    "        for i in range(1, key_sqrt+1):\n",
    "            if key%i == 0:\n",
    "                another_div = key//i\n",
    "\n",
    "                if i in cnt_element:\n",
    "                    num_div = cnt_element[i] + num_div\n",
    "                \n",
    "                if another_div != i:\n",
    "                    if another_div in cnt_element:\n",
    "                        num_div = cnt_element[another_div] + num_div\n",
    "\n",
    "        cnt_nondiv[key] =  len(A) - num_div\n",
    "    \n",
    "    return [cnt_nondiv[i] for i in A]"
   ]
  }
 ],
 "metadata": {
  "kernelspec": {
   "display_name": "Python 3 (ipykernel)",
   "language": "python",
   "name": "python3"
  },
  "language_info": {
   "codemirror_mode": {
    "name": "ipython",
    "version": 3
   },
   "file_extension": ".py",
   "mimetype": "text/x-python",
   "name": "python",
   "nbconvert_exporter": "python",
   "pygments_lexer": "ipython3",
   "version": "3.9.7"
  }
 },
 "nbformat": 4,
 "nbformat_minor": 5
}
