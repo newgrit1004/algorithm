{
 "cells": [
  {
   "cell_type": "markdown",
   "metadata": {},
   "source": [
    "# Solution #1"
   ]
  },
  {
   "cell_type": "code",
   "execution_count": null,
   "metadata": {},
   "outputs": [],
   "source": [
    "\"\"\"\n",
    "Codility\n",
    "Category : Prime and composite numbers\n",
    "Problem Number : 29\n",
    "Problem Title : MinPerimeterRectangle\n",
    "Link : https://app.codility.com/programmers/lessons/10-prime_and_composite_numbers/min_perimeter_rectangle/start/\n",
    "Difficulty : Easy\n",
    "\"\"\"\n",
    "#Task Score : 100%\n",
    "#Correctness : 100%\n",
    "#Performance : 100%\n",
    "#Time Complexity : O(sqrt(N))\n",
    "import math\n",
    "def solution(N):\n",
    "    length = int(math.sqrt(N))\n",
    "    ans = float(\"inf\")\n",
    "    for i in range(1, length+1):\n",
    "        if N%i == 0:\n",
    "            if N//i == i:\n",
    "                peri = 4*i\n",
    "            else:\n",
    "                peri = 2*(i + N//i)\n",
    "            \n",
    "            if ans > peri:\n",
    "                ans = peri\n",
    "            \n",
    "    return peri"
   ]
  }
 ],
 "metadata": {
  "kernelspec": {
   "display_name": "Python 3",
   "language": "python",
   "name": "python3"
  },
  "language_info": {
   "codemirror_mode": {
    "name": "ipython",
    "version": 3
   },
   "file_extension": ".py",
   "mimetype": "text/x-python",
   "name": "python",
   "nbconvert_exporter": "python",
   "pygments_lexer": "ipython3",
   "version": "3.8.3"
  }
 },
 "nbformat": 4,
 "nbformat_minor": 4
}
