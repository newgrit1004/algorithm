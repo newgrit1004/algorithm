{
 "cells": [
  {
   "cell_type": "code",
   "execution_count": null,
   "metadata": {},
   "outputs": [],
   "source": [
    "\"\"\"\n",
    "Codility\n",
    "Category : Time Complexity\n",
    "Problem Number : 4\n",
    "Problem Title : FrogJmp\n",
    "Link : https://app.codility.com/programmers/lessons/3-time_complexity/frog_jmp/start/\n",
    "Difficulty : Easy\n",
    "Description : Count minimal number of jumps from position X to Y.\n",
    "\"\"\"\n",
    "def solution(X, Y, D):\n",
    "    return (Y-X)//D if (Y-X) % D == 0 else (Y-X)//D+1"
   ]
  }
 ],
 "metadata": {
  "kernelspec": {
   "display_name": "Python 3",
   "language": "python",
   "name": "python3"
  },
  "language_info": {
   "codemirror_mode": {
    "name": "ipython",
    "version": 3
   },
   "file_extension": ".py",
   "mimetype": "text/x-python",
   "name": "python",
   "nbconvert_exporter": "python",
   "pygments_lexer": "ipython3",
   "version": "3.8.3"
  }
 },
 "nbformat": 4,
 "nbformat_minor": 4
}
