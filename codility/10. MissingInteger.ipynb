{
 "cells": [
  {
   "cell_type": "markdown",
   "metadata": {},
   "source": [
    "# Solution #1"
   ]
  },
  {
   "cell_type": "code",
   "execution_count": null,
   "metadata": {},
   "outputs": [],
   "source": [
    "\"\"\"\n",
    "Codility\n",
    "Category : Counting Elements\n",
    "Problem Number : 10\n",
    "Problem Title : MissingInteger\n",
    "Link : https://app.codility.com/programmers/lessons/4-counting_elements/missing_integer/start/\n",
    "Difficulty : Medium\n",
    "Description : Find the smallest positive integer that does not occur in a given sequence.\n",
    "\"\"\"\n",
    "#Task Score : 100%\n",
    "#Correctness : 100%\n",
    "#Performance : 100%\n",
    "#Time Complexity : O(N) or O(N*logN)\n",
    "def solution(A):\n",
    "    N = len(A)\n",
    "    min_val = 1\n",
    "    A.sort()\n",
    "    for i in range(N):\n",
    "        if A[i] == min_val:\n",
    "            min_val += 1\n",
    "\n",
    "    return min_val"
   ]
  }
 ],
 "metadata": {
  "kernelspec": {
   "display_name": "Python 3",
   "language": "python",
   "name": "python3"
  },
  "language_info": {
   "codemirror_mode": {
    "name": "ipython",
    "version": 3
   },
   "file_extension": ".py",
   "mimetype": "text/x-python",
   "name": "python",
   "nbconvert_exporter": "python",
   "pygments_lexer": "ipython3",
   "version": "3.8.3"
  }
 },
 "nbformat": 4,
 "nbformat_minor": 4
}
