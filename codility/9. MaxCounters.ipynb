{
 "cells": [
  {
   "cell_type": "markdown",
   "metadata": {},
   "source": [
    "# Solution #1"
   ]
  },
  {
   "cell_type": "code",
   "execution_count": null,
   "metadata": {},
   "outputs": [],
   "source": [
    "\"\"\"\n",
    "Codility\n",
    "Category : Counting Elements\n",
    "Problem Number : 9\n",
    "Problem Title : MaxCounters\n",
    "Link : https://app.codility.com/programmers/lessons/4-counting_elements/max_counters/start/\n",
    "Difficulty : Easy\n",
    "Description : Calculate the values of counters after applying all alternating operations: increase counter by 1; \n",
    "set value of all counters to current maximum.\n",
    "\"\"\"\n",
    "#Task Score : 66%\n",
    "#Correctness : 100%\n",
    "#Performance : 40%\n",
    "#Time Complexity : O(N*M)\n",
    "def solution(N, A):\n",
    "    # write your code in Python 3.6\n",
    "    arr = [0] * N\n",
    "\n",
    "    for k in range(len(A)):\n",
    "        if A[k] == N+1:\n",
    "            arr = [max(arr)] * N\n",
    "        else:\n",
    "            arr[A[k]-1] += 1\n",
    "    \n",
    "    return arr"
   ]
  },
  {
   "cell_type": "markdown",
   "metadata": {},
   "source": [
    "# Solution #2"
   ]
  },
  {
   "cell_type": "code",
   "execution_count": null,
   "metadata": {},
   "outputs": [],
   "source": []
  }
 ],
 "metadata": {
  "kernelspec": {
   "display_name": "Python 3",
   "language": "python",
   "name": "python3"
  },
  "language_info": {
   "codemirror_mode": {
    "name": "ipython",
    "version": 3
   },
   "file_extension": ".py",
   "mimetype": "text/x-python",
   "name": "python",
   "nbconvert_exporter": "python",
   "pygments_lexer": "ipython3",
   "version": "3.8.3"
  }
 },
 "nbformat": 4,
 "nbformat_minor": 4
}
