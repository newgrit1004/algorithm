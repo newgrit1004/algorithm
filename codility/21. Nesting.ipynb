{
 "cells": [
  {
   "cell_type": "markdown",
   "metadata": {},
   "source": [
    "# Solution #1"
   ]
  },
  {
   "cell_type": "code",
   "execution_count": null,
   "metadata": {},
   "outputs": [],
   "source": [
    "\"\"\"\n",
    "Codility\n",
    "Category : Stacks and Queues\n",
    "Problem Number : 21\n",
    "Problem Title : Nesting\n",
    "Link : https://app.codility.com/programmers/lessons/7-stacks_and_queues/nesting/start/\n",
    "Difficulty : Easy\n",
    "Description : Determine whether a given string of parentheses (single type) is properly nested\n",
    "\"\"\"\n",
    "#Task Score : 100%\n",
    "#Correctness : 100%\n",
    "#Performance : 100%\n",
    "#Time Complexity : O(N)\n",
    "def solution(S):\n",
    "    chk = {'(':-1,')':1}\n",
    "    stack = list()\n",
    "    for i in S:\n",
    "        if chk[i] < 0:\n",
    "            stack.append(i)\n",
    "        else:\n",
    "            if not stack:\n",
    "                return 0\n",
    "            last = stack.pop()\n",
    "            if chk[i] + chk[last] != 0:\n",
    "                return 0\n",
    "\n",
    "    return 0 if stack else 1"
   ]
  }
 ],
 "metadata": {
  "kernelspec": {
   "display_name": "Python 3",
   "language": "python",
   "name": "python3"
  },
  "language_info": {
   "codemirror_mode": {
    "name": "ipython",
    "version": 3
   },
   "file_extension": ".py",
   "mimetype": "text/x-python",
   "name": "python",
   "nbconvert_exporter": "python",
   "pygments_lexer": "ipython3",
   "version": "3.8.3"
  }
 },
 "nbformat": 4,
 "nbformat_minor": 4
}
