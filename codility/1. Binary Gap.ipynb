{
 "cells": [
  {
   "cell_type": "markdown",
   "metadata": {},
   "source": [
    "# Solution #1"
   ]
  },
  {
   "cell_type": "code",
   "execution_count": 1,
   "metadata": {},
   "outputs": [],
   "source": [
    "\"\"\"\n",
    "Codility\n",
    "Category : Iterations\n",
    "Problem Number : 1\n",
    "Problem Title : Binary Gap\n",
    "Link : https://app.codility.com/programmers/lessons/1-iterations/binary_gap/start/\n",
    "Difficulty : Easy\n",
    "\"\"\"\n",
    "def solution(N:int):\n",
    "    N = list(format(N, 'b')) # N : str\n",
    "    \n",
    "    gap_lst = list()\n",
    "    for i in range(len(N)):\n",
    "        if N[i] == '1':\n",
    "            gap_lst.append(i)\n",
    "\n",
    "    ans = list()\n",
    "    for i in range(len(gap_lst)-1):\n",
    "        ans.append(gap_lst[i+1]-gap_lst[i]-1)\n",
    "\n",
    "    return max(ans) if ans else 0"
   ]
  },
  {
   "cell_type": "code",
   "execution_count": 2,
   "metadata": {},
   "outputs": [
    {
     "name": "stdout",
     "output_type": "stream",
     "text": [
      "0\n",
      "20\n",
      "5\n",
      "29\n",
      "28\n"
     ]
    }
   ],
   "source": [
    "print(solution(2**31-1))\n",
    "print(solution(6291457))\n",
    "print(solution(1376796946))\n",
    "print(solution(1073741825))\n",
    "print(solution(1610612737))"
   ]
  }
 ],
 "metadata": {
  "kernelspec": {
   "display_name": "Python 3",
   "language": "python",
   "name": "python3"
  },
  "language_info": {
   "codemirror_mode": {
    "name": "ipython",
    "version": 3
   },
   "file_extension": ".py",
   "mimetype": "text/x-python",
   "name": "python",
   "nbconvert_exporter": "python",
   "pygments_lexer": "ipython3",
   "version": "3.8.3"
  }
 },
 "nbformat": 4,
 "nbformat_minor": 4
}
