{
 "cells": [
  {
   "cell_type": "markdown",
   "metadata": {},
   "source": [
    "# Solution #1"
   ]
  },
  {
   "cell_type": "code",
   "execution_count": null,
   "metadata": {},
   "outputs": [],
   "source": [
    "\"\"\"\n",
    "Codility\n",
    "Category : Prefix Sums\n",
    "Problem Number : 14\n",
    "Problem Title : MinAvgTwoSlice\n",
    "Link : https://app.codility.com/programmers/lessons/5-prefix_sums/min_avg_two_slice/start/\n",
    "Difficulty : Medium\n",
    "Description : Find the minimal average of any slice containing at least two elements.\n",
    "\"\"\"\n",
    "#Task Score : 100%\n",
    "#Correctness : 100%\n",
    "#Performance : 100%\n",
    "#Time Complexity : O(N)\n",
    "def solution(A):\n",
    "    _min = float(\"inf\")\n",
    "    ans = 0\n",
    "    for i in range(0, len(A)-1):\n",
    "        avg = (A[i]+A[i+1])/2\n",
    "        if _min > avg :\n",
    "            _min = avg\n",
    "            ans = i\n",
    "\n",
    "    for j in range(0, len(A)-2):\n",
    "        avg = (A[j]+A[j+1]+A[j+2])/3\n",
    "        if _min > avg :\n",
    "            _min = avg\n",
    "            ans = j\n",
    "    return ans"
   ]
  }
 ],
 "metadata": {
  "kernelspec": {
   "display_name": "Python 3",
   "language": "python",
   "name": "python3"
  },
  "language_info": {
   "codemirror_mode": {
    "name": "ipython",
    "version": 3
   },
   "file_extension": ".py",
   "mimetype": "text/x-python",
   "name": "python",
   "nbconvert_exporter": "python",
   "pygments_lexer": "ipython3",
   "version": "3.8.3"
  }
 },
 "nbformat": 4,
 "nbformat_minor": 4
}
