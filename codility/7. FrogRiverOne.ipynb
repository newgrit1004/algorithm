{
 "cells": [
  {
   "cell_type": "markdown",
   "metadata": {},
   "source": [
    "# Solution #1"
   ]
  },
  {
   "cell_type": "code",
   "execution_count": null,
   "metadata": {},
   "outputs": [],
   "source": [
    "\"\"\"\n",
    "Codility\n",
    "Category : Counting Elements\n",
    "Problem Number : 7\n",
    "Problem Title : FrogRiverOne\n",
    "Link : https://app.codility.com/programmers/lessons/4-counting_elements/frog_river_one/start/\n",
    "Difficulty : Easy\n",
    "Description : Find the earliest time when a frog can jump to the other side of a river.\n",
    "\"\"\"\n",
    "def solution(X, A): #Dynamic Programming\n",
    "    \n",
    "    check = [0]*X\n",
    "    tmp = 0        \n",
    "    for idx, value in enumerate(A):\n",
    "        if not check[A[idx]-1]:\n",
    "            check[A[idx]-1] = 1\n",
    "            tmp += 1\n",
    "        if tmp == X:\n",
    "            return idx\n",
    "\n",
    "    return -1"
   ]
  },
  {
   "cell_type": "markdown",
   "metadata": {},
   "source": [
    "# Solution #2"
   ]
  },
  {
   "cell_type": "code",
   "execution_count": null,
   "metadata": {},
   "outputs": [],
   "source": [
    "def solution(X, A): #Dynamic Programming\n",
    "    nums = set()\n",
    "    for idx, value in enumerate(A):\n",
    "        nums.add(value) # time complexity = O(1)\n",
    "        if len(nums) == X:\n",
    "            return idx\n",
    "        \n",
    "    return -1"
   ]
  }
 ],
 "metadata": {
  "kernelspec": {
   "display_name": "Python 3",
   "language": "python",
   "name": "python3"
  },
  "language_info": {
   "codemirror_mode": {
    "name": "ipython",
    "version": 3
   },
   "file_extension": ".py",
   "mimetype": "text/x-python",
   "name": "python",
   "nbconvert_exporter": "python",
   "pygments_lexer": "ipython3",
   "version": "3.8.3"
  }
 },
 "nbformat": 4,
 "nbformat_minor": 4
}
