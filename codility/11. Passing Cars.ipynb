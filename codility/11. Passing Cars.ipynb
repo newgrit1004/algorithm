{
 "cells": [
  {
   "cell_type": "markdown",
   "metadata": {},
   "source": [
    "# Solution #1"
   ]
  },
  {
   "cell_type": "code",
   "execution_count": null,
   "metadata": {},
   "outputs": [],
   "source": [
    "\"\"\"\n",
    "Codility\n",
    "Category : Prefix Sums\n",
    "Problem Number : 11\n",
    "Problem Title : PassingCars\n",
    "Link : https://app.codility.com/programmers/lessons/5-prefix_sums/passing_cars/start/\n",
    "Difficulty : Easy\n",
    "Description : Count the number of passing cars on the road.\n",
    "\"\"\"\n",
    "#Task Score : 50%\n",
    "#Correctness : 100%\n",
    "#Performance : 0%\n",
    "#Time Complexity : O(N^2)\n",
    "def solution(A):\n",
    "    # write your code in Python 3.6\n",
    "    # print(type(A)) A : list\n",
    "    cnt = 0\n",
    "    for i in range(len(A)):\n",
    "        if A[i] == 0:\n",
    "            cnt += A[i+1:].count(1)\n",
    "    \n",
    "    return cnt if cnt < 1000000000 else -1"
   ]
  },
  {
   "cell_type": "markdown",
   "metadata": {},
   "source": [
    "# Solution #2"
   ]
  },
  {
   "cell_type": "code",
   "execution_count": null,
   "metadata": {},
   "outputs": [],
   "source": [
    "#Task Score : 100%\n",
    "#Correctness : 100%\n",
    "#Performance : 100%\n",
    "#Time Complexity : O(N)\n",
    "def solution(A):\n",
    "    # write your code in Python 3.6\n",
    "    # print(type(A)) A : list\n",
    "    zero_cnt = 0\n",
    "    total = 0\n",
    "    for i in range(len(A)):\n",
    "        if A[i] == 0:\n",
    "            zero_cnt += 1\n",
    "        else:\n",
    "            total += zero_cnt #when A[i] = 1, add zero_cnt to total\n",
    "    \n",
    "    return total if total <= 1000000000 else -1"
   ]
  }
 ],
 "metadata": {
  "kernelspec": {
   "display_name": "Python 3",
   "language": "python",
   "name": "python3"
  },
  "language_info": {
   "codemirror_mode": {
    "name": "ipython",
    "version": 3
   },
   "file_extension": ".py",
   "mimetype": "text/x-python",
   "name": "python",
   "nbconvert_exporter": "python",
   "pygments_lexer": "ipython3",
   "version": "3.8.3"
  }
 },
 "nbformat": 4,
 "nbformat_minor": 4
}
