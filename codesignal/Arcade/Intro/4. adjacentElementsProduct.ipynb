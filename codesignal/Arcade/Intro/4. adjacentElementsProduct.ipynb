{
 "cells": [
  {
   "cell_type": "code",
   "execution_count": null,
   "metadata": {},
   "outputs": [],
   "source": [
    "\"\"\"\n",
    "CodeSignal\n",
    "Problem Number : 4\n",
    "Problem Title : adjacentElementsProduct\n",
    "Link : https://app.codesignal.com/arcade/intro/level-2/xzKiBHjhoinnpdh6m\n",
    "Category : Array\n",
    "\"\"\"\n",
    "def solution(array):\n",
    "    \n",
    "    first = array[0]*array[1]\n",
    "    for i in range(1,len(array)-1):\n",
    "        product = array[i]*array[i+1]\n",
    "        if product > first:\n",
    "            first = product\n",
    "            \n",
    "    return first"
   ]
  }
 ],
 "metadata": {
  "kernelspec": {
   "display_name": "Python 3",
   "language": "python",
   "name": "python3"
  },
  "language_info": {
   "codemirror_mode": {
    "name": "ipython",
    "version": 3
   },
   "file_extension": ".py",
   "mimetype": "text/x-python",
   "name": "python",
   "nbconvert_exporter": "python",
   "pygments_lexer": "ipython3",
   "version": "3.8.3"
  }
 },
 "nbformat": 4,
 "nbformat_minor": 4
}
