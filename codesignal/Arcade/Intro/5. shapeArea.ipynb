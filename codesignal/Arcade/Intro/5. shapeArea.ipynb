{
 "cells": [
  {
   "cell_type": "code",
   "execution_count": null,
   "metadata": {},
   "outputs": [],
   "source": [
    "\"\"\"\n",
    "CodeSignal\n",
    "Problem Number : 5\n",
    "Problem Title : shapeArea\n",
    "Link : https://app.codesignal.com/arcade/intro/level-2/yuGuHvcCaFCKk56rJ\n",
    "Category : Math\n",
    "\"\"\"\n",
    "def solution(n):\n",
    "    return 2*(n**2)-2*n+1\n"
   ]
  }
 ],
 "metadata": {
  "kernelspec": {
   "display_name": "Python 3",
   "language": "python",
   "name": "python3"
  },
  "language_info": {
   "codemirror_mode": {
    "name": "ipython",
    "version": 3
   },
   "file_extension": ".py",
   "mimetype": "text/x-python",
   "name": "python",
   "nbconvert_exporter": "python",
   "pygments_lexer": "ipython3",
   "version": "3.8.3"
  }
 },
 "nbformat": 4,
 "nbformat_minor": 4
}
