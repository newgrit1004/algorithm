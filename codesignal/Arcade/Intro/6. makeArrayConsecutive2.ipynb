{
 "cells": [
  {
   "cell_type": "code",
   "execution_count": null,
   "metadata": {},
   "outputs": [],
   "source": [
    "\"\"\"\n",
    "CodeSignal\n",
    "Problem Number : 6\n",
    "Problem Title : makeArrayConsecutive 2\n",
    "Link : https://app.codesignal.com/arcade/intro/level-2/bq2XnSr5kbHqpHGJC\n",
    "Category : Math\n",
    "\"\"\"\n",
    "\n",
    "def solution(statues):\n",
    "    return max(statues)-min(statues)-len(statues)+1\n"
   ]
  }
 ],
 "metadata": {
  "kernelspec": {
   "display_name": "Python 3",
   "language": "python",
   "name": "python3"
  },
  "language_info": {
   "codemirror_mode": {
    "name": "ipython",
    "version": 3
   },
   "file_extension": ".py",
   "mimetype": "text/x-python",
   "name": "python",
   "nbconvert_exporter": "python",
   "pygments_lexer": "ipython3",
   "version": "3.8.3"
  }
 },
 "nbformat": 4,
 "nbformat_minor": 4
}
