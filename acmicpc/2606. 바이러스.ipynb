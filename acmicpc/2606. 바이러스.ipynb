{
 "cells": [
  {
   "cell_type": "code",
   "execution_count": null,
   "metadata": {},
   "outputs": [],
   "source": [
    "\"\"\"\n",
    "Acmicpc(백준)\n",
    "Problem Number : 2606\n",
    "Problem Title : 바이러스\n",
    "Link : https://www.acmicpc.net/problem/2606\n",
    "Category : Graph, DFS/BFS\n",
    "\"\"\"\n",
    "#%%\n",
    "N = int(input()) #컴퓨터의 수\n",
    "pairs = int(input()) #쌍의 개수\n",
    "graph = dict()\n",
    "\n",
    "for _ in range(pairs):\n",
    "    root, node = map(int, input().split())\n",
    "    graph[root] = graph.get(root, []) + [node]\n",
    "    graph[node] = graph.get(node, []) + [root]\n",
    "    \n",
    "\n",
    "#%%\n",
    "cnt = 0\n",
    "visited = [0]*(N+1)\n",
    "\n",
    "def dfs(graph, node):\n",
    "    global cnt\n",
    "    visited[node] = 1\n",
    "    \n",
    "    for node in graph[node]:\n",
    "        if not visited[node]:\n",
    "            cnt += 1\n",
    "            dfs(graph, node)\n",
    "\n",
    "dfs(graph, 1)\n",
    "print(cnt)"
   ]
  }
 ],
 "metadata": {
  "kernelspec": {
   "display_name": "Python 3",
   "language": "python",
   "name": "python3"
  },
  "language_info": {
   "codemirror_mode": {
    "name": "ipython",
    "version": 3
   },
   "file_extension": ".py",
   "mimetype": "text/x-python",
   "name": "python",
   "nbconvert_exporter": "python",
   "pygments_lexer": "ipython3",
   "version": "3.8.3"
  }
 },
 "nbformat": 4,
 "nbformat_minor": 4
}
