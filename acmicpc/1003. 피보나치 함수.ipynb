{
 "cells": [
  {
   "cell_type": "code",
   "execution_count": null,
   "metadata": {},
   "outputs": [],
   "source": [
    "\"\"\"\n",
    "Acmicpc(백준)\n",
    "Problem Number : 1003\n",
    "Problem Title : 피보나치 함수\n",
    "Link : https://www.acmicpc.net/problem/1003\n",
    "Category : DP\n",
    "\"\"\"\n",
    "def memorization():\n",
    "    zero = [1, 0, 1]\n",
    "    one = [0, 1, 1]\n",
    "    for i in range(3, 41):\n",
    "        zero.append(zero[i-2]+zero[i-1])\n",
    "        one.append(one[i-2]+one[i-1])\n",
    "    return zero, one\n",
    "\n",
    "N = int(input())\n",
    "zero, one = memorization()\n",
    "\n",
    "def fibonacci(idx:int):\n",
    "    print('{} {}'.format(zero[idx], one[idx]))\n",
    "    \n",
    "for _ in range(N):\n",
    "    fibonacci(int(input()))"
   ]
  }
 ],
 "metadata": {
  "kernelspec": {
   "display_name": "Python 3",
   "language": "python",
   "name": "python3"
  },
  "language_info": {
   "codemirror_mode": {
    "name": "ipython",
    "version": 3
   },
   "file_extension": ".py",
   "mimetype": "text/x-python",
   "name": "python",
   "nbconvert_exporter": "python",
   "pygments_lexer": "ipython3",
   "version": "3.8.3"
  }
 },
 "nbformat": 4,
 "nbformat_minor": 4
}
