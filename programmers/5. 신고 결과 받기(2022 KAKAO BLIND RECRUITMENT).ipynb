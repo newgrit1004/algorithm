{
 "cells": [
  {
   "cell_type": "code",
   "execution_count": 1,
   "metadata": {},
   "outputs": [],
   "source": [
    "\"\"\"\n",
    "Programmers\n",
    "Category : Hash\n",
    "Problem Number : 5\n",
    "Problem Title : 신고 결과 받기(2022 KAKAO BLIND RECRUITMENT)\n",
    "Link : https://programmers.co.kr/learn/courses/30/lessons/92334?language=python3\n",
    "Difficulty : level 1\n",
    "\"\"\"\n",
    "def solution(id_list, report, k):\n",
    "    \n",
    "    mail_dict = {id:[] for id in id_list}\n",
    "    bad_dict = {id:0 for id in id_list}\n",
    "    \n",
    "    report = set(report)#중복 제거. 필수\n",
    "    \n",
    "    for i in report:\n",
    "        reporter, bad = i.split()\n",
    "        mail_dict[reporter] = mail_dict[reporter] + [bad]\n",
    "        bad_dict[bad] = bad_dict[bad] + 1\n",
    "    \n",
    "    answer = list()    \n",
    "    for person in mail_dict:\n",
    "        cnt = 0\n",
    "        for bad in mail_dict[person]:\n",
    "            if bad_dict[bad] >= k :\n",
    "                cnt += 1\n",
    "        answer.append(cnt)\n",
    "    \n",
    "    return answer"
   ]
  },
  {
   "cell_type": "code",
   "execution_count": null,
   "metadata": {},
   "outputs": [],
   "source": []
  }
 ],
 "metadata": {
  "kernelspec": {
   "display_name": "Python 3",
   "language": "python",
   "name": "python3"
  },
  "language_info": {
   "codemirror_mode": {
    "name": "ipython",
    "version": 3
   },
   "file_extension": ".py",
   "mimetype": "text/x-python",
   "name": "python",
   "nbconvert_exporter": "python",
   "pygments_lexer": "ipython3",
   "version": "3.8.3"
  }
 },
 "nbformat": 4,
 "nbformat_minor": 4
}
