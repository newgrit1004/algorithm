{
 "cells": [
  {
   "cell_type": "code",
   "execution_count": 1,
   "id": "aefdf076",
   "metadata": {},
   "outputs": [],
   "source": [
    "\"\"\"\n",
    "Programmers\n",
    "Category : 문자열, 자카드 유사도\n",
    "Problem Number : 10\n",
    "Problem Title : 뉴스 클러스터링(2018 KAKAO BLIND RECRUITMENT)\n",
    "Link : https://programmers.co.kr/learn/courses/30/lessons/17677?language=python3\n",
    "Difficulty : level 2\n",
    "\"\"\"\n",
    "from collections import Counter\n",
    "def jaccard(a, b):\n",
    "    set1 = Counter(a)\n",
    "    set2 = Counter(b)\n",
    "    \n",
    "    intersection = list((set1&set2).elements())\n",
    "    total = list((set1|set2).elements())\n",
    "    if len(total)==0 and len(intersection)==0:\n",
    "        return 1*65536\n",
    "    else:\n",
    "        return int(len(intersection)*65536/len(total))\n",
    "    \n",
    "\n",
    "\n",
    "def solution(str1, str2):\n",
    "    makeset = lambda x : [x[i:i+2].lower() for i in range(len(x)-1) if x[i:i+2].isalpha()]\n",
    "    str1 = makeset(str1)\n",
    "    str2 = makeset(str2)\n",
    "    \n",
    "    answer = jaccard(str1, str2)\n",
    "    \n",
    "    return answer"
   ]
  },
  {
   "cell_type": "code",
   "execution_count": 2,
   "id": "541fdd06",
   "metadata": {},
   "outputs": [
    {
     "data": {
      "text/plain": [
       "16384"
      ]
     },
     "execution_count": 2,
     "metadata": {},
     "output_type": "execute_result"
    }
   ],
   "source": [
    "solution('FRANCE', 'french')"
   ]
  },
  {
   "cell_type": "code",
   "execution_count": 3,
   "id": "e6bc9d0e",
   "metadata": {},
   "outputs": [
    {
     "data": {
      "text/plain": [
       "65536"
      ]
     },
     "execution_count": 3,
     "metadata": {},
     "output_type": "execute_result"
    }
   ],
   "source": [
    "solution('handshake', 'shake hands')"
   ]
  },
  {
   "cell_type": "code",
   "execution_count": 4,
   "id": "36a3e865",
   "metadata": {},
   "outputs": [
    {
     "data": {
      "text/plain": [
       "43690"
      ]
     },
     "execution_count": 4,
     "metadata": {},
     "output_type": "execute_result"
    }
   ],
   "source": [
    "solution('aa1+aa2', 'AAAA12')"
   ]
  },
  {
   "cell_type": "code",
   "execution_count": 5,
   "id": "cf059fcc",
   "metadata": {},
   "outputs": [
    {
     "data": {
      "text/plain": [
       "65536"
      ]
     },
     "execution_count": 5,
     "metadata": {},
     "output_type": "execute_result"
    }
   ],
   "source": [
    "solution('E=M*C^2', 'e=m*c^2')"
   ]
  },
  {
   "cell_type": "code",
   "execution_count": null,
   "id": "8e007841",
   "metadata": {},
   "outputs": [],
   "source": []
  }
 ],
 "metadata": {
  "kernelspec": {
   "display_name": "Python 3 (ipykernel)",
   "language": "python",
   "name": "python3"
  },
  "language_info": {
   "codemirror_mode": {
    "name": "ipython",
    "version": 3
   },
   "file_extension": ".py",
   "mimetype": "text/x-python",
   "name": "python",
   "nbconvert_exporter": "python",
   "pygments_lexer": "ipython3",
   "version": "3.9.7"
  }
 },
 "nbformat": 4,
 "nbformat_minor": 5
}
