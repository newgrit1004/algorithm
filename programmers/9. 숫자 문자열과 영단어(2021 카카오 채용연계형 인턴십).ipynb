{
 "cells": [
  {
   "cell_type": "code",
   "execution_count": 1,
   "id": "02484ea4",
   "metadata": {},
   "outputs": [],
   "source": [
    "\"\"\"\n",
    "Programmers\n",
    "Category : 문자열\n",
    "Problem Number : 9\n",
    "Problem Title : 숫자 문자열과 영단어(2021 카카오 채용연계형 인턴십)\n",
    "Link : https://programmers.co.kr/learn/courses/30/lessons/81301?language=python3\n",
    "Difficulty : level 1\n",
    "\"\"\"\n",
    "def solution(s):\n",
    "    answer = list()\n",
    "    alpha = {\"zero\":'0', 'one':'1', 'two':'2', 'three':'3',\n",
    "             'four':'4', 'five':'5', 'six':'6', 'seven':'7',\n",
    "             'eight':'8', 'nine':'9'}\n",
    "    \n",
    "    for key, value in alpha.items():\n",
    "        s = s.replace(key, value)\n",
    "    \n",
    "    return int(s)"
   ]
  },
  {
   "cell_type": "code",
   "execution_count": 2,
   "id": "2248504d",
   "metadata": {},
   "outputs": [
    {
     "data": {
      "text/plain": [
       "1478"
      ]
     },
     "execution_count": 2,
     "metadata": {},
     "output_type": "execute_result"
    }
   ],
   "source": [
    "solution('one4seveneight')"
   ]
  },
  {
   "cell_type": "code",
   "execution_count": 3,
   "id": "fb9d8ceb",
   "metadata": {},
   "outputs": [
    {
     "data": {
      "text/plain": [
       "234567"
      ]
     },
     "execution_count": 3,
     "metadata": {},
     "output_type": "execute_result"
    }
   ],
   "source": [
    "solution(\"23four5six7\")"
   ]
  },
  {
   "cell_type": "code",
   "execution_count": 4,
   "id": "c5511d43",
   "metadata": {},
   "outputs": [
    {
     "data": {
      "text/plain": [
       "234567"
      ]
     },
     "execution_count": 4,
     "metadata": {},
     "output_type": "execute_result"
    }
   ],
   "source": [
    "solution(\"2three45sixseven\")"
   ]
  },
  {
   "cell_type": "code",
   "execution_count": 5,
   "id": "ecb04fc2",
   "metadata": {},
   "outputs": [
    {
     "data": {
      "text/plain": [
       "123"
      ]
     },
     "execution_count": 5,
     "metadata": {},
     "output_type": "execute_result"
    }
   ],
   "source": [
    "solution(\"123\")"
   ]
  },
  {
   "cell_type": "code",
   "execution_count": null,
   "id": "737df6a9",
   "metadata": {},
   "outputs": [],
   "source": []
  }
 ],
 "metadata": {
  "kernelspec": {
   "display_name": "Python 3 (ipykernel)",
   "language": "python",
   "name": "python3"
  },
  "language_info": {
   "codemirror_mode": {
    "name": "ipython",
    "version": 3
   },
   "file_extension": ".py",
   "mimetype": "text/x-python",
   "name": "python",
   "nbconvert_exporter": "python",
   "pygments_lexer": "ipython3",
   "version": "3.9.7"
  }
 },
 "nbformat": 4,
 "nbformat_minor": 5
}
