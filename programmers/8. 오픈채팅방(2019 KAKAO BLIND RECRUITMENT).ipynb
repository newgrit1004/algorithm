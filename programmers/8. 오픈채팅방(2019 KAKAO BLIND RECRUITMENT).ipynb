{
 "cells": [
  {
   "cell_type": "code",
   "execution_count": null,
   "id": "eaea6a5a",
   "metadata": {},
   "outputs": [],
   "source": [
    "\"\"\"\n",
    "Programmers\n",
    "Category : 해쉬\n",
    "Problem Number : 8\n",
    "Problem Title : 오픈채팅방(2019 KAKAO BLIND RECRUITMENT)\n",
    "Link : https://programmers.co.kr/learn/courses/30/lessons/42888?language=python3\n",
    "Difficulty : level 2\n",
    "\"\"\"\n",
    "\n",
    "def solution(record):\n",
    "    ans = dict()\n",
    "    for i in record:\n",
    "        data = i.split()\n",
    "        if len(data) == 3:\n",
    "            state, uid, nick = data\n",
    "            if state == 'Enter':\n",
    "                ans[uid] = nick\n",
    "            elif state == 'Change':\n",
    "                ans[uid] = nick\n",
    "            \n",
    "    result = list()\n",
    "    \n",
    "    for i in record:\n",
    "        data = i.split()\n",
    "        state, uid = data[0], data[1]\n",
    "        if state == 'Enter':\n",
    "            result.append(f'{ans[uid]}님이 들어왔습니다.')\n",
    "        elif state == 'Leave':\n",
    "            result.append(f'{ans[uid]}님이 나갔습니다.')\n",
    "            \n",
    "    \n",
    "    return result"
   ]
  }
 ],
 "metadata": {
  "kernelspec": {
   "display_name": "Python 3 (ipykernel)",
   "language": "python",
   "name": "python3"
  },
  "language_info": {
   "codemirror_mode": {
    "name": "ipython",
    "version": 3
   },
   "file_extension": ".py",
   "mimetype": "text/x-python",
   "name": "python",
   "nbconvert_exporter": "python",
   "pygments_lexer": "ipython3",
   "version": "3.9.7"
  }
 },
 "nbformat": 4,
 "nbformat_minor": 5
}
