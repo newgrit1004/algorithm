{
 "cells": [
  {
   "cell_type": "code",
   "execution_count": null,
   "metadata": {},
   "outputs": [],
   "source": [
    "\"\"\"\n",
    "Programmers\n",
    "Category : Hash\n",
    "Problem Number : 4\n",
    "Problem Title : 베스트앨범\n",
    "Link : https://programmers.co.kr/learn/courses/30/lessons/42579\n",
    "Difficulty : level 3\n",
    "\"\"\"\n",
    "\n",
    "def solution(genres, plays):\n",
    "    genre_dict = dict()\n",
    "    for idx, value in enumerate(genres):\n",
    "        genre_dict[value] = [(idx, plays[idx])] + genre_dict.get(value, list()) #예를 들면 genre_dict['pop']이 없으면 default list()\n",
    "        \n",
    "\n",
    "    #장르 중에 sum값이 높은 장르부터 내림차순\n",
    "    genre_dict = dict(sorted(genre_dict.items(), key=lambda x : sum([i[1] for i in x[1]]), reverse=True)) \n",
    "    \n",
    "    for genre, playlist in genre_dict.items():\n",
    "        genre_dict[genre] = sorted(playlist, key=lambda x : (x[1], -x[0]), reverse=True)\n",
    "    \n",
    "    ans = list()\n",
    "    for genre in genre_dict:\n",
    "        ans += [i[0] for i in genre_dict[genre][:2]]\n",
    "    \n",
    "    return ans\n",
    "    \n",
    "    "
   ]
  }
 ],
 "metadata": {
  "kernelspec": {
   "display_name": "Python 3",
   "language": "python",
   "name": "python3"
  },
  "language_info": {
   "codemirror_mode": {
    "name": "ipython",
    "version": 3
   },
   "file_extension": ".py",
   "mimetype": "text/x-python",
   "name": "python",
   "nbconvert_exporter": "python",
   "pygments_lexer": "ipython3",
   "version": "3.8.3"
  }
 },
 "nbformat": 4,
 "nbformat_minor": 4
}
