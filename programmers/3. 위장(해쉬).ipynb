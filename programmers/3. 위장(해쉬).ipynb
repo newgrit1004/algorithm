{
 "cells": [
  {
   "cell_type": "code",
   "execution_count": 1,
   "metadata": {},
   "outputs": [],
   "source": [
    "\"\"\"\n",
    "Programmers\n",
    "Category : Hash\n",
    "Problem Number : 3\n",
    "Problem Title : 위장\n",
    "Link : https://programmers.co.kr/learn/courses/30/lessons/42578?language=python3\n",
    "Difficulty : level 3\n",
    "\"\"\"\n",
    "def solution(clothes):\n",
    "    comb = dict()\n",
    "    \n",
    "    for name, key in clothes:\n",
    "        count = comb.get(key,0)\n",
    "        comb[key] = count + 1\n",
    "    \n",
    "    ans = 1\n",
    "    \n",
    "    for value in comb.values():\n",
    "        ans *= (value+1)\n",
    "    \n",
    "    return ans-1"
   ]
  },
  {
   "cell_type": "code",
   "execution_count": 2,
   "metadata": {},
   "outputs": [
    {
     "name": "stdout",
     "output_type": "stream",
     "text": [
      "5\n",
      "3\n"
     ]
    }
   ],
   "source": [
    "print(solution([[\"yellowhat\", \"headgear\"], [\"bluesunglasses\", \"eyewear\"], [\"green_turban\", \"headgear\"]]))\n",
    "print(solution([[\"crowmask\", \"face\"], [\"bluesunglasses\", \"face\"], [\"smoky_makeup\", \"face\"]]))"
   ]
  },
  {
   "cell_type": "code",
   "execution_count": null,
   "metadata": {},
   "outputs": [],
   "source": []
  }
 ],
 "metadata": {
  "kernelspec": {
   "display_name": "Python 3",
   "language": "python",
   "name": "python3"
  },
  "language_info": {
   "codemirror_mode": {
    "name": "ipython",
    "version": 3
   },
   "file_extension": ".py",
   "mimetype": "text/x-python",
   "name": "python",
   "nbconvert_exporter": "python",
   "pygments_lexer": "ipython3",
   "version": "3.8.3"
  }
 },
 "nbformat": 4,
 "nbformat_minor": 4
}
