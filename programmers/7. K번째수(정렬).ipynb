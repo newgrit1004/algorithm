{
 "cells": [
  {
   "cell_type": "code",
   "execution_count": null,
   "metadata": {},
   "outputs": [],
   "source": [
    "\"\"\"\n",
    "Programmers\n",
    "Category : Hash\n",
    "Problem Number : 5\n",
    "Problem Title : K번째수\n",
    "Link : https://programmers.co.kr/learn/courses/30/lessons/42748?language=python3\n",
    "Difficulty : level 1\n",
    "\"\"\"\n",
    "def solution(array, commands):\n",
    "    answer = []\n",
    "    \n",
    "    for idx in range(len(commands)):\n",
    "        i = commands[idx][0]\n",
    "        j = commands[idx][1]\n",
    "        k = commands[idx][2]\n",
    "        \n",
    "        new_array = sorted(array[i-1:j])\n",
    "        \n",
    "        answer.append(new_array[k-1])\n",
    "    \n",
    "    return answer"
   ]
  }
 ],
 "metadata": {
  "kernelspec": {
   "display_name": "Python 3 (ipykernel)",
   "language": "python",
   "name": "python3"
  },
  "language_info": {
   "codemirror_mode": {
    "name": "ipython",
    "version": 3
   },
   "file_extension": ".py",
   "mimetype": "text/x-python",
   "name": "python",
   "nbconvert_exporter": "python",
   "pygments_lexer": "ipython3",
   "version": "3.9.7"
  }
 },
 "nbformat": 4,
 "nbformat_minor": 4
}
