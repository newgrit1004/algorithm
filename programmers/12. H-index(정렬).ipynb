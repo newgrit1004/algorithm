{
 "cells": [
  {
   "cell_type": "code",
   "execution_count": null,
   "id": "923c415f",
   "metadata": {},
   "outputs": [],
   "source": [
    "\"\"\"\n",
    "Programmers\n",
    "Category : 문자열\n",
    "Problem Number : 12\n",
    "Problem Title : H-Index\n",
    "Link : https://programmers.co.kr/learn/courses/30/lessons/42747?language=python3\n",
    "Difficulty : level 2\n",
    "\"\"\"\n",
    "def solution(citations):\n",
    "    citations.sort()\n",
    "    l = len(citations)\n",
    "    for i in range(l):\n",
    "        if citations[i] >= l-i:\n",
    "            # 논문이 인용된 횟수(h번 이상) >= 인용된 논문의 개수(h개 == h번)\n",
    "            return l-i\n",
    "    return 0"
   ]
  }
 ],
 "metadata": {
  "kernelspec": {
   "display_name": "Python 3 (ipykernel)",
   "language": "python",
   "name": "python3"
  },
  "language_info": {
   "codemirror_mode": {
    "name": "ipython",
    "version": 3
   },
   "file_extension": ".py",
   "mimetype": "text/x-python",
   "name": "python",
   "nbconvert_exporter": "python",
   "pygments_lexer": "ipython3",
   "version": "3.9.7"
  }
 },
 "nbformat": 4,
 "nbformat_minor": 5
}
